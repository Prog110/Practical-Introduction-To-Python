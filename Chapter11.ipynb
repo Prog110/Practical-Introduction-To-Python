{
 "cells": [
  {
   "cell_type": "markdown",
   "metadata": {},
   "source": [
    "Modules"
   ]
  },
  {
   "cell_type": "code",
   "execution_count": 1,
   "metadata": {},
   "outputs": [],
   "source": [
    "from string import punctuation as punc\n",
    "from random import *"
   ]
  },
  {
   "cell_type": "markdown",
   "metadata": {},
   "source": [
    "E1, E2"
   ]
  },
  {
   "cell_type": "code",
   "execution_count": null,
   "metadata": {},
   "outputs": [],
   "source": [
    "d, done = {}, False\n",
    "while done == False:\n",
    "  key = input('Enter product\\'s name(to exit enter \\'exit\\'): ')\n",
    "  key = key.lower()\n",
    "  if key == 'exit':\n",
    "    done = True\n",
    "  else:\n",
    "    value = eval(input('Enter product\\'s price: '))\n",
    "    d[key] = value\n",
    "done = False\n",
    "while done == False:\n",
    "  key = input('Enter product\\'s name (to exit enter \\'exit\\'): ')\n",
    "  if key == 'exit':\n",
    "    done = True\n",
    "  elif key in d:\n",
    "    print('{}: {:,d}'.format(key.capitalize(), d[key]))\n",
    "  else:\n",
    "    print('Product is not in the list')\n",
    "m = eval(input('Enter an amount that you want to check: '))\n",
    "c = {}\n",
    "for i in d:\n",
    "  if d[i] < m:\n",
    "    c[i] = d[i]\n",
    "if c == {}:\n",
    "  print('There is\\'nt anything')\n",
    "else:\n",
    "  for i in c:\n",
    "    print('{}: {:,d}'.format(i, d[i]))"
   ]
  },
  {
   "cell_type": "markdown",
   "metadata": {},
   "source": [
    "E3"
   ]
  },
  {
   "cell_type": "code",
   "execution_count": 3,
   "metadata": {},
   "outputs": [
    {
     "name": "stdout",
     "output_type": "stream",
     "text": [
      "(a) Invalid input\n",
      "(b)  ['April', 'August', 'December', 'February', 'January', 'July', 'June', 'March', 'May', 'November', 'October', 'September']\n",
      "(c) January March May July August October December \n",
      "(d) February-28 April-30 June-30 November-30 September-30 August-31 December-31 January-31 July-31 March-31 May-31 October-31 \n",
      "(e) Invalid input\n"
     ]
    }
   ],
   "source": [
    "days = {'January':31, 'February':28, 'March':31, 'April':30,\n",
    "'May':31, 'June':30, 'July':31, 'August':31,\n",
    "'September':30, 'October':31, 'November':30, 'December':31}\n",
    "name = input('Enter a month: ')\n",
    "if name.capitalize() in days:\n",
    "  print('(a) {}: {}'.format(name.capitalize(), days[name.capitalize()]))\n",
    "else:\n",
    "  print('(a) Invalid input')\n",
    "l = list(days)\n",
    "l.sort()\n",
    "print('(b) ', l)\n",
    "print('(c) ',end='')\n",
    "for i in days:\n",
    "  if days[i] == 31:\n",
    "    print(i, end=' ')\n",
    "print()\n",
    "l = list(days.items())\n",
    "for i in range(len(l)):\n",
    "  l[i] = l[i][ : :-1]\n",
    "l.sort()\n",
    "print('(d) ', end='')\n",
    "for i in l:\n",
    "  print('{}-{}'.format(i[1],i[0]), end=' ')\n",
    "print()\n",
    "print('(e) ',end='')\n",
    "name = input('Enter a month(first three letters): ')\n",
    "for i in days:\n",
    "  if i[ :3] == name.capitalize():\n",
    "    print(i, ':', days[i])\n",
    "    break\n",
    "else:\n",
    "  print('Invalid input')"
   ]
  },
  {
   "cell_type": "markdown",
   "metadata": {},
   "source": [
    "E4"
   ]
  },
  {
   "cell_type": "code",
   "execution_count": 4,
   "metadata": {},
   "outputs": [
    {
     "name": "stdout",
     "output_type": "stream",
     "text": [
      "Invalid user\n",
      "Invalid user\n",
      "Invalid user\n",
      "Invalid user\n",
      "Invalid user\n",
      "Invalid user\n",
      "Invalid user\n",
      "Invalid user\n",
      "Invalid user\n",
      "Invalid user\n"
     ]
    }
   ],
   "source": [
    "d = {'player0': '123456a', 'player1': '123456a', 'player2': '123456a', 'player3': '123456a', 'player4': '123456a', 'player5': '123456a'}\n",
    "done = False\n",
    "while done == False:\n",
    "  username = input('Enter your username(to exit enter \\'exit\\'): ')\n",
    "  if username.lower() == 'exit':\n",
    "    done = True\n",
    "  elif username in d:\n",
    "    password = input('Enter your password:')\n",
    "    if password == d[username]:\n",
    "      print('Logged in...')\n",
    "      done = True\n",
    "    else:\n",
    "      print('Invalid password')\n",
    "  else:\n",
    "    print('Invalid user')"
   ]
  },
  {
   "cell_type": "markdown",
   "metadata": {},
   "source": [
    "E5"
   ]
  },
  {
   "cell_type": "code",
   "execution_count": 5,
   "metadata": {},
   "outputs": [
    {
     "ename": "SyntaxError",
     "evalue": "invalid syntax (<string>, line 0)",
     "output_type": "error",
     "traceback": [
      "Traceback \u001b[1;36m(most recent call last)\u001b[0m:\n",
      "  File \u001b[0;32m~\\AppData\\Roaming\\Python\\Python310\\site-packages\\IPython\\core\\interactiveshell.py:3369\u001b[0m in \u001b[0;35mrun_code\u001b[0m\n    exec(code_obj, self.user_global_ns, self.user_ns)\n",
      "\u001b[1;36m  Input \u001b[1;32mIn [5]\u001b[1;36m in \u001b[1;35m<cell line: 3>\u001b[1;36m\u001b[0m\n\u001b[1;33m    w = eval(input('How many time the team won:(to exit, enter \\'exit\\') '))\u001b[0m\n",
      "\u001b[1;36m  File \u001b[1;32m<string>\u001b[1;36m\u001b[0m\n\u001b[1;33m    \u001b[0m\n\u001b[1;37m    ^\u001b[0m\n\u001b[1;31mSyntaxError\u001b[0m\u001b[1;31m:\u001b[0m invalid syntax\n"
     ]
    }
   ],
   "source": [
    "done, d, l0, l1 = False, [], [], []\n",
    "dic = {}\n",
    "while not done:\n",
    "   x = input('Enter a team name:(to exit, enter \\'exit\\')')\n",
    "   if x.lower() == 'exit':\n",
    "      done = True\n",
    "   else:\n",
    "      w = eval(input('How many time the team won:(to exit, enter \\'exit\\') '))\n",
    "      if x.lower() == 'exit':\n",
    "         done = True\n",
    "      l = eval(input('How many time the team lost:(to exit, enter \\'exit\\') '))\n",
    "      if x.lower() == 'exit':\n",
    "         done = True\n",
    "      dic[x] = [w,l]\n",
    "if len(dic) > 0:\n",
    "   #(a)\n",
    "   x = input('Enter a team name:(to exit, enter \\'exit\\')')\n",
    "   if x.lower() == 'exit':\n",
    "      done = True\n",
    "   elif x.lower() in dic:\n",
    "      print('Team name:', x.capitalize(), '\\nWinning percentage:', (dic[x.lower()][0]/(dic[x.lower()][0] + dic[x.lower()][1]))*100, '%')\n",
    "   else:\n",
    "      print('Invalid input!')\n",
    "   #(b)\n",
    "   for i in dic:\n",
    "      l0.append(dic[i][0])\n",
    "   print('Win list:', l0)\n",
    "   #(c)\n",
    "   for i in dic:\n",
    "      if max(l0) == dic[i][0]:\n",
    "         l1.append([i, dic[i][0]])\n",
    "   print(l1)"
   ]
  },
  {
   "cell_type": "markdown",
   "metadata": {},
   "source": [
    "E6"
   ]
  },
  {
   "cell_type": "code",
   "execution_count": 34,
   "metadata": {},
   "outputs": [
    {
     "name": "stdout",
     "output_type": "stream",
     "text": [
      "['barca', '1', 'real', '1']\n",
      "['barca', '2', 'real', '2']\n",
      "{'team': [wins, losses, ties]}\n",
      "{'barca': [0, 0, 2], 'real': [0, 0, 2]}\n"
     ]
    }
   ],
   "source": [
    "done, d, flag1, flag2 = False, {}, 0, 0\n",
    "while not done:\n",
    "   x = input('Enter the game score in the form of \\'team1 score1 - team2 score2\\': (to exit enter \\'exit\\')')\n",
    "   if x.lower() == 'exit':\n",
    "      done = True\n",
    "   else:\n",
    "      x = x.split('-')\n",
    "      x = x[0] + x[1]\n",
    "      x = x.split(' ')\n",
    "      x.pop(2)\n",
    "      print(x)\n",
    "      if x[0] in d:\n",
    "         flag1 = 1\n",
    "      if x[2] in d:\n",
    "         flag2 = 1\n",
    "      if eval(x[1]) >  eval(x[3]):\n",
    "         if flag1 == 1:\n",
    "            d[x[0]] = [d[x[0]][0] + 1, d[x[0]][1], d[x[0]][2]]\n",
    "         else:\n",
    "            d[x[0]] = [1, 0, 0]\n",
    "         if flag2 == 1:\n",
    "            d[x[2]] = [d[x[2]][0], d[x[2]][1] + 1, d[x[2]][2]]\n",
    "         else:\n",
    "            d[x[2]] = [0, 1, 0]\n",
    "      elif eval(x[1]) < eval(x[3]):\n",
    "         if flag1 == 1:\n",
    "            d[x[0]] = [d[x[0]][0], d[x[0]][1] + 1, d[x[0]][2]]\n",
    "         else:\n",
    "            d[x[0]] = [0, 1, 0]\n",
    "         if flag2 == 1:\n",
    "            d[x[2]] = [d[x[2]][0] + 1, d[x[2]][1], d[x[2]][2]]\n",
    "         else:\n",
    "            d[x[2]] = [1, 0, 0]\n",
    "      else:\n",
    "         if flag1 == 0:\n",
    "            d[x[0]] = [0, 0, 1]\n",
    "         else:\n",
    "            d[x[0]] = [d[x[0]][0], d[x[0]][1], d[x[0]][2] + 1]\n",
    "         if flag2 == 0:\n",
    "            d[x[2]] = [0, 0, 1]\n",
    "         else:\n",
    "            d[x[2]] = [d[x[2]][0], d[x[2]][1], d[x[2]][2] + 1]\n",
    "   flag1, flag2 = 0, 0\n",
    "print('{\\'team\\': [wins, losses, ties]}')\n",
    "print(d)"
   ]
  },
  {
   "cell_type": "markdown",
   "metadata": {},
   "source": [
    "E7"
   ]
  },
  {
   "cell_type": "code",
   "execution_count": 7,
   "metadata": {},
   "outputs": [
    {
     "name": "stdout",
     "output_type": "stream",
     "text": [
      "[[27, 81, 49, 2, 6], [92, 2, 69, 54, 89], [27, 14, 10, 15, 53], [45, 49, 63, 5, 53], [15, 43, 80, 62, 43]]\n",
      "{'27': 2, '81': 1, '49': 2, '2': 2, '6': 1, '92': 1, '69': 1, '54': 1, '89': 1, '14': 1, '10': 1, '15': 2, '53': 2, '45': 1, '63': 1, '5': 1, '43': 2, '80': 1, '62': 1}\n",
      "27\n",
      "49\n",
      "2\n"
     ]
    }
   ],
   "source": [
    "l = [[randint(1,100) for i in range(5)] for i in range(5)]\n",
    "d, c = {}, 0\n",
    "for i in l:\n",
    "   for p in i:\n",
    "      for q in range(0,5):\n",
    "         c += l[q].count(p)\n",
    "      if str(p) not in d:\n",
    "         d[str(p)] = c\n",
    "      c = 0\n",
    "print(l)\n",
    "print(d)\n",
    "for i in range(3):\n",
    "   max_v = max(d, key=d.get)\n",
    "   print(max_v)\n",
    "   del d[str(max_v)]"
   ]
  },
  {
   "cell_type": "markdown",
   "metadata": {},
   "source": [
    "E8_method1"
   ]
  },
  {
   "cell_type": "code",
   "execution_count": 8,
   "metadata": {},
   "outputs": [
    {
     "name": "stdout",
     "output_type": "stream",
     "text": [
      "First player cards: {'C1': 61, 'C2': 94, 'C3': 50}\n",
      "Second player cards:{'C1': 98, 'C2': 87, 'C3': 89}\n",
      "Second player is the winner!\n"
     ]
    }
   ],
   "source": [
    "l = []\n",
    "for i in range(2):\n",
    "   l.append([{'C1': i, 'C2': p, 'C3': q}\n",
    "                  for i in [randint(1,100)]\n",
    "                  for p in [randint(1,100)]\n",
    "                  for q in [randint(1,100)]])\n",
    "print('First player cards: {}\\nSecond player cards:{}'.format(l[0][0], l[1][0]))\n",
    "l_1, l_2 = list(l[0][0].values()), list(l[1][0].values())\n",
    "l_1.sort(), l_2.sort()\n",
    "if l_1[-1] > l_2[-1]:\n",
    "   print('First player is the winner!')\n",
    "elif l_1[-1] < l_2[-1]:\n",
    "   print('Second player is the winner!')\n",
    "else:\n",
    "   if l_1[-2] > l_2[-2]:\n",
    "      print('First player is the winner!')\n",
    "   elif l_1[-2] < l_2[-2]:\n",
    "      print('Second player is the winner!')\n",
    "   else:\n",
    "      if l_1[-3] > l_2[-3]:\n",
    "         print('First player is the winner!')\n",
    "      elif l_1[-3] < l_2[-3]:\n",
    "         print('Second player is the winner!')\n",
    "      else:\n",
    "         print('The game is a draw')"
   ]
  },
  {
   "cell_type": "markdown",
   "metadata": {},
   "source": [
    "E8_method2"
   ]
  },
  {
   "cell_type": "code",
   "execution_count": 10,
   "metadata": {},
   "outputs": [
    {
     "name": "stdout",
     "output_type": "stream",
     "text": [
      "First player cards: [{'value': 7, 'suit': 'spades'}, {'value': 13, 'suit': 'spades'}, {'value': 9, 'suit': 'diamonds'}]\n",
      "Second player cards:[{'value': 7, 'suit': 'clubs'}, {'value': 3, 'suit': 'hearts'}, {'value': 3, 'suit': 'clubs'}]\n",
      "First player is the winner!\n"
     ]
    }
   ],
   "source": [
    "deck = [{'value': i, 'suit': c}\n",
    "   for i in range(2,15)\n",
    "   for c in ['spades', 'clubs', 'hearts', 'diamonds']]\n",
    "p1, p2 = sample(deck,3), sample(deck,3)\n",
    "print('First player cards: {}\\nSecond player cards:{}'.format(p1, p2))\n",
    "p1_v = [p1[0]['value'], p1[1]['value'], p1[2]['value']]\n",
    "p2_v = [p2[0]['value'], p2[1]['value'], p2[2]['value']]\n",
    "p1_v.sort(), p2_v.sort()\n",
    "if p1_v[-1] > p2_v[-1]:\n",
    "   print('First player is the winner!')\n",
    "elif p1_v[-1] < p2_v[-1]:\n",
    "   print('Second player is the winner!')\n",
    "else:\n",
    "   if p1_v[-2] > p2_v[-2]:\n",
    "      print('First player is the winner!')\n",
    "   elif p1_v[-2] < p2_v[-2]:\n",
    "      print('Second player is the winner!')\n",
    "   else:\n",
    "      if p1_v[-3] > p2_v[-3]:\n",
    "         print('First player is the winner!')\n",
    "      elif p1_v[-3] < p2_v[-3]:\n",
    "         print('Second player is the winner!')\n",
    "      else:\n",
    "         print('The game is a draw')"
   ]
  },
  {
   "cell_type": "markdown",
   "metadata": {},
   "source": [
    "E9"
   ]
  },
  {
   "cell_type": "code",
   "execution_count": 18,
   "metadata": {},
   "outputs": [],
   "source": [
    "deck = [{'value': i, 'suit': c}\n",
    "   for c in ['spades', 'clubs', 'hearts', 'diamonds']\n",
    "   for i in range(2,15)]\n",
    "#a\n",
    "def flush():\n",
    "   l = sample(deck,3)\n",
    "   suit = [l[0]['suit'], l[1]['suit'], l[2]['suit']]\n",
    "   if suit[0] == suit[1] == suit[2]:\n",
    "      print('flush')\n",
    "   else:\n",
    "      print('not flush')\n",
    "#b\n",
    "def kind():\n",
    "   l = sample(deck,3)\n",
    "   value = [l[0]['value'], l[1]['value'],l[2]['value']]\n",
    "   if value[0] == value[1] == value[2]:\n",
    "      print('kind')\n",
    "   else:\n",
    "      print('not kind')\n",
    "#c\n",
    "def pair():\n",
    "   l = sample(deck, 3)\n",
    "   value = [l[0]['value'], l[1]['value'],l[2]['value']]\n",
    "   if value.count(value[0]) == 2 or value.count(value[1]) == 2:\n",
    "      print('pair')\n",
    "      print(value)\n",
    "   else:\n",
    "      print('not pair')\n",
    "#d\n",
    "def straight():\n",
    "   l = sample(deck, 3)\n",
    "   value = [l[0]['value'], l[1]['value'],l[2]['value']]\n",
    "   if value[2] - 1 == value[1] and value[1] - 1 == value[0]:\n",
    "      print('straight')\n",
    "   else:\n",
    "      print('not straight')"
   ]
  },
  {
   "cell_type": "markdown",
   "metadata": {},
   "source": [
    "E10"
   ]
  },
  {
   "cell_type": "code",
   "execution_count": 2,
   "metadata": {},
   "outputs": [
    {
     "name": "stdout",
     "output_type": "stream",
     "text": [
      "['M2', 'M2', 'M2', 'M2', 'M2']\n",
      "['M2', 'M2', 'M2', 'M2', 'M2']\n",
      "['M1', 'M1', 'M1', 'M1', 'M1']\n",
      "['M4', 'M4', 'M4', 'M4', 'M4']\n",
      "['M2', 'M2', 'M2', 'M2', 'M2']\n",
      "['M4', 'M4', 'M4', 'M4', 'M4']\n",
      "['M3', 'M3', 'M3', 'M3', 'M3']\n",
      "['M3', 'M3', 'M3', 'M3', 'M3']\n",
      "['M4', 'M4', 'M4', 'M4', 'M4']\n",
      "['M4', 'M4', 'M4', 'M4', 'M4']\n",
      "['M4', 'M4', 'M4', 'M4', 'M4']\n",
      "['M2', 'M2', 'M2', 'M2', 'M2']\n",
      "['M1', 'M1', 'M1', 'M1', 'M1']\n",
      "['M4', 'M4', 'M4', 'M4', 'M4']\n",
      "['M1', 'M1', 'M1', 'M1', 'M1']\n",
      "['M2', 'M2', 'M2', 'M2', 'M2']\n",
      "R = 0.16 %\n"
     ]
    }
   ],
   "source": [
    "d = [{'value': i, 'suit': q}\n",
    "   for i in range(2, 15)\n",
    "   for q in ['M1', 'M2', 'M3', 'M4']]\n",
    "count = 0\n",
    "for i in range(10000):\n",
    "   l = sample(d, 5)\n",
    "   suit = [l[0]['suit'], l[1]['suit'], l[2]\n",
    "            ['suit'], l[3]['suit'], l[4]['suit']]\n",
    "   if suit[0] == suit[1] == suit[2] == suit[3] == suit[4]:\n",
    "      count += 1\n",
    "      print(suit)\n",
    "print('R = {} %'.format(count/100))"
   ]
  },
  {
   "cell_type": "markdown",
   "metadata": {},
   "source": [
    "E11"
   ]
  },
  {
   "cell_type": "code",
   "execution_count": 25,
   "metadata": {},
   "outputs": [
    {
     "name": "stdout",
     "output_type": "stream",
     "text": [
      "No \n",
      "{'p': 'd'}\n",
      "ppp\n",
      "dds\n"
     ]
    }
   ],
   "source": [
    "#a with dictionary\n",
    "x1, x2 = input('Enter a string1:'), input('Enter a string2:')\n",
    "flag, d = 0, {}\n",
    "if len(x1) == len(x2):\n",
    "     for i in x1:\n",
    "          if i in punc:\n",
    "               x1 = x1.replace(i,'')\n",
    "     for i in x2:\n",
    "          if i in punc:\n",
    "               x2 = x2.replace(i,'')\n",
    "     for i in range(len(x1)):\n",
    "          if x1[i] == ' ' and x2[i] == ' ':\n",
    "               continue\n",
    "          elif x1[i] == ' ' and x2[i] != ' ':\n",
    "               flag = 1\n",
    "               break\n",
    "          elif x1[i] != ' ' and x2[i] == ' ':\n",
    "               flag = 1\n",
    "               break\n",
    "          elif x1[i] == x2[i]:\n",
    "               flag = 1\n",
    "               break\n",
    "          else:\n",
    "               if x1[i] in d:\n",
    "                    if d[x1[i]] == x2[i]:\n",
    "                         flag = 0\n",
    "                    else:\n",
    "                         flag = 1\n",
    "               else:\n",
    "                    d[x1[i]] = x2[i]\n",
    "else:\n",
    "     flag = 1\n",
    "if flag == 1:\n",
    "     print('No \\n{}\\n{}\\n{}'.format(d,x1,x2))\n",
    "else:\n",
    "    print('Yes \\n{}\\n{}\\n{}'.format(d,x1,x2))"
   ]
  },
  {
   "cell_type": "code",
   "execution_count": 33,
   "metadata": {},
   "outputs": [
    {
     "name": "stdout",
     "output_type": "stream",
     "text": [
      "No \n",
      "[]\n",
      "ss dd sss\n",
      "qq ww qqq  \n"
     ]
    }
   ],
   "source": [
    "#b without dictionary\n",
    "x1 = input('Enter a string1:')\n",
    "x2 = input('Enter a string2:')\n",
    "flag = 0\n",
    "d1, d2 = [], []\n",
    "if len(x1) == len(x2):\n",
    "     for i in x1:\n",
    "          if i in punc:\n",
    "               x1 = x1.replace(i,'')\n",
    "     for i in x2:\n",
    "          if i in punc:\n",
    "               x2 = x2.replace(i,'')\n",
    "     for i in range(len(x1)):\n",
    "          if x1[i] == ' ' and x2[i] == ' ':\n",
    "               continue\n",
    "          elif x1[i] == ' ' and x2[i] != ' ':\n",
    "               flag = 1\n",
    "               break\n",
    "          elif x1[i] != ' ' and x2[i] == ' ':\n",
    "               flag = 1\n",
    "               break\n",
    "          elif x1[i] == x2[i]:\n",
    "               flag = 1\n",
    "               break\n",
    "          else:\n",
    "               if x1[i] in d1:\n",
    "                    if (x1[i],x2[i]) in d2:\n",
    "                         flag = 0\n",
    "                    else:\n",
    "                         flag = 1\n",
    "               else:\n",
    "                    d1.append(x1[i])\n",
    "                    d2.append((x1[i],x2[i]))\n",
    "else:\n",
    "     flag = 1\n",
    "if flag == 1:\n",
    "     print('No \\n{}\\n{}\\n{}'.format(d2,x1,x2))\n",
    "else:\n",
    "    print('Yes \\n{}\\n{}\\n{}'.format(d2,x1,x2))"
   ]
  },
  {
   "cell_type": "markdown",
   "metadata": {},
   "source": [
    "E12"
   ]
  },
  {
   "cell_type": "code",
   "execution_count": null,
   "metadata": {},
   "outputs": [],
   "source": [
    "d = {'C': 0, 'C#': 1, 'D': 2, 'D#': 3, 'E': 4, 'F': 5, 'F#': 6, 'G': 7, 'G#': 8, 'A': 9 , 'A#': 10, 'B': 11}\n",
    "d0 = {'Minor': [3, 7], 'Augmented fifth': [4, 8], 'Minor fifth': ...}\n",
    "#it takes a lot of time and no benefits... :)"
   ]
  },
  {
   "cell_type": "markdown",
   "metadata": {},
   "source": [
    "E13"
   ]
  },
  {
   "cell_type": "code",
   "execution_count": 11,
   "metadata": {},
   "outputs": [
    {
     "name": "stdout",
     "output_type": "stream",
     "text": [
      "Samples: ['daccvbasweac']\n"
     ]
    }
   ],
   "source": [
    "x = input('Enter a string: ')\n",
    "#*a***b****ac\n",
    "d, l = {}, []\n",
    "for i in range(len(x)):\n",
    "     if x[i] != '*':\n",
    "          d[i] = x[i]\n",
    "x0 = eval(input('Enter a list: '))\n",
    "#['daccvbasweac','saergthygfbdrgth','sadfgbvcs','sdscdcsdcsdcs']\n",
    "for i in x0:\n",
    "     flag = 0\n",
    "     if len(i) == len(x):\n",
    "          for p in d:\n",
    "               if i[p] != d[p]:\n",
    "                    flag = 1\n",
    "                    break\n",
    "          if flag == 0:\n",
    "               l.append(i)\n",
    "if l == []:\n",
    "     print('No samples!')\n",
    "else:\n",
    "     print('Samples: {}'.format(l))"
   ]
  },
  {
   "cell_type": "markdown",
   "metadata": {},
   "source": [
    "E14"
   ]
  },
  {
   "cell_type": "code",
   "execution_count": 16,
   "metadata": {},
   "outputs": [
    {
     "name": "stdout",
     "output_type": "stream",
     "text": [
      "{'name': 'Helga', 'phone': '555-1618', 'email': 'helga@mail.net'}\n",
      "{'name': 'LJ', 'phone': '555-2718', 'email': 'lj@mail.net'}\n"
     ]
    }
   ],
   "source": [
    "#a\n",
    "d=[{'name':'Todd', 'phone':'555-1414', 'email':'todd@mail.net'},\n",
    "{'name':'Helga', 'phone':'555-1618', 'email':'helga@mail.net'},\n",
    "{'name':'Princess', 'phone':'555-3141', 'email':''},\n",
    "{'name':'LJ', 'phone':'555-2718', 'email':'lj@mail.net'}]\n",
    "for i in d:\n",
    "     if eval(i['phone'][-1]) == 8:\n",
    "          print(i)"
   ]
  },
  {
   "cell_type": "code",
   "execution_count": 18,
   "metadata": {},
   "outputs": [
    {
     "name": "stdout",
     "output_type": "stream",
     "text": [
      "{'name': 'Princess', 'phone': '555-3141', 'email': ''}\n"
     ]
    }
   ],
   "source": [
    "#b\n",
    "d=[{'name':'Todd', 'phone':'555-1414', 'email':'todd@mail.net'},\n",
    "{'name':'Helga', 'phone':'555-1618', 'email':'helga@mail.net'},\n",
    "{'name':'Princess', 'phone':'555-3141', 'email':''},\n",
    "{'name':'LJ', 'phone':'555-2718', 'email':'lj@mail.net'}]\n",
    "for i in d:\n",
    "     if i['email'] == '':\n",
    "          print(i)"
   ]
  },
  {
   "cell_type": "markdown",
   "metadata": {},
   "source": [
    "E15"
   ]
  },
  {
   "cell_type": "code",
   "execution_count": 27,
   "metadata": {},
   "outputs": [
    {
     "name": "stdout",
     "output_type": "stream",
     "text": [
      "Time: 12:12 am\n",
      "Starting time: Pacific\n",
      "Ending time: Eastern\n",
      "3:12 pm\n"
     ]
    }
   ],
   "source": [
    "d = {'Eastern' : 0, 'Central': -1, 'Mountain': -2, 'Pacific': -3}\n",
    "done = False\n",
    "while not done:\n",
    "     t = input('Enter the time: ')\n",
    "     if t[-2: ] == 'am' or t[-2: ] == 'pm':\n",
    "          t_s = t.split(':')\n",
    "          if (type(eval(t_s[0])) and type(eval(t_s[1][ : -2]))) == int:\n",
    "               print('Time:', t)\n",
    "               t0 = eval(t_s[0])\n",
    "               t1 = eval(t_s[1][: -2])\n",
    "               t2 = t[-2: ]\n",
    "               z0 = input('Enter the starting zone(Eastern, Central, Mountain or Pacific): ')\n",
    "               if z0.capitalize() in d:\n",
    "                    print('Starting time:', z0.capitalize())\n",
    "                    z1 = input('Enter the ending zone(Eastern, Central, Mountain or Pacific): ')\n",
    "                    if z1.capitalize() in d:\n",
    "                         print('Ending time:', (z1).capitalize())\n",
    "                         x = d[z1.capitalize()] - d[z0.capitalize()]\n",
    "                         if t0 + x > 12:\n",
    "                              if t2.lower() == 'am':\n",
    "                                   print('{}:{} {}'.format((t0 + x) % 12, t1, 'pm'))\n",
    "                                   done = True\n",
    "                              else:\n",
    "                                   print('{}:{} {}'.format((t0 + x) % 12, t1, 'am'))\n",
    "                                   done = True\n",
    "                         else:\n",
    "                              print('{}:{} {}'.format(t0 + x, t1, t2))\n",
    "                              done = True\n",
    "                    else:\n",
    "                         print('Wrong time zone!(Eastern, Central, Mountain or Pacific)')\n",
    "               else:\n",
    "                    print('Wrong time zone!(Eastern, Central, Mountain or Pacific)')\n",
    "          else:\n",
    "               print('Enter the time in the fotmat of \"xx:xx am\" or \"xx:xx pm\"')\n",
    "     else:\n",
    "          print('Enter the time in the fotmat of \"xx:xx am\" or \"xx:xx pm\"')"
   ]
  },
  {
   "cell_type": "markdown",
   "metadata": {},
   "source": [
    "E16"
   ]
  },
  {
   "cell_type": "code",
   "execution_count": 131,
   "metadata": {},
   "outputs": [
    {
     "name": "stdout",
     "output_type": "stream",
     "text": [
      "40\n"
     ]
    }
   ],
   "source": [
    "#a\n",
    "d, flag0 = {'M':1000, 'D':500, 'C':100, 'L':50, 'X':10, 'V':5, 'I': 1}, 0\n",
    "l1, l5 = [1, 10, 100, 1000], [5, 50, 500]\n",
    "x = input('Enter a roman numeral: ')\n",
    "x = x.upper()\n",
    "flag1 = 0\n",
    "num = 0\n",
    "for i in x:\n",
    "     if i not in d:\n",
    "          flag0 = 1\n",
    "if flag0 == 0:\n",
    "     for i in range(len(x)):\n",
    "          if i < (len(x) - 1) and d[x[i + 1]] == 5*d[x[i]]:\n",
    "               num -= d[x[i]]\n",
    "          elif i < (len(x) - 1) and d[x[i + 1]] > d[x[i]] and d[x[i + 1]] != 5*d[x[i]]:\n",
    "               flag1 = 1\n",
    "          elif d[x[i]] in l1 and x[i: i+4] == 4*x[i]:\n",
    "               flag1 = 1\n",
    "          elif d[x[i]] in l5 and x[i: i+2] == 2*x[i]:\n",
    "               flag1 = 1\n",
    "          elif (x[i: i+2] == 2*x[i] and d[x[i+2]] > d[x[i]]) or (x[i: i+3] == 3*x[i] and d[x[i+3]] > d[x[i]]):\n",
    "               flag1 = 1\n",
    "          else:\n",
    "               num += d[x[i]]\n",
    "     if flag1 == 0:\n",
    "          print(num)\n",
    "     else:\n",
    "          print('Wrong roman number')\n",
    "else:\n",
    "     print('Wrong roman number')"
   ]
  },
  {
   "cell_type": "code",
   "execution_count": 88,
   "metadata": {},
   "outputs": [
    {
     "name": "stdout",
     "output_type": "stream",
     "text": [
      "1904\n",
      "MCMIV\n"
     ]
    }
   ],
   "source": [
    "#b method_1\n",
    "d = {1000:'M', 500:'D', 100:'C', 50:'L', 10:'X', 5:'V', 1:'I'}\n",
    "x = eval(input('Enter an integer (0<x<4000): '))\n",
    "print(x)\n",
    "num = ''\n",
    "if x < 4000:\n",
    "     c = 1\n",
    "     l = []\n",
    "     while x != 0:\n",
    "          z = x % 10\n",
    "          l.append(z * c)\n",
    "          x = x // 10\n",
    "          c = c*10\n",
    "     l = l[ : :-1]\n",
    "     for i in l:\n",
    "          if str(i)[0] == '1':\n",
    "               num += d[i]\n",
    "          elif str(i)[0] == '2':\n",
    "               num += 2*d[i/2]\n",
    "          elif str(i)[0] == '3':\n",
    "                    num += 3*d[i/3]\n",
    "          elif str(i)[0] == '4':\n",
    "                    num += d[i/4] + d[5*(i/4)]\n",
    "          elif str(i)[0] == '5':\n",
    "                    num += d[i]\n",
    "          elif str(i)[0] == '6':\n",
    "               num += d[5*(i/6)] + d[i/6]\n",
    "          elif str(i)[0] == '7':\n",
    "                    num = num + d[5*(i/7)] + 2*d[i/7]\n",
    "          elif str(i)[0] == '8':\n",
    "                    num += d[5*(i/8)] + 3*d[i/8]\n",
    "          elif str(i)[0] == '9':\n",
    "               num = num + d[i/9] + d[10*(i/9)]\n",
    "else:\n",
    "     print('Invalid input')\n",
    "print(num)"
   ]
  },
  {
   "cell_type": "code",
   "execution_count": 92,
   "metadata": {},
   "outputs": [
    {
     "name": "stdout",
     "output_type": "stream",
     "text": [
      "MDCCCIII\n"
     ]
    }
   ],
   "source": [
    "#b method_2\n",
    "class py_solution:\n",
    "     def int_to_Roman(self, num):\n",
    "          val = [\n",
    "               1000, 900, 500, 400,\n",
    "               100, 90, 50, 40,\n",
    "               10, 9, 5, 4,\n",
    "               1\n",
    "               ]\n",
    "          syb = [\n",
    "               \"M\", \"CM\", \"D\", \"CD\",\n",
    "               \"C\", \"XC\", \"L\", \"XL\",\n",
    "               \"X\", \"IX\", \"V\", \"IV\",\n",
    "               \"I\"\n",
    "               ]\n",
    "          roman_num = ''\n",
    "          i = 0\n",
    "          while  num > 0:\n",
    "               for x in range(num // val[i]):\n",
    "                    roman_num += syb[i]\n",
    "                    num -= val[i]\n",
    "               i += 1\n",
    "          return roman_num\n",
    "\n",
    "print(py_solution().int_to_Roman(1803))"
   ]
  }
 ],
 "metadata": {
  "interpreter": {
   "hash": "4e87fb9651f095decd8de106e6e19502e9015860a9b023b493e487c30c191359"
  },
  "kernelspec": {
   "display_name": "Python 3.10.4 64-bit",
   "language": "python",
   "name": "python3"
  },
  "language_info": {
   "codemirror_mode": {
    "name": "ipython",
    "version": 3
   },
   "file_extension": ".py",
   "mimetype": "text/x-python",
   "name": "python",
   "nbconvert_exporter": "python",
   "pygments_lexer": "ipython3",
   "version": "3.10.4"
  },
  "orig_nbformat": 4
 },
 "nbformat": 4,
 "nbformat_minor": 2
}
