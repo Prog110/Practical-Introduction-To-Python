{
 "cells": [
  {
   "cell_type": "markdown",
   "metadata": {},
   "source": [
    "E1"
   ]
  },
  {
   "cell_type": "code",
   "execution_count": 48,
   "metadata": {},
   "outputs": [
    {
     "name": "stdout",
     "output_type": "stream",
     "text": [
      "String: abc123cba321\n",
      " (a) Total number of characters: 12\n",
      " (b) The string reepeated 10 times: abc123cba321abc123cba321abc123cba321abc123cba321abc123cba321abc123cba321abc123cba321abc123cba321abc123cba321abc123cba321\n",
      " (c) The first character of the string: a\n",
      " (d) The first three characters of the string: abc\n",
      " (e) The first three characters of the string: 321\n",
      " (f) The string backwards: 123abc321cba\n",
      " (g) The seventh character of the string: c\n",
      " (h) The string with its first and last characters removed: bc123cba32\n",
      " (i) The string in all caps: ABC123CBA321\n",
      " (j) The string with every a replaced with an e: ebc123cbe321\n",
      " (k) The string with every letter replaced by a space:    123   321\n"
     ]
    }
   ],
   "source": [
    "s = input('Enter a string: ')\n",
    "print('String:', s)\n",
    "#a\n",
    "print(' (a) Total number of characters:', len(s))\n",
    "#b\n",
    "print(' (b) The string reepeated 10 times:', s * 10)\n",
    "#c\n",
    "print(' (c) The first character of the string:', s[0])\n",
    "#d\n",
    "if len(s) >= 3:\n",
    "    print(' (d) The first three characters of the string:', s[ :3])\n",
    "else:\n",
    "    print(' (d) The string\\'s length must be more than 2 to run this part')\n",
    "#e\n",
    "if len(s) >= 3:\n",
    "    print(' (e) The first three characters of the string:', s[-3: ])\n",
    "else:\n",
    "    print(' (e) The string\\'s length must be more than 2 to run this part')\n",
    "#f\n",
    "print(' (f) The string backwards:', s[ : :-1])\n",
    "#g\n",
    "if len(s) >= 7:\n",
    "    print(' (g) The seventh character of the string:', s[6])\n",
    "else:\n",
    "    print(' (g) The string\\'s length must be more than 6 to run this part')\n",
    "#h\n",
    "if len(s) >= 3:\n",
    "    print(' (h) The string with its first and last characters removed:', s[1 : -1])\n",
    "else:\n",
    "    print(' (h) The string\\'s length must be more than 2 to run this part')\n",
    "#i\n",
    "print(' (i) The string in all caps:', s.upper())\n",
    "#j\n",
    "print(' (j) The string with every a replaced with an e:', s.replace('a', 'e'))\n",
    "#k\n",
    "h = '0123456789'\n",
    "g = s\n",
    "for i in g:\n",
    "    if i in h:\n",
    "        i = i\n",
    "    else:\n",
    "        g = g.replace(i, ' ')   \n",
    "print(' (k) The string with every letter replaced by a space:', g)"
   ]
  },
  {
   "cell_type": "markdown",
   "metadata": {},
   "source": [
    "E2"
   ]
  },
  {
   "cell_type": "code",
   "execution_count": 51,
   "metadata": {},
   "outputs": [
    {
     "name": "stdout",
     "output_type": "stream",
     "text": [
      "Hello, World!\n",
      "There are 2 words in the string\n"
     ]
    }
   ],
   "source": [
    "s = input('Enter a string: ')\n",
    "print(s)\n",
    "print('There are {} words in the string'.format(s.count(' ') + 1))"
   ]
  },
  {
   "cell_type": "markdown",
   "metadata": {},
   "source": [
    "E3"
   ]
  },
  {
   "cell_type": "code",
   "execution_count": 55,
   "metadata": {},
   "outputs": [
    {
     "name": "stdout",
     "output_type": "stream",
     "text": [
      "formula: 2(cos(x).sec(x))/arctan(2x))\n",
      "The formula has not the same number of opening and closing parentheses\n"
     ]
    }
   ],
   "source": [
    "f = input('Enter a math formula: ')\n",
    "x = f.count('(')\n",
    "y = f.count(')')\n",
    "print('Formula:', f)\n",
    "if x == y:\n",
    "    print('The formula has the same number of opening and closing parentheses')\n",
    "else:\n",
    "    print('The formula has not the same number of opening and closing parentheses')"
   ]
  },
  {
   "cell_type": "markdown",
   "metadata": {},
   "source": [
    "E4"
   ]
  },
  {
   "cell_type": "code",
   "execution_count": 61,
   "metadata": {},
   "outputs": [
    {
     "name": "stdout",
     "output_type": "stream",
     "text": [
      "string: Apple\n",
      "The string contain's at least one vowel\n"
     ]
    }
   ],
   "source": [
    "s = input('Enter a string: ')\n",
    "print('String:', s)\n",
    "flag = 0\n",
    "for i in s:\n",
    "    if i.lower() in 'aeiou':\n",
    "        flag = 1\n",
    "        break\n",
    "if flag == 0:\n",
    "    print('The string does not contain any vowels')\n",
    "else:\n",
    "    print('The string contain\\'s at least one vowel')"
   ]
  },
  {
   "cell_type": "markdown",
   "metadata": {},
   "source": [
    "E5"
   ]
  },
  {
   "cell_type": "code",
   "execution_count": 63,
   "metadata": {},
   "outputs": [
    {
     "name": "stdout",
     "output_type": "stream",
     "text": [
      "String: Qbert\n",
      "New_string: Q*ert!!!\n"
     ]
    }
   ],
   "source": [
    "s = input('Enter a string:')\n",
    "print('String:', s)\n",
    "n_s = s[0] + '*'+ s[2: ] + '!!!'\n",
    "print('New_string:', n_s)"
   ]
  },
  {
   "cell_type": "markdown",
   "metadata": {},
   "source": [
    "E6"
   ]
  },
  {
   "cell_type": "code",
   "execution_count": 68,
   "metadata": {},
   "outputs": [
    {
     "name": "stdout",
     "output_type": "stream",
     "text": [
      "String: A.m , P.m\n",
      "New_string: am  pm\n"
     ]
    }
   ],
   "source": [
    "s = input('Enter a string: ')\n",
    "print('String:', s)\n",
    "s = s.lower()\n",
    "s = s.replace('.', '')\n",
    "s = s.replace(',', '')\n",
    "print('New_string:', s)"
   ]
  },
  {
   "cell_type": "markdown",
   "metadata": {},
   "source": [
    "E7"
   ]
  },
  {
   "cell_type": "code",
   "execution_count": 70,
   "metadata": {},
   "outputs": [
    {
     "name": "stdout",
     "output_type": "stream",
     "text": [
      "String: dad\n",
      "'dad' is a palindrome\n"
     ]
    }
   ],
   "source": [
    "s = input('Enter a string: ')\n",
    "print('String:', s)\n",
    "s_reverse = s[ : :-1]\n",
    "if s_reverse == s:\n",
    "    print('\\'{}\\' is a palindrome'.format(s))\n",
    "else:\n",
    "    print('\\'{}\\' is not a palindrome'.format(s))"
   ]
  },
  {
   "cell_type": "markdown",
   "metadata": {},
   "source": [
    "E8"
   ]
  },
  {
   "cell_type": "code",
   "execution_count": 72,
   "metadata": {},
   "outputs": [
    {
     "name": "stdout",
     "output_type": "stream",
     "text": [
      "a@student.college.edu\n",
      "b@student.college.edu\n",
      "c@student.college.edu\n",
      "a@prof.college.edu\n",
      "b@prof.college.edu\n",
      "There are 2 professor addresses and 3 student addresses\n"
     ]
    }
   ],
   "source": [
    "s = eval(input('Enter number of emails: '))\n",
    "count_s = 0\n",
    "for i in range(s):\n",
    "    x = input('{}. Enter email: '.format(i + 1))\n",
    "    print(x)\n",
    "    if 'student' in x:\n",
    "        count_s += 1\n",
    "if count_s == 0:\n",
    "    print('all the addresses are professor addresses')\n",
    "elif count_s == s:\n",
    "    print('all the addresses are student addresses')\n",
    "else:\n",
    "    count_p = s - count_s\n",
    "    print('There are {} professor addresses and {} student addresses'.format(count_p, count_s))"
   ]
  },
  {
   "cell_type": "markdown",
   "metadata": {},
   "source": [
    "E9"
   ]
  },
  {
   "cell_type": "code",
   "execution_count": 75,
   "metadata": {},
   "outputs": [
    {
     "name": "stdout",
     "output_type": "stream",
     "text": [
      " 1\n",
      "  2\n",
      "   3\n",
      "    4\n",
      "     5\n"
     ]
    }
   ],
   "source": [
    "n = eval(input('Enter a number: '))\n",
    "x = 0\n",
    "while x < n:\n",
    "    print(x * ' ', x + 1)\n",
    "    x += 1"
   ]
  },
  {
   "cell_type": "markdown",
   "metadata": {},
   "source": [
    "E10"
   ]
  },
  {
   "cell_type": "code",
   "execution_count": 76,
   "metadata": {},
   "outputs": [
    {
     "name": "stdout",
     "output_type": "stream",
     "text": [
      "String: HEY\n",
      "HH\n",
      "EE\n",
      "YY\n"
     ]
    }
   ],
   "source": [
    "s = input('Enter a string: ')\n",
    "print('String:', s)\n",
    "for i in s:\n",
    "    print(i * 2)"
   ]
  },
  {
   "cell_type": "markdown",
   "metadata": {},
   "source": [
    "E11"
   ]
  },
  {
   "cell_type": "code",
   "execution_count": 80,
   "metadata": {},
   "outputs": [
    {
     "name": "stdout",
     "output_type": "stream",
     "text": [
      "String: buffalo\n",
      "buffa\n",
      "lo\n"
     ]
    }
   ],
   "source": [
    "s = input('Enter a string that contain\\'s letter a: ')\n",
    "print('String:', s)\n",
    "print(s[ :s.index('a') + 1])\n",
    "print(s[s.index('a') + 1: ])"
   ]
  },
  {
   "cell_type": "markdown",
   "metadata": {},
   "source": [
    "E12"
   ]
  },
  {
   "cell_type": "code",
   "execution_count": 84,
   "metadata": {},
   "outputs": [
    {
     "name": "stdout",
     "output_type": "stream",
     "text": [
      "String: rhinoceros\n",
      "New_string: rHiNoCeRoS\n"
     ]
    }
   ],
   "source": [
    "s = input('Enter a string: ')\n",
    "print('String:', s)\n",
    "for i in range(len(s)):\n",
    "    if i % 2 != 0:\n",
    "        s = s[ :i] + s[i].upper() + s[i+1: ]\n",
    "print('New_string:', s)"
   ]
  },
  {
   "cell_type": "markdown",
   "metadata": {},
   "source": [
    "E13"
   ]
  },
  {
   "cell_type": "code",
   "execution_count": 88,
   "metadata": {},
   "outputs": [
    {
     "name": "stdout",
     "output_type": "stream",
     "text": [
      "s1: ABCDE\n",
      "s2: abcde\n",
      "New_string: AaBbCcDdEe\n"
     ]
    }
   ],
   "source": [
    "s1 = input('Enter s1: ')\n",
    "print('s1:', s1)\n",
    "s2 = input('Enter s2: ')\n",
    "print('s2:', s2)\n",
    "s3 = ''\n",
    "if len(s1) == len(s2):\n",
    "    for i in range(len(s1)):\n",
    "        s3 += s1[i] + s2[i]\n",
    "else:\n",
    "    print('The strings should be of the same length')\n",
    "print('New_string:', s3)"
   ]
  },
  {
   "cell_type": "markdown",
   "metadata": {},
   "source": [
    "E14"
   ]
  },
  {
   "cell_type": "code",
   "execution_count": 89,
   "metadata": {},
   "outputs": [
    {
     "name": "stdout",
     "output_type": "stream",
     "text": [
      "Mohmmad\n"
     ]
    }
   ],
   "source": [
    "name = input('Enter your name in lowercase')\n",
    "print(name[0].upper() + name[1: ])"
   ]
  },
  {
   "cell_type": "markdown",
   "metadata": {},
   "source": [
    "E15"
   ]
  },
  {
   "cell_type": "code",
   "execution_count": 91,
   "metadata": {},
   "outputs": [
    {
     "name": "stdout",
     "output_type": "stream",
     "text": [
      "cl: CALCULUS\n",
      "ad: HAPPY\n",
      "ac: PLAY BASKETBALL\n",
      "CALCULUS class was really HAPPY today. we learned how to PLAY BASKETBALL today in class. I can't wait for tomorrow's class!\n"
     ]
    }
   ],
   "source": [
    "cl = input('Enter a college class: ')\n",
    "print('cl:', cl)\n",
    "ad = input('Enter an adjective: ')\n",
    "print('ad:', ad)\n",
    "ac = input('Enter an activity: ')\n",
    "print('ac:', ac)\n",
    "print('{} class was really {} today. we learned how to {} today in class. I can\\'t wait for tomorrow\\'s class!'.format(cl, ad, ac))"
   ]
  },
  {
   "cell_type": "markdown",
   "metadata": {},
   "source": [
    "E16"
   ]
  },
  {
   "cell_type": "code",
   "execution_count": 95,
   "metadata": {},
   "outputs": [
    {
     "name": "stdout",
     "output_type": "stream",
     "text": [
      "Dear George Washington,\n",
      "I am pleased to offer you our new Platinum Plus Rewards card\n",
      "at a special introductory APR of 47.99%. George, an offer\n",
      "like this does not come along every day, so I urge you to call\n",
      "now toll-free at 1-800-314-1592. We cannot offer such a low\n",
      "rate for long, George, so call right away.\n"
     ]
    }
   ],
   "source": [
    "name  = input('Enter name: ')\n",
    "first_name = name[ : :-1]\n",
    "first_name = first_name[first_name.index(' ') + 1: ]\n",
    "first_name = first_name[ : :-1]\n",
    "print('''Dear {},\n",
    "I am pleased to offer you our new Platinum Plus Rewards card\n",
    "at a special introductory APR of 47.99%. {}, an offer\n",
    "like this does not come along every day, so I urge you to call\n",
    "now toll-free at 1-800-314-1592. We cannot offer such a low\n",
    "rate for long, {}, so call right away.'''.format(name, first_name, first_name))"
   ]
  },
  {
   "cell_type": "markdown",
   "metadata": {},
   "source": [
    "E17"
   ]
  },
  {
   "cell_type": "code",
   "execution_count": 109,
   "metadata": {},
   "outputs": [
    {
     "name": "stdout",
     "output_type": "stream",
     "text": [
      "abcdefghijklmnopqrstuvwxyz\n",
      "bcdefghijklmnopqrstuvwxyza\n",
      "cdefghijklmnopqrstuvwxyzab\n",
      "defghijklmnopqrstuvwxyzabc\n",
      "efghijklmnopqrstuvwxyzabcd\n",
      "fghijklmnopqrstuvwxyzabcde\n",
      "ghijklmnopqrstuvwxyzabcdef\n",
      "hijklmnopqrstuvwxyzabcdefg\n",
      "ijklmnopqrstuvwxyzabcdefgh\n",
      "jklmnopqrstuvwxyzabcdefghi\n",
      "klmnopqrstuvwxyzabcdefghij\n",
      "lmnopqrstuvwxyzabcdefghijk\n",
      "mnopqrstuvwxyzabcdefghijkl\n",
      "nopqrstuvwxyzabcdefghijklm\n",
      "opqrstuvwxyzabcdefghijklmn\n",
      "pqrstuvwxyzabcdefghijklmno\n",
      "qrstuvwxyzabcdefghijklmnop\n",
      "rstuvwxyzabcdefghijklmnopq\n",
      "stuvwxyzabcdefghijklmnopqr\n",
      "tuvwxyzabcdefghijklmnopqrs\n",
      "uvwxyzabcdefghijklmnopqrst\n",
      "vwxyzabcdefghijklmnopqrstu\n",
      "wxyzabcdefghijklmnopqrstuv\n",
      "xyzabcdefghijklmnopqrstuvw\n",
      "yzabcdefghijklmnopqrstuvwx\n",
      "zabcdefghijklmnopqrstuvwxy\n"
     ]
    }
   ],
   "source": [
    "al = 'abcdefghijklmnopqrstuvwxyz'\n",
    "for i in range(26):\n",
    "    for x in range(26):\n",
    "        print(al[(x + i) % 26], end= '')\n",
    "    print()"
   ]
  },
  {
   "cell_type": "markdown",
   "metadata": {},
   "source": [
    "E18"
   ]
  },
  {
   "cell_type": "code",
   "execution_count": 132,
   "metadata": {},
   "outputs": [
    {
     "name": "stdout",
     "output_type": "stream",
     "text": [
      "(a) 's' letter appear's in the MISSISIPI\n",
      "(b) There are 3 's' letters in the MISSISIPI\n",
      "(c) The first occurrence of the letter 's' in the MISSISIPI is at 2\n"
     ]
    }
   ],
   "source": [
    "let = input('Enter a letter: ')\n",
    "s = input('Enter a string: ')\n",
    "flag = 0\n",
    "count = 0\n",
    "#a\n",
    "x = 0\n",
    "while x < len(s):\n",
    "    if s[x].lower() == let:\n",
    "        flag = 1\n",
    "        break\n",
    "    x += 1\n",
    "if flag == 1:\n",
    "    print('(a) \\'{}\\' letter appear\\'s in the {}'.format(let, s))\n",
    "else:\n",
    "    print('\\'{}\\' letter does not appear in the {}'.format(let, s))\n",
    "#b\n",
    "x = 0\n",
    "while x < len(s):\n",
    "    if s[x].lower() == let:\n",
    "        count += 1\n",
    "    x += 1\n",
    "if count > 0:\n",
    "    print('(b) There are {} \\'{}\\' letters in the {}'.format(count, let, s))\n",
    "#c\n",
    "x = 0\n",
    "ind = ''\n",
    "while x < len(s):\n",
    "    if s[x].lower() == let:\n",
    "        ind = x\n",
    "        break\n",
    "    x += 1\n",
    "if type(ind) == int:\n",
    "    print('(c) The first occurrence of the letter \\'{}\\' in the {} is at {}'.format(let, s, ind))"
   ]
  },
  {
   "cell_type": "markdown",
   "metadata": {},
   "source": [
    "E19"
   ]
  },
  {
   "cell_type": "code",
   "execution_count": 49,
   "metadata": {},
   "outputs": [
    {
     "name": "stdout",
     "output_type": "stream",
     "text": [
      "123546789465897\n",
      "123,546,789,465,897\n"
     ]
    }
   ],
   "source": [
    "n = eval(input('Enter a number: '))\n",
    "print(n)\n",
    "n = '{}'.format(n)\n",
    "if len(n) > 3:\n",
    "    if len(n) % 3 == 2:\n",
    "        x = len(n) // 3\n",
    "        n = n[ :2] + ',' + n[2: ]\n",
    "        for i in range(1, x):\n",
    "            n = n[ :2 + 4 * i] + ',' + n[2 + 4 * i: ]\n",
    "    elif len(n) % 3 == 1:\n",
    "        x = len(n) // 3\n",
    "        n = n[ :1] + ',' + n[1: ]\n",
    "        for i in range(1, x):\n",
    "            n = n[ :1 + 4 * i] + ',' + n[1 + 4 * i: ]\n",
    "    else:\n",
    "        x = (len(n) // 3) - 1\n",
    "        for i in range(x):\n",
    "            n = n[ :i + (3 * (i + 1))] + ',' + n[i + (3 * (i + 1)): ]  \n",
    "    print(n)\n",
    "else:\n",
    "    print(n)"
   ]
  },
  {
   "cell_type": "markdown",
   "metadata": {},
   "source": [
    "E20"
   ]
  },
  {
   "cell_type": "code",
   "execution_count": 70,
   "metadata": {},
   "outputs": [
    {
     "name": "stdout",
     "output_type": "stream",
     "text": [
      "12:59pm\n",
      "eastern\n",
      "pacific\n",
      "3:59am\n"
     ]
    }
   ],
   "source": [
    "t = input('Time: ')\n",
    "print(t)\n",
    "z = input('Starting zone: ')\n",
    "print(z)\n",
    "z1 = input('Ending zone: ')\n",
    "print(z1)\n",
    "if (z == 'Pacific'.lower() or z == 'Eastern'.lower() or z == 'Central'.lower() or z == 'Mountain'.lower()) and (z1 == 'Pacific'.lower() or z1 == 'Eastern'.lower() or z1 == 'Central'.lower() or z1 == 'Mountain'.lower()):\n",
    "    if z == 'Pacific'.lower():\n",
    "        t0 = int(t[ :t.index(':')])\n",
    "        t0 = t0 - 8\n",
    "    elif z == 'Eastern'.lower():\n",
    "        t0 = int(t[ :t.index(':')])\n",
    "        t0 = t0 - 5\n",
    "    elif z == 'Central'.lower():\n",
    "        t0 = int(t[ :t.index(':')])\n",
    "        t0 = t0 - 6\n",
    "    elif z == 'Mountain'.lower():\n",
    "        t0 = int(t[ :t.index(':')])\n",
    "        t0 = t0 - 7\n",
    "    if z1 == 'Pacific'.lower():\n",
    "        t0 = t0 + 8\n",
    "    elif z1 == 'Eastern'.lower():\n",
    "        t0 = t0 + 5\n",
    "    elif z1 == 'Central'.lower():\n",
    "        t0 = t0 + 6\n",
    "    elif z1 == 'Mountain'.lower():\n",
    "        t0 = t0 + 7\n",
    "    if t0 > 12:\n",
    "        if 'a' in t:\n",
    "            t = '{}'.format(t0 % 12) + t[t.index(':'):t.index('a')] + 'pm'\n",
    "            print(t)\n",
    "        if 'p' in t:\n",
    "            t = '{}'.format(t0 % 12) + t[t.index(':'):t.index('p')] + 'am'\n",
    "            print(t)\n",
    "    else:\n",
    "        t = '{}'.format(t0) + t[t.index(':'): ]\n",
    "        print(t)\n",
    "else:\n",
    "    print('zone must be Pacific, Eastern, Central or Mountain')"
   ]
  },
  {
   "cell_type": "markdown",
   "metadata": {},
   "source": [
    "E21"
   ]
  },
  {
   "cell_type": "code",
   "execution_count": 7,
   "metadata": {},
   "outputs": [
    {
     "name": "stdout",
     "output_type": "stream",
     "text": [
      "string: ball\n",
      "lbal\n"
     ]
    }
   ],
   "source": [
    "from random import shuffle\n",
    "s = input('Enter a string: ')\n",
    "print('string:', s)\n",
    "s = list(s)\n",
    "shuffle(s)\n",
    "s_n = ''\n",
    "for i in range(len(s)):\n",
    "    s_n += s[i]\n",
    "print(s_n)"
   ]
  },
  {
   "cell_type": "markdown",
   "metadata": {},
   "source": [
    "E22"
   ]
  },
  {
   "cell_type": "code",
   "execution_count": 20,
   "metadata": {},
   "outputs": [
    {
     "name": "stdout",
     "output_type": "stream",
     "text": [
      "(a) string: balll\n",
      "bllal\n",
      "(b) string: bllal\n",
      "balll\n"
     ]
    }
   ],
   "source": [
    "#a\n",
    "s = input('Enter a string: ')\n",
    "print('(a) string:', s)\n",
    "s_ev = ''\n",
    "s_od = ''\n",
    "for i in range(len(s)):\n",
    "    if i % 2 == 0:\n",
    "        s_ev += s[i]\n",
    "    else:\n",
    "        s_od += s[i]\n",
    "s = s_ev + s_od\n",
    "print(s)\n",
    "#b\n",
    "s = input('Enter a string: ')\n",
    "print('(b) string:', s)\n",
    "s0 = ''\n",
    "n = len(s) // 2\n",
    "if len(s) % 2 == 0:\n",
    "    s1 = s[ :n]\n",
    "    s2 = s[-n: ]\n",
    "else:\n",
    "    s1 = s[ :n + 1]\n",
    "    s2 = s[-n: ] \n",
    "z, x = 0, 0\n",
    "for i in range(len(s)):\n",
    "    if i % 2 == 0:\n",
    "        s0 += s1[z]\n",
    "        z += 1\n",
    "    else:\n",
    "        s0 += s2[x]\n",
    "        x += 1\n",
    "print(s0)"
   ]
  },
  {
   "cell_type": "markdown",
   "metadata": {},
   "source": [
    "E23"
   ]
  },
  {
   "cell_type": "code",
   "execution_count": 72,
   "metadata": {},
   "outputs": [
    {
     "name": "stdout",
     "output_type": "stream",
     "text": [
      "(a) string: baseball\n",
      "belablsa\n",
      "(b) string: belablsa\n",
      "baseball\n",
      "(c) string: missisipi\n",
      "Encryption num: 6\n",
      "miipsisis\n",
      "(d) string: miipsisis\n",
      "Encryption num: 6\n",
      "missisipi\n"
     ]
    }
   ],
   "source": [
    "#a\n",
    "s = input('Enter a string: ')\n",
    "print('(a) string:', s)\n",
    "s1 = ''\n",
    "s2 = ''\n",
    "s3 = ''\n",
    "for i in range(len(s)):\n",
    "    if i % 3 == 0:\n",
    "        s1 += s[i]\n",
    "    if i % 3 == 1:\n",
    "        s2 += s[i]\n",
    "    if i % 3 == 2:\n",
    "        s3 += s[i]\n",
    "s_n = s1 + s2 + s3\n",
    "print(s_n)\n",
    "#b\n",
    "s = input('Enter a string: ')\n",
    "print('(b) string:', s)\n",
    "n = 3\n",
    "g = []\n",
    "for i in range(n):\n",
    "    g.append('')\n",
    "l, y, x, z= len(s) % n, len(s) // n, 1, 0\n",
    "m = []\n",
    "for i in range(l):\n",
    "    m.append(1)\n",
    "for i in range(len(s) - l):\n",
    "    m.append(0)\n",
    "for i in range(n):\n",
    "    if i == 0:\n",
    "            g[i] = s[ : y + m[i]]\n",
    "    elif 0 < i < n - 1:  \n",
    "            g[i] = s[x*y + z :(x + 1)*y + m[i] + z]\n",
    "            x += 1\n",
    "    elif i == n - 1:\n",
    "        g[i] = s[-y: ]\n",
    "    if m[i] == 1:\n",
    "        z += 1\n",
    "s0 = ''\n",
    "for i in range(len(s)):\n",
    "    for x in range(n):\n",
    "        if i % n == x:\n",
    "            s0 += g[x][0]\n",
    "            g[x] = g[x][1: ]\n",
    "print(s0)\n",
    "#c\n",
    "s = input('Enter a string: ')\n",
    "print('(c) string:', s)\n",
    "n = int(input('Enter Encryption num: '))\n",
    "print('Encryption num:', n)\n",
    "g = []\n",
    "for i in range(n):\n",
    "    g.append('')\n",
    "for i in range(n):\n",
    "    for l in range(len(s)):\n",
    "        if l % n == i:\n",
    "            g[i] += s[l]\n",
    "s0 = ''\n",
    "for i in range(len(g)):\n",
    "    s0 += g[i]\n",
    "print(s0)\n",
    "#d\n",
    "s = input('Enter a string: ')\n",
    "print('(d) string:', s)\n",
    "n = int(input('Enter Encryption num: '))\n",
    "print('Encryption num:', n)\n",
    "g = []\n",
    "for i in range(n):\n",
    "    g.append('')\n",
    "l, y, x, z= len(s) % n, len(s) // n, 1, 0\n",
    "m = []\n",
    "for i in range(l):\n",
    "    m.append(1)\n",
    "for i in range(len(s) - l):\n",
    "    m.append(0)\n",
    "for i in range(n):\n",
    "    if i == 0:\n",
    "            g[i] = s[ : y + m[i]]\n",
    "    elif 0 < i < n - 1:  \n",
    "            g[i] = s[x*y + z :(x + 1)*y + m[i] + z]\n",
    "            x += 1\n",
    "    elif i == n - 1:\n",
    "        g[i] = s[-y: ]\n",
    "    if m[i] == 1:\n",
    "        z += 1\n",
    "s0 = ''\n",
    "for i in range(len(s)):\n",
    "    for x in range(n):\n",
    "        if i % n == x:\n",
    "            s0 += g[x][0]\n",
    "            g[x] = g[x][1: ]\n",
    "print(s0)"
   ]
  },
  {
   "cell_type": "markdown",
   "metadata": {},
   "source": [
    "E24"
   ]
  },
  {
   "cell_type": "code",
   "execution_count": 19,
   "metadata": {},
   "outputs": [
    {
     "name": "stdout",
     "output_type": "stream",
     "text": [
      "n = 4x^3\n",
      "12x^2\n"
     ]
    }
   ],
   "source": [
    "n = input('Enter a expression: ')\n",
    "print('n =', n)\n",
    "if n.index('x') == 0:\n",
    "    n0 = eval(n[2: ])\n",
    "    if n0 == 1:\n",
    "        print(0)\n",
    "    else:    \n",
    "        n1 = '{}x^{}'.format(n0, n0 - 1)\n",
    "        print(n1)\n",
    "else:\n",
    "    n0 = eval(n[n.index('^') + 1: ])\n",
    "    if n0 == 1:\n",
    "        print(0)\n",
    "    else:\n",
    "        n1 = eval(n[ :n.index('x')])\n",
    "        n2 = '{}x^{}'.format(n0 * n1, n0 - 1)\n",
    "        print(n2)"
   ]
  },
  {
   "cell_type": "markdown",
   "metadata": {},
   "source": [
    "E25"
   ]
  },
  {
   "cell_type": "code",
   "execution_count": 2,
   "metadata": {},
   "outputs": [
    {
     "name": "stdout",
     "output_type": "stream",
     "text": [
      "n = 3x + 4y + 3(x + 5)\n",
      "3*x + 4*y + 3*(x + 5)\n"
     ]
    }
   ],
   "source": [
    "n = input('Enter an Expression: ')\n",
    "print('n =', n)\n",
    "e = '-+=)/ '\n",
    "n0 = ''\n",
    "n1 = n\n",
    "for i in range(1, len(n)):\n",
    "    x = n[i] in e\n",
    "    y = n[i - 1] in e\n",
    "    if  x == False and y == False and n[i - 1] != '(' :\n",
    "        n0 = n[i - 1] + '*' + n[i]\n",
    "        n1 = n1.replace(n[i - 1] + n[i], n0)\n",
    "print(n1)"
   ]
  }
 ],
 "metadata": {
  "interpreter": {
   "hash": "31f2aee4e71d21fbe5cf8b01ff0e069b9275f58929596ceb00d14d90e3e16cd6"
  },
  "kernelspec": {
   "display_name": "Python 3.9.9 64-bit",
   "language": "python",
   "name": "python3"
  },
  "language_info": {
   "codemirror_mode": {
    "name": "ipython",
    "version": 3
   },
   "file_extension": ".py",
   "mimetype": "text/x-python",
   "name": "python",
   "nbconvert_exporter": "python",
   "pygments_lexer": "ipython3",
   "version": "3.9.9"
  },
  "orig_nbformat": 4
 },
 "nbformat": 4,
 "nbformat_minor": 2
}
