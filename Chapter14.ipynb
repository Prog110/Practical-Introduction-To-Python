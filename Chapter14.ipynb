{
 "cells": [
  {
   "cell_type": "markdown",
   "metadata": {},
   "source": [
    "Modules"
   ]
  },
  {
   "cell_type": "code",
   "execution_count": 2,
   "metadata": {},
   "outputs": [],
   "source": [
    "from random import *"
   ]
  },
  {
   "cell_type": "code",
   "execution_count": 2,
   "metadata": {},
   "outputs": [
    {
     "name": "stdout",
     "output_type": "stream",
     "text": [
      "14\n"
     ]
    }
   ],
   "source": [
    "class Example:\n",
    "     def __init__(self, a, b):\n",
    "          self.a = a\n",
    "          self.b = b\n",
    "          \n",
    "     def add(self):\n",
    "          return self.a + self.b\n",
    "\n",
    "e = Example(8, 6)\n",
    "print(e.add())\n"
   ]
  },
  {
   "cell_type": "code",
   "execution_count": 18,
   "metadata": {},
   "outputs": [
    {
     "name": "stdout",
     "output_type": "stream",
     "text": [
      "['this', 'is', 'a', 'test', 'of', 'the', 'class']\n"
     ]
    }
   ],
   "source": [
    "from string import punctuation\n",
    "\n",
    "class Analyzer:\n",
    "     def __init__(self, s):\n",
    "          for c  in punctuation:\n",
    "               s = s.replace(c, '')\n",
    "               s = s.lower()\n",
    "               self.words = s.split()\n",
    "               \n",
    "     def number_of_words(self):\n",
    "          return len(self.words)\n",
    "\n",
    "     def starts_with(self, s):\n",
    "          return len([w for w in self.words if w[:len(s)]==s])\n",
    "     \n",
    "     def number_with_length(self, n):\n",
    "          return len([w for w in self.words if len(w)==n])\n",
    "\n",
    "s = 'This is a test of the class'\n",
    "analyzer = Analyzer(s)\n",
    "\n",
    "print(analyzer.words)"
   ]
  },
  {
   "cell_type": "code",
   "execution_count": 27,
   "metadata": {},
   "outputs": [
    {
     "name": "stdout",
     "output_type": "stream",
     "text": [
      "hi!!!\n",
      "hihihihihihihi\n"
     ]
    }
   ],
   "source": [
    "class Parent:\n",
    "     def __init__(self, a):\n",
    "          self.a = a\n",
    "     def method1(self):\n",
    "          return self.a*2\n",
    "     def method2(self):\n",
    "          return self.a+'!!!'\n",
    "\n",
    "class Child(Parent):\n",
    "     def __init__(self, a, b):\n",
    "          self.a = a\n",
    "          self.b = b\n",
    "     def method1(self):\n",
    "          return self.a*7\n",
    "     def method3(self):\n",
    "          return self.a + self.b\n",
    "p = Parent('hi')\n",
    "c = Child('hi', 'bye')\n",
    "\n",
    "print(p.method2())\n",
    "print(c.method1())"
   ]
  },
  {
   "cell_type": "code",
   "execution_count": 39,
   "metadata": {},
   "outputs": [
    {
     "name": "stdout",
     "output_type": "stream",
     "text": [
      "The value of this class's variables are: \n",
      "a\n",
      "b\n",
      "None\n"
     ]
    }
   ],
   "source": [
    "class Parent:\n",
    "     def __init__(self, a):\n",
    "          self.a = a\n",
    "\n",
    "     def print_var(self):\n",
    "          print('The value of this class\\'s variables are: ')\n",
    "          print(self.a)\n",
    "\n",
    "class Child(Parent):\n",
    "     def __init__(self, a, b):\n",
    "          Parent.__init__(self, a)\n",
    "          self.b = b\n",
    "     def print_var(self):\n",
    "          Parent.print_var(self)\n",
    "          print(self.b)\n",
    "a = Parent('a')\n",
    "b = Child('a', 'b')\n",
    "print(b.print_var())"
   ]
  },
  {
   "cell_type": "code",
   "execution_count": 54,
   "metadata": {},
   "outputs": [],
   "source": [
    "import random\n",
    "\n",
    "class Card:\n",
    "     def __init__(self, value, suit):\n",
    "          self.value = value\n",
    "          self.suit = suit\n",
    "\n",
    "     def __str__(self):\n",
    "          names = ['Jack', 'Queen', 'King', 'Ace']\n",
    "          if self.value <= 10:\n",
    "               return '{} of {}'.format(self.value, self.suit)\n",
    "          else:\n",
    "               return '{} of {}'.format(names[self.value-11], self.suit)\n",
    "\n",
    "class Card_group:\n",
    "     def __init__(self, cards=[]):\n",
    "          self.cards = cards\n",
    "\n",
    "     def nextCard(self):\n",
    "          return self.cards.pop(0)\n",
    "\n",
    "     def hasCard(self):\n",
    "          return len(self.cards) >0\n",
    "\n",
    "     def  size(self):\n",
    "          return len(self.cards)\n",
    "\n",
    "     def shuffle(self):\n",
    "          random.shuffle(self.cards)\n",
    "class Standard_deck(Card_group):\n",
    "     def __init__(self):\n",
    "          self.cards = []\n",
    "          for s in ['Hearts', 'Diamonds', 'Clubs', 'Spades']:\n",
    "               for v in range(2,15):\n",
    "                    self.cards.append(Card(v, s))"
   ]
  },
  {
   "cell_type": "code",
   "execution_count": 138,
   "metadata": {},
   "outputs": [
    {
     "name": "stdout",
     "output_type": "stream",
     "text": [
      "blue\n",
      "bark\n"
     ]
    }
   ],
   "source": [
    "class Pet:\n",
    "     def __init__(self, name, age):\n",
    "          self.name = name\n",
    "          self.age = age\n",
    "     def change_name(self, name):\n",
    "          self.name = name\n",
    "class Dog(Pet):\n",
    "     def __init__(self, name, age, color):\n",
    "          #super().__init__(name, age)\n",
    "          Pet.__init__(self, name, age)\n",
    "          self.color = color\n",
    "     def sound(self):\n",
    "          print('bark')\n",
    "d = Dog('Tim', 16, 'blue')\n",
    "print(d.color)\n",
    "d.sound()"
   ]
  },
  {
   "cell_type": "code",
   "execution_count": 1,
   "metadata": {},
   "outputs": [
    {
     "data": {
      "text/plain": [
       "'@classmethod   \\n@staticmethod\\n#def num(cls):  '"
      ]
     },
     "execution_count": 1,
     "metadata": {},
     "output_type": "execute_result"
    }
   ],
   "source": [
    "'''@classmethod   \n",
    "@staticmethod\n",
    "#def num(cls):  '''"
   ]
  },
  {
   "cell_type": "code",
   "execution_count": 1,
   "metadata": {},
   "outputs": [],
   "source": [
    "class tic_tac_toe:\n",
    "    def __init__(self):\n",
    "        self.B = [  [0,0,0],\n",
    "                    [0,0,0],\n",
    "                    [0,0,0]  ]\n",
    "        self.player = 1\n",
    "\n",
    "    def get_open_spots(self):\n",
    "        return [[r, c] for r in range(3) for c in range(3) if self.B[r][c] == 0]\n",
    "\n",
    "    def is_valid_move(self, r, c):\n",
    "        if 0<= r <=2 and 0<= c <=2 and self.B[r][c] == 0:\n",
    "            return True\n",
    "        return False\n",
    "\n",
    "    def make_move(self, r, c):\n",
    "        if self.is_valid_move(r, c):\n",
    "            self.B[r][c] = self.player\n",
    "            self.player = (self.player + 2)%2 + 1\n",
    "\n",
    "    def check_for_winner(self):\n",
    "        for c in range(3):\n",
    "            if self.B[0][c]==self.B[1][c]==self.B[2][c]!=0:\n",
    "                return self.B[0][c]\n",
    "        for r in range(3):\n",
    "            if self.B[r][0]==self.B[r][1]==self.B[r][2]!=0:\n",
    "                return self.B[r][0]\n",
    "        if self.B[0][0]==self.B[1][1]==self.B[2][2]!=0:\n",
    "            return self.B[0][0]\n",
    "        if self.B[2][0]==self.B[1][1]==self.B[0][2]!=0:\n",
    "            return self.B[2][0]\n",
    "        if self.get_open_spots()==[]:\n",
    "            return 0\n",
    "        return -1"
   ]
  },
  {
   "cell_type": "code",
   "execution_count": 2,
   "metadata": {},
   "outputs": [
    {
     "name": "stdout",
     "output_type": "stream",
     "text": [
      "- - - \n",
      "- - - \n",
      "- - - \n"
     ]
    },
    {
     "ename": "SyntaxError",
     "evalue": "invalid syntax (<string>, line 0)",
     "output_type": "error",
     "traceback": [
      "Traceback \u001b[1;36m(most recent call last)\u001b[0m:\n",
      "  File \u001b[0;32m~\\AppData\\Roaming\\Python\\Python310\\site-packages\\IPython\\core\\interactiveshell.py:3369\u001b[0m in \u001b[0;35mrun_code\u001b[0m\n    exec(code_obj, self.user_global_ns, self.user_ns)\n",
      "\u001b[1;36m  Input \u001b[1;32mIn [2]\u001b[1;36m in \u001b[1;35m<cell line: 8>\u001b[1;36m\u001b[0m\n\u001b[1;33m    r,c = eval(input('Enter spot, player ' + str(game.player) + ': '))\u001b[0m\n",
      "\u001b[1;36m  File \u001b[1;32m<string>\u001b[1;36m\u001b[0m\n\u001b[1;33m    \u001b[0m\n\u001b[1;37m    ^\u001b[0m\n\u001b[1;31mSyntaxError\u001b[0m\u001b[1;31m:\u001b[0m invalid syntax\n"
     ]
    }
   ],
   "source": [
    "def print_board():\n",
    "    chars = ['-', 'X', 'O']\n",
    "    for r in range(3):\n",
    "        for c in range(3):\n",
    "            print(chars[game.B[r][c]], end=' ')\n",
    "        print()\n",
    "game = tic_tac_toe()\n",
    "while game.check_for_winner()==-1:\n",
    "    print_board()\n",
    "    r,c = eval(input('Enter spot, player ' + str(game.player) + ': '))\n",
    "    game.make_move(r,c)\n",
    "\n",
    "print_board()\n",
    "x = game.check_for_winner()\n",
    "if x==0:\n",
    "    print(\"It's a draw.\")\n",
    "else:\n",
    "    print('Player', x, 'wins!')"
   ]
  },
  {
   "cell_type": "markdown",
   "metadata": {},
   "source": [
    "E1"
   ]
  },
  {
   "cell_type": "code",
   "execution_count": 61,
   "metadata": {},
   "outputs": [
    {
     "name": "stdout",
     "output_type": "stream",
     "text": [
      "Principal - $10000, Interest rate - 5.12%\n",
      "\n",
      "14028320.7936\n"
     ]
    }
   ],
   "source": [
    "class Investment:\n",
    "    def __init__(self, principal, interest):\n",
    "        self.p = principal\n",
    "        self.i = interest\n",
    "\n",
    "    def __str__(self):\n",
    "        return 'Principal - ${}, Interest rate - {}%'.format(self.p, self.i)\n",
    "\n",
    "    def value_after(self, n):\n",
    "        return self.p*(1 + self.i)**n\n",
    "\n",
    "m = Investment(10000, 5.12)\n",
    "print(m)\n",
    "print()\n",
    "print(m.value_after(4))"
   ]
  },
  {
   "cell_type": "markdown",
   "metadata": {},
   "source": [
    "E2"
   ]
  },
  {
   "cell_type": "code",
   "execution_count": 115,
   "metadata": {},
   "outputs": [
    {
     "name": "stdout",
     "output_type": "stream",
     "text": [
      "1000\n",
      "900.0\n"
     ]
    }
   ],
   "source": [
    "class Product:\n",
    "    def __init__(self, name, amount, price):\n",
    "        self.name = name\n",
    "        self.amount = amount\n",
    "        self.price = price\n",
    "\n",
    "    def get_price(self):\n",
    "        return self.amount * self.price\n",
    "\n",
    "    def make_purchase(self):\n",
    "        if self.amount >= 100:\n",
    "            return self.amount*(self.price*0.8)\n",
    "        elif self.amount >= 10 :\n",
    "            return self.amount*(self.price*0.9)\n",
    "        elif self.amount > 0 :\n",
    "            return self.amount*self.price\n",
    "\n",
    "p1 = Product('M', 10, 100)\n",
    "\n",
    "print(p1.get_price())\n",
    "print(p1.make_purchase())\n"
   ]
  },
  {
   "cell_type": "markdown",
   "metadata": {},
   "source": [
    "E3"
   ]
  },
  {
   "cell_type": "code",
   "execution_count": 29,
   "metadata": {},
   "outputs": [
    {
     "name": "stdout",
     "output_type": "stream",
     "text": [
      "12345678\n",
      "True\n"
     ]
    }
   ],
   "source": [
    "class Password_manager:\n",
    "    def __init__(self, old_passwords):\n",
    "        self.password = old_passwords\n",
    "\n",
    "    def get_password(self):\n",
    "        return self.password[-1]\n",
    "\n",
    "    def set_password(self, n):\n",
    "        self.password.append(n)\n",
    "\n",
    "    def is_correct(self, x):\n",
    "        if x == self.password[-1]:\n",
    "            return True\n",
    "        return False\n",
    "\n",
    "l1 = Password_manager(['11111111', '12345678'])\n",
    "print(l1.get_password())\n",
    "l1.set_password('12345BB@@0')\n",
    "print(l1.is_correct('12345BB@@0'))\n"
   ]
  },
  {
   "cell_type": "markdown",
   "metadata": {},
   "source": [
    "E4"
   ]
  },
  {
   "cell_type": "code",
   "execution_count": 46,
   "metadata": {},
   "outputs": [
    {
     "name": "stdout",
     "output_type": "stream",
     "text": [
      "24:52:22\n",
      "26:11\n"
     ]
    }
   ],
   "source": [
    "class Time:\n",
    "    def __init__(self, t):\n",
    "        self.time = t\n",
    "\n",
    "    def convert_to_minutes(self):\n",
    "        return '{}:{}'.format(self.time//60, self.time%60)\n",
    "\n",
    "    def convert_to_hours(self):\n",
    "        x = self.time//3600\n",
    "        return '{}:{}:{}'.format(x,(self.time - 3600*x)//60, (self.time - 3600*x)%60)\n",
    "\n",
    "t1 = Time(89542)\n",
    "print(t1.convert_to_hours())\n",
    "\n",
    "t2 = Time(1571)\n",
    "print(t2.convert_to_minutes())"
   ]
  },
  {
   "cell_type": "markdown",
   "metadata": {},
   "source": [
    "E5"
   ]
  },
  {
   "cell_type": "code",
   "execution_count": 75,
   "metadata": {},
   "outputs": [
    {
     "name": "stdout",
     "output_type": "stream",
     "text": [
      "['orange', 'soccer', 'tennis']\n",
      "['orange', 'outside']\n",
      "['apple', 'orange', 'like', 'outside']\n",
      "['I']\n",
      "['apple']\n",
      "['board', 'orange', 'soccer', 'I', 'Did', 'outside', 'tennis']\n"
     ]
    }
   ],
   "source": [
    "class Wordplay:\n",
    "    def __init__(self, l):\n",
    "        self.list = l\n",
    "\n",
    "    def words_with_length(self, length):\n",
    "        l = []\n",
    "        for i in self.list:\n",
    "            if len(i) == length:\n",
    "                l.append(i)\n",
    "        return l\n",
    "\n",
    "    def starts_with(self, x):\n",
    "        l = []\n",
    "        for i in self.list:\n",
    "            if i[0] == x:\n",
    "                l.append(i)\n",
    "        return l\n",
    "\n",
    "    def ends_with(self, x):\n",
    "        l = []\n",
    "        for i in self.list:\n",
    "            if i[-1] == x:\n",
    "                l.append(i)\n",
    "        return l\n",
    "\n",
    "    def palindromes(self):\n",
    "        l = []\n",
    "        for i in self.list:\n",
    "            if i[-1] == i[0]:\n",
    "                l.append(i)\n",
    "        return l\n",
    "\n",
    "    def only(self, L):\n",
    "        l = []\n",
    "        for i in self.list:\n",
    "            flag = True\n",
    "            for x in i.lower():\n",
    "                if x not in L:\n",
    "                    flag = False\n",
    "            if flag:\n",
    "                l.append(i)\n",
    "        return l\n",
    "\n",
    "    def avoids(self, L):\n",
    "        l = []\n",
    "        for i in self.list:\n",
    "            flag = True\n",
    "            for x in i.lower():\n",
    "                if x in L:\n",
    "                    flag = False\n",
    "            if flag:\n",
    "                l.append(i)\n",
    "        return l\n",
    "\n",
    "l1 = Wordplay(['apple', 'board', 'orange', 'soccer', 'ball', 'I', 'Did', 'John','like',\t'you', 'play', 'outside', 'football', 'tennis'])\n",
    "print(l1.words_with_length(6))\n",
    "print(l1.starts_with('o'))\n",
    "print(l1.ends_with('e'))\n",
    "print(l1.palindromes())\n",
    "print(l1.only(['a', 'p', 'l', 'e']))\n",
    "print(l1.avoids(['y', 'x', 'l', 'j']))"
   ]
  },
  {
   "cell_type": "markdown",
   "metadata": {},
   "source": [
    "E6"
   ]
  },
  {
   "cell_type": "code",
   "execution_count": 80,
   "metadata": {},
   "outputs": [
    {
     "name": "stdout",
     "output_type": "stream",
     "text": [
      "12 inches\n",
      "0.30480060960121924\n"
     ]
    }
   ],
   "source": [
    "d = {'inches':39.37, 'feet':3.28, 'centimeters': 100, 'meters':1}\n",
    "class Convertor:\n",
    "    def __init__(self, length,unit):\n",
    "        self.unit = unit\n",
    "        self.length = length\n",
    "\n",
    "    def __str__(self):\n",
    "        return '{} {}'.format(self.length, self.unit)\n",
    "\n",
    "    def feet(self):\n",
    "        return (self.length/d[self.unit])*3.28\n",
    "\n",
    "    def inches(self):\n",
    "        return (self.length/d[self.unit])*39.37\n",
    "\n",
    "    def centimeters(self):\n",
    "        return (self.length/d[self.unit])*100\n",
    "\n",
    "    def meters(self):\n",
    "        return (self.length/d[self.unit])*1\n",
    "\n",
    "l1 = Convertor(12, 'inches')\n",
    "print(l1)\n",
    "print(l1.meters())"
   ]
  },
  {
   "cell_type": "markdown",
   "metadata": {},
   "source": [
    "E8"
   ]
  },
  {
   "cell_type": "code",
   "execution_count": 135,
   "metadata": {},
   "outputs": [
    {
     "name": "stdout",
     "output_type": "stream",
     "text": [
      "Current game number: 1\n",
      "player is winner\n",
      "Current game number: 2\n",
      "computer is winner\n",
      "Current game number: 3\n",
      "no winner\n",
      "Current game number: 4\n",
      "no winner\n",
      "Current game number: 5\n",
      "player is winner\n",
      "2\n",
      "1\n"
     ]
    }
   ],
   "source": [
    "l0 = {'s' : 'Scissors', 'p' : 'Paper', 'r' : 'Rock'}\n",
    "l1 = ['s', 'p', 'r']\n",
    "\n",
    "class Rock_paper_scissors:\n",
    "    def __init__(self, n):\n",
    "        self.game_n = n\n",
    "        self.current_number = 0\n",
    "        self.player_w = 0\n",
    "        self.computer_w = 0\n",
    "        self.c = 0\n",
    "        self.p = 0\n",
    "\n",
    "    def c_c(self):  #computer_choice\n",
    "        self.c_computer = choice(l1)\n",
    "        return self.c_computer\n",
    "\n",
    "    def p_c(self): #player_choice\n",
    "        self.c_player = input('Enter your choice(\\'s\\': scissors, \\'r\\': rock, \\'p\\' : papar)').lower()\n",
    "        return self.c_player\n",
    "\n",
    "    def find_winner(self):\n",
    "        if (self.p == 's' and self.c == 'p') or (self.p == 'r' and self.c == 's') or (self.p == 'p' and self.c == 'r'):\n",
    "            return 0\n",
    "\n",
    "        elif (self.p == 'p' and self.c == 's') or (self.p == 's' and self.c == 'r') or (self.p == 'r' and self.c == 'p'):\n",
    "            return 1\n",
    "\n",
    "        else:\n",
    "            return 2\n",
    "\n",
    "    def play_game(self):\n",
    "        for i in  range(self.game_n):\n",
    "            self.current_number += 1\n",
    "            print('Current game number:', self.current_number)\n",
    "            self.p = self.p_c()\n",
    "            self.c = self.c_c()\n",
    "            x = self.find_winner()\n",
    "            if x == 1:\n",
    "                print('player is winner')\n",
    "                self.player_w += 1\n",
    "            elif x == 2:\n",
    "                print('computer is winner')\n",
    "                self.computer_w += 1\n",
    "            else:\n",
    "                print('no winner')\n",
    "\n",
    "x = Rock_paper_scissors(5)\n",
    "x.play_game()\n",
    "print()\n",
    "print(x.player_w)\n",
    "print(x.computer_w)"
   ]
  }
 ],
 "metadata": {
  "kernelspec": {
   "display_name": "Python 3.10.4 64-bit",
   "language": "python",
   "name": "python3"
  },
  "language_info": {
   "codemirror_mode": {
    "name": "ipython",
    "version": 3
   },
   "file_extension": ".py",
   "mimetype": "text/x-python",
   "name": "python",
   "nbconvert_exporter": "python",
   "pygments_lexer": "ipython3",
   "version": "3.10.4"
  },
  "orig_nbformat": 4,
  "vscode": {
   "interpreter": {
    "hash": "4e87fb9651f095decd8de106e6e19502e9015860a9b023b493e487c30c191359"
   }
  }
 },
 "nbformat": 4,
 "nbformat_minor": 2
}
