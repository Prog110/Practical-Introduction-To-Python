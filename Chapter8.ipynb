{
 "cells": [
  {
   "cell_type": "markdown",
   "metadata": {},
   "source": [
    "E1"
   ]
  },
  {
   "cell_type": "code",
   "execution_count": 2,
   "metadata": {},
   "outputs": [
    {
     "name": "stdout",
     "output_type": "stream",
     "text": [
      "the the the a a a a an\n",
      "number of articles = 8\n"
     ]
    }
   ],
   "source": [
    "s = input('Enter a string: ')\n",
    "print(s)\n",
    "s = s.lower()\n",
    "l = s.split()\n",
    "l0 = ['a', 'an', 'the']\n",
    "c = 0\n",
    "for i in l:\n",
    "    if i in l0:\n",
    "        c += 1\n",
    "print('number of articles =', c)"
   ]
  },
  {
   "cell_type": "markdown",
   "metadata": {},
   "source": [
    "E2"
   ]
  },
  {
   "cell_type": "code",
   "execution_count": 87,
   "metadata": {},
   "outputs": [
    {
     "name": "stdout",
     "output_type": "stream",
     "text": [
      "['1', '2', '3', '4', '5']\n",
      "1 + 2 + 3 + 4 + 5\n"
     ]
    }
   ],
   "source": [
    "l = [input('Enter n{}: '.format(i + 1)) for i in range(5)]\n",
    "print(l)\n",
    "l = ' + '.join(l)\n",
    "print(l)"
   ]
  },
  {
   "cell_type": "markdown",
   "metadata": {},
   "source": [
    "E3"
   ]
  },
  {
   "cell_type": "code",
   "execution_count": 22,
   "metadata": {},
   "outputs": [
    {
     "name": "stdout",
     "output_type": "stream",
     "text": [
      "Ask thr user to enter a sentence and print out every third word of the sentence\n",
      "(a) user\n",
      "(b) user a print third the "
     ]
    }
   ],
   "source": [
    "from  string import punctuation as punc\n",
    "s = input('Enter a sentece: ')\n",
    "print(s)\n",
    "for i in punc:\n",
    "    s = s.replace(i, '')\n",
    "s = s.lower()\n",
    "l = s.split()\n",
    "if len(l) >= 3:\n",
    "    print('(a)',l[2])\n",
    "    print('(b) ', end='')\n",
    "    for i in range(2,len(l) + 1,3):\n",
    "        print(l[i], '', end='')\n",
    "else:\n",
    "    print('len(s) >= 3')"
   ]
  },
  {
   "cell_type": "markdown",
   "metadata": {},
   "source": [
    "E4"
   ]
  },
  {
   "cell_type": "code",
   "execution_count": 88,
   "metadata": {},
   "outputs": [
    {
     "name": "stdout",
     "output_type": "stream",
     "text": [
      "Write a program that asks the user to enter a sentence and then randomly rearranges the words of the sentence. Don’t worry about getting punctuation or capitalization correct.\n",
      "(a) that to Don’t a rearranges of randomly the punctuation asks a and sentence enter correct. Write worry or words the the user then getting sentence. program about capitalization\n",
      "(b) The rearranges asks to punctuation or program then that of randomly don’t capitalization sentence user worry w. ords the the correct a and sentence write getting enter a about. \n"
     ]
    }
   ],
   "source": [
    "from random import shuffle\n",
    "s = input('Enter a sentence: ')\n",
    "print(s)\n",
    "l = s.split()\n",
    "shuffle(l)\n",
    "l = ' '.join(l)\n",
    "print('(a)', l)\n",
    "s = s.lower()\n",
    "l0 = [i for i in range(len(s)) if s[i] == '.']\n",
    "s = s.replace('.', '')\n",
    "l = s.split()\n",
    "shuffle(l)\n",
    "l = ' '.join(l)\n",
    "for i in range(len(l0)):\n",
    "    l = l[ :l0[i] + 1] + '. ' + l[l0[i] + 1: ]\n",
    "l = l[0].upper() + l[1: ]\n",
    "print('(b)', l)"
   ]
  },
  {
   "cell_type": "markdown",
   "metadata": {},
   "source": [
    "E5"
   ]
  },
  {
   "cell_type": "code",
   "execution_count": 68,
   "metadata": {},
   "outputs": [
    {
     "name": "stdout",
     "output_type": "stream",
     "text": [
      "It is during our darkest moments that we must focus to see the light. -Aristotle\n"
     ]
    }
   ],
   "source": [
    "from random import choice\n",
    "l = ['Spread love everywhere you go. Let no one ever come to you without leaving happier. -Mother Teresa',\n",
    "'When you reach the end of your rope, tie a knot in it and hang on. -Franklin D. Roosevelt',\n",
    "'Always remember that you are absolutely unique. Just like everyone else. -Margaret Mead',\n",
    "'Don\\'t judge each day by the harvest you reap but by the seeds that you plant. -Robert Louis Stevenson',\n",
    "'The future belongs to those who believe in the beauty of their dreams. -Eleanor Roosevelt',\n",
    "'Tell me and I forget. Teach me and I remember. Involve me and I learn. -Benjamin Franklin',\n",
    "'The best and most beautiful things in the world cannot be seen or even touched — they must be felt with the heart. -Helen Keller',\n",
    "'It is during our darkest moments that we must focus to see the light. -Aristotle',\n",
    "'Whoever is happy will make others happy too. -Anne Frank',\n",
    "'Do not go where the path may lead, go instead where there is no path and leave a trail. -Ralph Waldo Emerson']\n",
    "print(choice(l))"
   ]
  },
  {
   "cell_type": "markdown",
   "metadata": {},
   "source": [
    "E6"
   ]
  },
  {
   "cell_type": "code",
   "execution_count": 83,
   "metadata": {},
   "outputs": [
    {
     "name": "stdout",
     "output_type": "stream",
     "text": [
      "[32, 8, 24, 32, 12, 45]\n"
     ]
    }
   ],
   "source": [
    "from random import randint\n",
    "l = [randint(1,48) for i in range(6)]\n",
    "print(l)"
   ]
  },
  {
   "cell_type": "markdown",
   "metadata": {},
   "source": [
    "E7"
   ]
  },
  {
   "cell_type": "code",
   "execution_count": 155,
   "metadata": {},
   "outputs": [
    {
     "name": "stdout",
     "output_type": "stream",
     "text": [
      "User number: [1, 9, 4, 5, 8, 3]\n",
      "406\n"
     ]
    }
   ],
   "source": [
    "from random import sample\n",
    "l = sample(range(1,10), 6)\n",
    "print('User number:', l)\n",
    "flag = 0\n",
    "for i in range(1000):\n",
    "    l0 =  sample(range(1,10), 6)\n",
    "    if l == l0:\n",
    "        print(i + 1)\n",
    "        flag = 1\n",
    "        break\n",
    "if flag == 0: print('more than 1000')      "
   ]
  },
  {
   "cell_type": "markdown",
   "metadata": {},
   "source": [
    "E8"
   ]
  },
  {
   "cell_type": "code",
   "execution_count": 195,
   "metadata": {},
   "outputs": [
    {
     "name": "stdout",
     "output_type": "stream",
     "text": [
      "winner : a5\n"
     ]
    }
   ],
   "source": [
    "from random import shuffle, choice\n",
    "names  = eval(input('Enter names: '))\n",
    "ent = eval(input('Enter number of hat entries: '))\n",
    "l = [names[i] for i in range(len(ent)) for j in range(ent[i])]\n",
    "shuffle(l)\n",
    "print('winner :', choice(l))\n",
    "#['a1', 'a2', 'a3', 'a4', 'a5']\n",
    "#[2,2,3,4,5]"
   ]
  },
  {
   "cell_type": "markdown",
   "metadata": {},
   "source": [
    "E9"
   ]
  },
  {
   "cell_type": "code",
   "execution_count": 218,
   "metadata": {},
   "outputs": [
    {
     "name": "stdout",
     "output_type": "stream",
     "text": [
      "[3, 6, 1, 7]\n",
      "question 1: Capital of Brazil?\n",
      "brasilia\n",
      "You got it!\n",
      "question 2: Capital of Iraq?\n",
      "baghdad\n",
      "You got it!\n",
      "question 3: Capital of France?\n",
      "paris\n",
      "You got it!\n",
      "question 4: Capital of Italy?\n",
      "rome\n",
      "You got it!\n",
      "Result: 4 Right Answers, 0 False Answers\n"
     ]
    }
   ],
   "source": [
    "from random import sample\n",
    "que = ['Capital of Iran?','Capital of France?','Capital of Us?','Capital of Brazil?','Capital of Russia?',\n",
    "'Capital of Spain?','Capital of Iraq?', 'Capital of Italy?','Capital of Japan?','Capital of China?']\n",
    "ans = ['Tehran', 'Paris', 'Washington', 'Brasilia', 'Moscow', 'Madrid', 'Baghdad', 'Rome', 'Tokyo', 'Beijing']\n",
    "l = sample(range(0,9), 4)\n",
    "print(l)\n",
    "r = 0\n",
    "for i in range(4):\n",
    "    print('question {}:'.format(i + 1), que[l[i]])\n",
    "    answer = input('question {}: {}'.format((i + 1), que[l[i]]))\n",
    "    print(answer)\n",
    "    if answer.lower() == ans[l[i]].lower():\n",
    "        print('You got it!')\n",
    "        r += 1\n",
    "    else:\n",
    "        print('Right answer : {}'.format(ans[l[i]]))\n",
    "print('Result: {} Right Answers, {} False Answers'.format(r, 4 - r))"
   ]
  },
  {
   "cell_type": "markdown",
   "metadata": {},
   "source": [
    "E10"
   ]
  },
  {
   "cell_type": "code",
   "execution_count": 225,
   "metadata": {},
   "outputs": [
    {
     "name": "stdout",
     "output_type": "stream",
     "text": [
      "string: Oh shoot, I thought I had the dang problem figured out. Darn it. Oh well, it was a heck of a freakin try.\n",
      "Oh *****, I thought I had the **** problem figured out. Darn it. Oh well, it was a **** of a ******* try.\n"
     ]
    }
   ],
   "source": [
    "from string import punctuation as punc\n",
    "s = input('Enter some text: ')\n",
    "print('string:', s)\n",
    "l = ['darn', 'dang', 'freakin', 'heck', 'shoot']\n",
    "for i in l:\n",
    "    s = s.replace(i, '*' * len(i))\n",
    "print(s)"
   ]
  },
  {
   "cell_type": "markdown",
   "metadata": {},
   "source": [
    "E11"
   ]
  },
  {
   "cell_type": "code",
   "execution_count": 236,
   "metadata": {},
   "outputs": [
    {
     "name": "stdout",
     "output_type": "stream",
     "text": [
      "string = string\n",
      "gstrni\n"
     ]
    }
   ],
   "source": [
    "from random import choice\n",
    "s = input('Enter a string: ')\n",
    "print('string =', s)\n",
    "l = [i for i in s]\n",
    "l0 = []\n",
    "for i in range(len(l)):\n",
    "    x = choice(l)\n",
    "    l0.append(x)\n",
    "    l.remove(x)\n",
    "print(''.join(l0))"
   ]
  },
  {
   "cell_type": "markdown",
   "metadata": {},
   "source": [
    "E12"
   ]
  },
  {
   "cell_type": "code",
   "execution_count": 246,
   "metadata": {},
   "outputs": [
    {
     "name": "stdout",
     "output_type": "stream",
     "text": [
      "phone number: 455-457-2233\n",
      "Valid\n"
     ]
    }
   ],
   "source": [
    "num = '0123456789'\n",
    "s = input('Enter a phone number: ')\n",
    "print('phone number:', s)\n",
    "flag = 0\n",
    "if len(s) == 12 or len(s) == 14:\n",
    "    if len(s) == 14:\n",
    "        if s[ :2] == '1-':\n",
    "            s = s[2: ]\n",
    "        else:\n",
    "            print('Invalid')\n",
    "    if len(s) == 12:\n",
    "        if s[3] == s[7] == '-' and s.count('-') == 2:\n",
    "            s = s.replace('-','')\n",
    "            for i in range(len(s)):\n",
    "                if s[i] in num:\n",
    "                    flag = 0\n",
    "                else:\n",
    "                    flag = 1\n",
    "                    break\n",
    "            if flag == 0:\n",
    "                print('Valid')\n",
    "            else:\n",
    "                print('Invalid')\n",
    "        else:\n",
    "            print('Invalid')\n",
    "else:\n",
    "    print('form of a phone number is like xxx-xxx-xxxx or 1-xxx-xxx-xxxx')"
   ]
  },
  {
   "cell_type": "markdown",
   "metadata": {},
   "source": [
    "E13"
   ]
  },
  {
   "cell_type": "code",
   "execution_count": 254,
   "metadata": {},
   "outputs": [
    {
     "name": "stdout",
     "output_type": "stream",
     "text": [
      "List = ['The', 'best', 'and', 'most', 'beautiful', 'things', 'in', 'the', 'world', 'cannot', 'be', 'seen', 'or', 'even', 'touched', 'they', 'must', 'be', 'felt', 'with', 'the', 'heart', 'Helen', 'Keller']\n",
      "(a) ['he', 'est', 'nd', 'ost', 'eautiful', 'hings', 'n', 'he', 'orld', 'annot', 'e', 'een', 'r', 'ven', 'ouched', 'hey', 'ust', 'e', 'elt', 'ith', 'he', 'eart', 'elen', 'eller']\n",
      "(b) [3, 4, 3, 4, 9, 6, 2, 3, 5, 6, 2, 4, 2, 4, 7, 4, 4, 2, 4, 4, 3, 5, 5, 6]\n",
      "(c) ['The', 'best', 'and', 'most', 'beautiful', 'things', 'the', 'world', 'cannot', 'seen', 'even', 'touched', 'they', 'must', 'felt', 'with', 'the', 'heart', 'Helen', 'Keller']\n"
     ]
    }
   ],
   "source": [
    "L = ['The', 'best', 'and', 'most', 'beautiful', 'things', 'in', 'the', 'world',\n",
    "'cannot', 'be', 'seen', 'or', 'even', 'touched', 'they', 'must', 'be', 'felt', 'with', 'the', 'heart', 'Helen', 'Keller']\n",
    "print('List =', L)\n",
    "la = [s[1: ] for s in L]\n",
    "print('(a)', la)\n",
    "lb = [len(s) for s in L]\n",
    "print('(b)', lb)\n",
    "lc = [s for s in L if len(s) >= 3]\n",
    "print('(c)', lc)"
   ]
  },
  {
   "cell_type": "markdown",
   "metadata": {},
   "source": [
    "E14"
   ]
  },
  {
   "cell_type": "code",
   "execution_count": 261,
   "metadata": {},
   "outputs": [
    {
     "name": "stdout",
     "output_type": "stream",
     "text": [
      "[101, 111, 121, 131, 141, 151, 161, 171, 181, 191, 202, 212, 222, 232, 242, 252, 262, 272, 282, 292, 303, 313, 323, 333, 343, 353, 363, 373, 383, 393, 404, 414, 424, 434, 444, 454, 464, 474, 484, 494, 505, 515, 525, 535, 545, 555, 565, 575, 585, 595, 606, 616, 626, 636, 646, 656, 666, 676, 686, 696, 707, 717, 727, 737, 747, 757, 767, 777, 787, 797, 808, 818, 828, 838, 848, 858, 868, 878, 888, 898, 909, 919, 929, 939, 949, 959, 969, 979, 989, 999]\n"
     ]
    }
   ],
   "source": [
    "L = [i for i in range(100,1001) if int(str(i)[ : :-1]) == i]\n",
    "print(L)"
   ]
  },
  {
   "cell_type": "markdown",
   "metadata": {},
   "source": [
    "E15"
   ]
  },
  {
   "cell_type": "code",
   "execution_count": 310,
   "metadata": {},
   "outputs": [
    {
     "name": "stdout",
     "output_type": "stream",
     "text": [
      "[1, 1, 0, 1, 0, 0, 1, 0, 0, 0, 1, 0, 0, 0, 0, 1, 0, 0, 0, 0, 0, 1, 0, 0, 0, 0, 0, 0, 1, 0, 0, 0, 0, 0, 0, 0, 1, 0, 0, 0, 0, 0, 0, 0, 0, 1, 0, 0, 0, 0, 0, 0, 0, 0, 0, 1, 0, 0, 0, 0, 0, 0, 0, 0, 0, 0, 1]\n"
     ]
    }
   ],
   "source": [
    "L = [0 for i in range(67)]\n",
    "for i in range(12):\n",
    "    L[int(i * (i + 1)/2)] = 1\n",
    "print(L)"
   ]
  },
  {
   "cell_type": "markdown",
   "metadata": {},
   "source": [
    "E16"
   ]
  },
  {
   "cell_type": "code",
   "execution_count": 318,
   "metadata": {},
   "outputs": [
    {
     "name": "stdout",
     "output_type": "stream",
     "text": [
      "L = [2, 3, 5, 7, 11, 13, 17, 19, 23, 29, 31, 37, 41, 43, 47]\n",
      "(a) Maximum gap size: 6\n",
      "(b) Percentage of gaps with size = 2: %42.857142857142854\n"
     ]
    }
   ],
   "source": [
    "L = [2,3,5,7,11,13,17,19,23,29,31,37,41,43,47]\n",
    "print('L =',L)\n",
    "l0 = [L[i + 1] - L[i] for i in range(len(L) - 1)]\n",
    "c = 0\n",
    "for i in l0:\n",
    "    if i == 2:\n",
    "        c += 1\n",
    "print('(a) Maximum gap size: {}\\n(b) Percentage of gaps with size = 2: %{}'.format(max(l0),c/len(l0)*100))"
   ]
  },
  {
   "cell_type": "markdown",
   "metadata": {},
   "source": [
    "E17"
   ]
  },
  {
   "cell_type": "code",
   "execution_count": 348,
   "metadata": {},
   "outputs": [
    {
     "name": "stdout",
     "output_type": "stream",
     "text": [
      "list_example : [[51, 43, 58, 40], [24, 41, 25, 14], [45, 24, 51, 89], [86, 71, 81, 37]]\n",
      "48.75\n"
     ]
    }
   ],
   "source": [
    "from random import randint\n",
    "list_example = [[randint(1,100) for i in range(4)] for i in range(4)]\n",
    "print('list_example :', list_example)\n",
    "s = sum(list_example[0]) + sum(list_example[1]) + sum(list_example[2]) + sum(list_example[3])\n",
    "print(s/16)"
   ]
  },
  {
   "cell_type": "markdown",
   "metadata": {},
   "source": [
    "E18"
   ]
  },
  {
   "cell_type": "code",
   "execution_count": 356,
   "metadata": {},
   "outputs": [
    {
     "name": "stdout",
     "output_type": "stream",
     "text": [
      "(a) List = [[51, 40, 94, 54, 37, 24, 18, 39, 85, 77], [96, 91, 3, 37, 31, 98, 88, 25, 77, 5], [22, 36, 59, 29, 10, 68, 73, 15, 19, 55], [9, 51, 73, 23, 93, 47, 97, 80, 74, 61], [53, 25, 67, 61, 90, 29, 32, 47, 82, 26], [90, 20, 54, 92, 15, 88, 55, 74, 11, 60], [9, 12, 30, 62, 78, 58, 11, 2, 36, 52], [78, 57, 54, 29, 52, 43, 84, 61, 86, 5], [24, 88, 41, 73, 78, 22, 60, 62, 26, 94], [44, 45, 28, 35, 76, 76, 51, 51, 70, 36]]\n",
      "(b) Largest in row 3: 73\n",
      "(c) Largest in column 6: 97\n"
     ]
    }
   ],
   "source": [
    "from random import randint\n",
    "L = [[randint(1,100) for i in range(10)] for i in range(10)]\n",
    "print('(a) List =',L)\n",
    "print('(b) Largest in row 3:',max(L[2]))\n",
    "c = 0\n",
    "for i in range(10):\n",
    "    if L[i][6] >= c:\n",
    "        c = L[i][6]\n",
    "print('(c) Largest in column 6:', c)"
   ]
  },
  {
   "cell_type": "markdown",
   "metadata": {},
   "source": [
    "E19"
   ]
  },
  {
   "cell_type": "code",
   "execution_count": 372,
   "metadata": {},
   "outputs": [
    {
     "name": "stdout",
     "output_type": "stream",
     "text": [
      "[[1, 2, 1, 2, 1, 2, 1, 2], [1, 2, 1, 2, 1, 2, 1, 2], [1, 2, 1, 2, 1, 2, 1, 2], [1, 2, 1, 2, 1, 2, 1, 2], [1, 2, 1, 2, 1, 2, 1, 2], [1, 2, 1, 2, 1, 2, 1, 2], [1, 2, 1, 2, 1, 2, 1, 2], [1, 2, 1, 2, 1, 2, 1, 2]]\n"
     ]
    }
   ],
   "source": [
    "L = [[1 for i in range(8)] for i in range(8)]\n",
    "for i in range(8):\n",
    "    for j in range(8):\n",
    "        if j % 2 == 1:\n",
    "            L[i][j] = 2\n",
    "print(L)"
   ]
  },
  {
   "cell_type": "markdown",
   "metadata": {},
   "source": [
    "E20"
   ]
  },
  {
   "cell_type": "code",
   "execution_count": 394,
   "metadata": {},
   "outputs": [
    {
     "name": "stdout",
     "output_type": "stream",
     "text": [
      "it is a Magic square list\n"
     ]
    }
   ],
   "source": [
    "L = [[0,0,0,0],[0,0,0,0],[0,0,0,0],[0,0,0,0]]\n",
    "r, c, d1, d2 = 0, 0, 0, 0\n",
    "for i in range(4):\n",
    "    d1 += L[i][i]\n",
    "    for j in range(4):\n",
    "        r += L[i][j]\n",
    "        c += L[j][i]\n",
    "x = 3\n",
    "for i in range(4):\n",
    "    d2 += L[i][x]\n",
    "    x -= 1\n",
    "if c == r == d1 == d2:\n",
    "    print('it is a Magic square list')\n",
    "else:\n",
    "    print('it is not a Magic square list')"
   ]
  },
  {
   "cell_type": "markdown",
   "metadata": {},
   "source": [
    "E21"
   ]
  },
  {
   "cell_type": "code",
   "execution_count": 409,
   "metadata": {},
   "outputs": [
    {
     "name": "stdout",
     "output_type": "stream",
     "text": [
      "40 inches\n",
      "0.0006313115790917474 miles\n"
     ]
    }
   ],
   "source": [
    "L_Meters = [[39.3701,'inches'],[1.09361,'yards'],[0.00062137,'miles'],[1000,'mm'],[100,'cm'],[1,'meters'],[0.001,'km']]\n",
    "n = eval(input('Enter a length: '))\n",
    "u0 = eval(input('what unit the length is? inches(0), yards(1), miles(2), millimeters(3), centimeters(4), meters(5), and kilometers(6)'))\n",
    "print(n,L_Meters[u0][1])\n",
    "u1 = eval(input('convert to which unit? inches(0), yards(1), miles(2), millimeters(3), centimeters(4), meters(5), and kilometers(6)'))\n",
    "n = (n / L_Meters[u0][0]) * L_Meters[u1][0]\n",
    "print(n,L_Meters[u1][1])\n"
   ]
  },
  {
   "cell_type": "markdown",
   "metadata": {},
   "source": [
    "E22"
   ]
  },
  {
   "cell_type": "code",
   "execution_count": 416,
   "metadata": {},
   "outputs": [
    {
     "name": "stdout",
     "output_type": "stream",
     "text": [
      "List = [[0, 0, 0, 1, 0], [1, 0, 0, 0, 0], [1, 1, 0, 1, 1], [1, 0, 1, 0, 1], [0, 0, 0, 1, 1]]\n",
      "Row = 4\n",
      "Column = 4\n",
      "Hit\n"
     ]
    }
   ],
   "source": [
    "from random import randint\n",
    "l = [[randint(0,1) for i in range(5)] for i in range(5)]\n",
    "r = eval(input('Enter a row between 0 to 4: '))\n",
    "c = eval(input('Enter a column between 0 to 4: '))\n",
    "print('List =', l)\n",
    "print('Row =', r)\n",
    "print('Column =', c)\n",
    "if l[r][c] == 0:\n",
    "    print('Miss')\n",
    "else:\n",
    "    print('Hit')"
   ]
  },
  {
   "cell_type": "markdown",
   "metadata": {},
   "source": [
    "E23"
   ]
  },
  {
   "cell_type": "code",
   "execution_count": 439,
   "metadata": {},
   "outputs": [
    {
     "name": "stdout",
     "output_type": "stream",
     "text": [
      "'  c  k  E  E  {\n",
      "9  w  Y  ,  Q  |\n",
      "U  Q  ,  Y  _  o\n",
      "}  {  N  9  >  N\n",
      "w  _  }  k  =  =\n",
      "o  U  '  |  c  >\n"
     ]
    }
   ],
   "source": [
    "from string import printable\n",
    "from random import sample, shuffle\n",
    "l = sample(printable, 18)*2\n",
    "shuffle(l)\n",
    "L = [[l[i] for i in range(len(l)) if 6 * j <= i <= 6 * (j + 1) - 1] for j in range(6)]\n",
    "for i in range(6):\n",
    "    print('{}  {}  {}  {}  {}  {}'.format(L[i][0],L[i][1],L[i][2],L[i][3],L[i][4],L[i][5]))"
   ]
  },
  {
   "cell_type": "markdown",
   "metadata": {},
   "source": [
    "E24"
   ]
  },
  {
   "cell_type": "code",
   "execution_count": 471,
   "metadata": {},
   "outputs": [
    {
     "name": "stdout",
     "output_type": "stream",
     "text": [
      "List = [[1, 1, 1, 0, 0], [0, 1, 0, 1, 1], [1, 1, 0, 0, 1], [1, 1, 1, 1, 1], [0, 1, 0, 0, 1]]\n",
      "[[1, 1, 1, 1, 1], [1, 1, 1, 1, 1], [1, 1, 1, 1, 1], [1, 1, 1, 1, 1], [1, 1, 1, 1, 1]]\n",
      "Done\n"
     ]
    }
   ],
   "source": [
    "from random import *\n",
    "l = [[randint(0,1) for i in range(5)] for i in range(5)]\n",
    "print('List =', l)\n",
    "flag = 0\n",
    "while flag == 0:\n",
    "    c, r = randint(0,4), randint(0,4)\n",
    "    if l[r][c] == 0:\n",
    "        l[r][c] = 1\n",
    "    for i in range(len(l)):\n",
    "        if 0 in l[i]:\n",
    "            flag = 0\n",
    "            break\n",
    "        else:\n",
    "            flag = 1\n",
    "print(l)\n",
    "print('Done')"
   ]
  },
  {
   "cell_type": "markdown",
   "metadata": {},
   "source": [
    "E25"
   ]
  },
  {
   "cell_type": "code",
   "execution_count": 1,
   "metadata": {},
   "outputs": [
    {
     "ename": "NameError",
     "evalue": "name 'l' is not defined",
     "output_type": "error",
     "traceback": [
      "\u001b[1;31m---------------------------------------------------------------------------\u001b[0m",
      "\u001b[1;31mNameError\u001b[0m                                 Traceback (most recent call last)",
      "\u001b[1;32md:\\Programming\\Python\\A_Practical_Introduction_to_Python_Programming_Heinold\\Chapter8\\Chapter8.ipynb Cell 50\u001b[0m in \u001b[0;36m<cell line: 4>\u001b[1;34m()\u001b[0m\n\u001b[0;32m      <a href='vscode-notebook-cell:/d%3A/Programming/Python/A_Practical_Introduction_to_Python_Programming_Heinold/Chapter8/Chapter8.ipynb#Y100sZmlsZQ%3D%3D?line=1'>2</a>\u001b[0m num \u001b[39m=\u001b[39m [\u001b[39m'\u001b[39m\u001b[39m0\u001b[39m\u001b[39m'\u001b[39m,\u001b[39m'\u001b[39m\u001b[39m1\u001b[39m\u001b[39m'\u001b[39m,\u001b[39m'\u001b[39m\u001b[39m2\u001b[39m\u001b[39m'\u001b[39m,\u001b[39m'\u001b[39m\u001b[39m3\u001b[39m\u001b[39m'\u001b[39m,\u001b[39m'\u001b[39m\u001b[39m4\u001b[39m\u001b[39m'\u001b[39m,\u001b[39m'\u001b[39m\u001b[39m5\u001b[39m\u001b[39m'\u001b[39m,\u001b[39m'\u001b[39m\u001b[39m6\u001b[39m\u001b[39m'\u001b[39m,\u001b[39m'\u001b[39m\u001b[39m7\u001b[39m\u001b[39m'\u001b[39m,\u001b[39m'\u001b[39m\u001b[39m8\u001b[39m\u001b[39m'\u001b[39m,\u001b[39m'\u001b[39m\u001b[39m9\u001b[39m\u001b[39m'\u001b[39m]\n\u001b[0;32m      <a href='vscode-notebook-cell:/d%3A/Programming/Python/A_Practical_Introduction_to_Python_Programming_Heinold/Chapter8/Chapter8.ipynb#Y100sZmlsZQ%3D%3D?line=2'>3</a>\u001b[0m n \u001b[39m=\u001b[39m [\u001b[39m'\u001b[39m\u001b[39m01265\u001b[39m\u001b[39m'\u001b[39m, \u001b[39m'\u001b[39m\u001b[39m12171\u001b[39m\u001b[39m'\u001b[39m, \u001b[39m'\u001b[39m\u001b[39m23257\u001b[39m\u001b[39m'\u001b[39m, \u001b[39m'\u001b[39m\u001b[39m34548\u001b[39m\u001b[39m'\u001b[39m, \u001b[39m'\u001b[39m\u001b[39m45970\u001b[39m\u001b[39m'\u001b[39m, \u001b[39m'\u001b[39m\u001b[39m56236\u001b[39m\u001b[39m'\u001b[39m, \u001b[39m'\u001b[39m\u001b[39m67324\u001b[39m\u001b[39m'\u001b[39m, \u001b[39m'\u001b[39m\u001b[39m78084\u001b[39m\u001b[39m'\u001b[39m, \u001b[39m'\u001b[39m\u001b[39m89872\u001b[39m\u001b[39m'\u001b[39m, \u001b[39m'\u001b[39m\u001b[39m99414\u001b[39m\u001b[39m'\u001b[39m]\n\u001b[1;32m----> <a href='vscode-notebook-cell:/d%3A/Programming/Python/A_Practical_Introduction_to_Python_Programming_Heinold/Chapter8/Chapter8.ipynb#Y100sZmlsZQ%3D%3D?line=3'>4</a>\u001b[0m \u001b[39mwhile\u001b[39;00m l \u001b[39m!=\u001b[39m [\u001b[39m1\u001b[39m,\u001b[39m1\u001b[39m,\u001b[39m1\u001b[39m,\u001b[39m1\u001b[39m,\u001b[39m1\u001b[39m,\u001b[39m1\u001b[39m,\u001b[39m1\u001b[39m,\u001b[39m1\u001b[39m,\u001b[39m1\u001b[39m,\u001b[39m1\u001b[39m]:\n\u001b[0;32m      <a href='vscode-notebook-cell:/d%3A/Programming/Python/A_Practical_Introduction_to_Python_Programming_Heinold/Chapter8/Chapter8.ipynb#Y100sZmlsZQ%3D%3D?line=4'>5</a>\u001b[0m     l \u001b[39m=\u001b[39m [\u001b[39m0\u001b[39m,\u001b[39m0\u001b[39m,\u001b[39m0\u001b[39m,\u001b[39m0\u001b[39m,\u001b[39m0\u001b[39m,\u001b[39m0\u001b[39m,\u001b[39m0\u001b[39m,\u001b[39m0\u001b[39m,\u001b[39m0\u001b[39m,\u001b[39m0\u001b[39m]\n\u001b[0;32m      <a href='vscode-notebook-cell:/d%3A/Programming/Python/A_Practical_Introduction_to_Python_Programming_Heinold/Chapter8/Chapter8.ipynb#Y100sZmlsZQ%3D%3D?line=5'>6</a>\u001b[0m     x \u001b[39m=\u001b[39m \u001b[39m'\u001b[39m\u001b[39m'\u001b[39m\u001b[39m.\u001b[39mjoin(sample(num,\u001b[39m5\u001b[39m))\n",
      "\u001b[1;31mNameError\u001b[0m: name 'l' is not defined"
     ]
    }
   ],
   "source": [
    "from random import sample\n",
    "num = ['0','1','2','3','4','5','6','7','8','9']\n",
    "n = ['01265', '12171', '23257', '34548', '45970', '56236', '67324', '78084', '89872', '99414']\n",
    "while l != [1,1,1,1,1,1,1,1,1,1]:\n",
    "    l = [0,0,0,0,0,0,0,0,0,0]\n",
    "    x = ''.join(sample(num,5))\n",
    "    for i in range(5):\n",
    "        for j in n:\n",
    "            if x[i] in j:\n",
    "                l[n.index(j)] += 1\n",
    "        if 2 in l:\n",
    "            break\n",
    "print(x)            "
   ]
  }
 ],
 "metadata": {
  "kernelspec": {
   "display_name": "Python 3.10.4 64-bit",
   "language": "python",
   "name": "python3"
  },
  "language_info": {
   "codemirror_mode": {
    "name": "ipython",
    "version": 3
   },
   "file_extension": ".py",
   "mimetype": "text/x-python",
   "name": "python",
   "nbconvert_exporter": "python",
   "pygments_lexer": "ipython3",
   "version": "3.10.4"
  },
  "orig_nbformat": 4,
  "vscode": {
   "interpreter": {
    "hash": "4e87fb9651f095decd8de106e6e19502e9015860a9b023b493e487c30c191359"
   }
  }
 },
 "nbformat": 4,
 "nbformat_minor": 2
}
