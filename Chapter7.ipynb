{
 "cells": [
  {
   "cell_type": "markdown",
   "metadata": {},
   "source": [
    "E1"
   ]
  },
  {
   "cell_type": "code",
   "execution_count": 2,
   "metadata": {},
   "outputs": [
    {
     "name": "stdout",
     "output_type": "stream",
     "text": [
      "l = [10, 9, 8, 7, 6, 5, 4, 3, 2, 1, 0]\n",
      "(a) len(l): 11\n",
      "(b) last item: 0\n",
      "(c) reverse order: [0, 1, 2, 3, 4, 5, 6, 7, 8, 9, 10]\n",
      "(d) 5 in l: yes\n",
      "(e) number if fives: 1\n",
      "(f) remaining items: [1, 2, 3, 4, 5, 6, 7, 8, 9]\n",
      "(g) 4 integers are less than 5\n"
     ]
    }
   ],
   "source": [
    "l = eval(input('Enter a list of integers: '))\n",
    "print('l =', l)\n",
    "#a\n",
    "print('(a) len(l):', len(l))\n",
    "#b\n",
    "print('(b) last item:', l[-1])\n",
    "#c\n",
    "l.reverse()\n",
    "print('(c) reverse order:', l)\n",
    "#d\n",
    "if 5 in l:\n",
    "    print('(d) 5 in l: yes')\n",
    "else:\n",
    "    print('(d) 5 in l: no ')\n",
    "#e\n",
    "print('(e) number if fives:', l.count(5))\n",
    "#f\n",
    "l.pop(0)\n",
    "l.pop(-1)\n",
    "l.sort()\n",
    "print('(f) remaining items:', l)\n",
    "#g\n",
    "c = 0\n",
    "for i in l:\n",
    "    if i < 5:\n",
    "        c += 1\n",
    "print('(g) {} integers are less than 5'.format(c))"
   ]
  },
  {
   "cell_type": "markdown",
   "metadata": {},
   "source": [
    "E2"
   ]
  },
  {
   "cell_type": "code",
   "execution_count": 4,
   "metadata": {},
   "outputs": [
    {
     "name": "stdout",
     "output_type": "stream",
     "text": [
      "(a) l = [3, 19, 2, 85, 92, 22, 90, 46, 76, 50, 1, 2, 11, 28, 95, 100, 47, 69, 28, 64]\n",
      "(b) average of elements = 46.5\n",
      "(c) largest value = 100, smallest value = 1\n",
      "(d) second largest value = 95, second smallest value = 2\n",
      "(e) number of even numbers = 12\n"
     ]
    }
   ],
   "source": [
    "from random import randint\n",
    "l = []\n",
    "for i in range(20):\n",
    "    l.append(randint(1,100))\n",
    "#a\n",
    "print('(a) l =', l)\n",
    "#b\n",
    "print('(b) average of elements =', sum(l)/len(l))\n",
    "#c\n",
    "print('(c) largest value = {}, smallest value = {}'.format(max(l), min(l)))\n",
    "#d\n",
    "l.sort()\n",
    "print('(d) second largest value = {}, second smallest value = {}'.format(l[-2], l[1]))\n",
    "#e\n",
    "x = 0\n",
    "for i in l:\n",
    "    if i % 2 == 0:\n",
    "        x += 1\n",
    "print('(e) number of even numbers =', x)"
   ]
  },
  {
   "cell_type": "markdown",
   "metadata": {},
   "source": [
    "E3"
   ]
  },
  {
   "cell_type": "code",
   "execution_count": 12,
   "metadata": {},
   "outputs": [
    {
     "name": "stdout",
     "output_type": "stream",
     "text": [
      "[4, 5, 6, 25, 10, 17, 4, 5, 6, 10, 17]\n"
     ]
    }
   ],
   "source": [
    "l = [8, 9, 10]\n",
    "#a\n",
    "l[1] = 17\n",
    "#b\n",
    "l += [4, 5, 6]\n",
    "#c\n",
    "l.pop(0)\n",
    "#d\n",
    "l.sort()\n",
    "#e\n",
    "l = 2*l\n",
    "#f\n",
    "l.insert(3,25)\n",
    "print(l)"
   ]
  },
  {
   "cell_type": "markdown",
   "metadata": {},
   "source": [
    "E4"
   ]
  },
  {
   "cell_type": "code",
   "execution_count": 17,
   "metadata": {},
   "outputs": [
    {
     "name": "stdout",
     "output_type": "stream",
     "text": [
      "[1, 2, 3, 4, 5, 6, 7, 8, 9, 10, 11, 12]\n",
      "[1, 2, 3, 4, 5, 6, 7, 8, 9, 10, 10, 10]\n"
     ]
    }
   ],
   "source": [
    "from random import randint\n",
    "l = eval(input('Enter a list of numbers between 1 and 12: '))\n",
    "print(l)\n",
    "for i in range(len(l)):\n",
    "    if l[i] > 10:\n",
    "        l[i] = 10\n",
    "print(l)"
   ]
  },
  {
   "cell_type": "markdown",
   "metadata": {},
   "source": [
    "E5"
   ]
  },
  {
   "cell_type": "code",
   "execution_count": 18,
   "metadata": {},
   "outputs": [
    {
     "name": "stdout",
     "output_type": "stream",
     "text": [
      "['aaa', 'aaa', 'aaa']\n",
      "['aa', 'aa', 'aa']\n"
     ]
    }
   ],
   "source": [
    "l = eval(input('Enter a list of strings: '))\n",
    "print(l)\n",
    "for i in range(len(l)):\n",
    "    l[i] = l[i][1: ]\n",
    "print(l)"
   ]
  },
  {
   "cell_type": "markdown",
   "metadata": {},
   "source": [
    "E6"
   ]
  },
  {
   "cell_type": "code",
   "execution_count": 26,
   "metadata": {},
   "outputs": [
    {
     "name": "stdout",
     "output_type": "stream",
     "text": [
      "(a) [0, 1, 2, 3, 4, 5, 6, 7, 8, 9, 10, 11, 12, 13, 14, 15, 16, 17, 18, 19, 20, 21, 22, 23, 24, 25, 26, 27, 28, 29, 30, 31, 32, 33, 34, 35, 36, 37, 38, 39, 40, 41, 42, 43, 44, 45, 46, 47, 48, 49]\n",
      "(b) [1, 2, 3, 4, 5, 6, 7, 8, 9, 10, 11, 12, 13, 14, 15, 16, 17, 18, 19, 20, 21, 22, 23, 24, 25, 26, 27, 28, 29, 30, 31, 32, 33, 34, 35, 36, 37, 38, 39, 40, 41, 42, 43, 44, 45, 46, 47, 48, 49, 50]\n",
      "['a', 'bb', 'ccc', 'dddd', 'eeeee', 'ffffff', 'ggggggg', 'hhhhhhhh', 'iiiiiiiii', 'jjjjjjjjjj', 'kkkkkkkkkkk', 'llllllllllll', 'mmmmmmmmmmmmm', 'nnnnnnnnnnnnnn', 'ooooooooooooooo', 'pppppppppppppppp', 'qqqqqqqqqqqqqqqqq', 'rrrrrrrrrrrrrrrrrr', 'sssssssssssssssssss', 'tttttttttttttttttttt', 'uuuuuuuuuuuuuuuuuuuuu', 'vvvvvvvvvvvvvvvvvvvvvv', 'wwwwwwwwwwwwwwwwwwwwwww', 'xxxxxxxxxxxxxxxxxxxxxxxx', 'yyyyyyyyyyyyyyyyyyyyyyyyy', 'zzzzzzzzzzzzzzzzzzzzzzzzzz']\n"
     ]
    }
   ],
   "source": [
    "#a\n",
    "l = []\n",
    "for i in range(50):\n",
    "    l += [i]\n",
    "print('(a)', l)\n",
    "#b\n",
    "l = []\n",
    "for i in range(1,51):\n",
    "    l += [i]\n",
    "print('(b)', l)\n",
    "#c\n",
    "l0 = 'abcdefghijklmnopqrstuvwxyz'\n",
    "l = []\n",
    "for i in range(26):\n",
    "    l.append(l0[i] * (i + 1))\n",
    "print(l)"
   ]
  },
  {
   "cell_type": "markdown",
   "metadata": {},
   "source": [
    "E7"
   ]
  },
  {
   "cell_type": "code",
   "execution_count": 29,
   "metadata": {},
   "outputs": [
    {
     "name": "stdout",
     "output_type": "stream",
     "text": [
      "N = [2, 4, 6, 8, 10, 12, 14, 16, 18]\n"
     ]
    }
   ],
   "source": [
    "def list_creater(L,M):\n",
    "    if type(L) == list and type(M) == list and len(L) == len(M):\n",
    "        N = []\n",
    "        for i in range(len(M)):\n",
    "            N.append(M[i] + L[i])\n",
    "        return N\n",
    "    else:\n",
    "        print('type(L) and type(M) is \\'list\\' and len(L) = len(M)')\n",
    "x = list_creater([1,2,3,4,5,6,7,8,9], [1,2,3,4,5,6,7,8,9])\n",
    "print('N =', x)"
   ]
  },
  {
   "cell_type": "markdown",
   "metadata": {},
   "source": [
    "E8"
   ]
  },
  {
   "cell_type": "code",
   "execution_count": 37,
   "metadata": {},
   "outputs": [
    {
     "name": "stdout",
     "output_type": "stream",
     "text": [
      "n : 100\n",
      "[1, 2, 4, 5, 10, 20, 25, 50, 100]\n"
     ]
    }
   ],
   "source": [
    "n = eval(input('Enter a number: '))\n",
    "print('n :', n)\n",
    "l = []\n",
    "for i in range(n):\n",
    "    if n % (i + 1) == 0:\n",
    "        l.append(i + 1)\n",
    "print(l)"
   ]
  },
  {
   "cell_type": "markdown",
   "metadata": {},
   "source": [
    "E9"
   ]
  },
  {
   "cell_type": "code",
   "execution_count": 109,
   "metadata": {},
   "outputs": [
    {
     "name": "stdout",
     "output_type": "stream",
     "text": [
      "2 : 2.97, 3 : 5.77, 4 : 8.36, 5 : 11.27, 6 : 14.05, 7 : 16.6,\n",
      " 8 : 13.57, 9 : 10.95, 10 : 8.46, 11 : 5.36, 12 : 2.64\n"
     ]
    }
   ],
   "source": [
    "from random import randint\n",
    "l = [0] * 11\n",
    "for i in range(10000):\n",
    "    x = randint(1,6) + randint(1,6)\n",
    "    for i in range(2,13):\n",
    "        if x == i:\n",
    "            l[i - 2] = l[i - 2] + 1\n",
    "print('''2 : {}, 3 : {}, 4 : {}, 5 : {}, 6 : {}, 7 : {},\n",
    " 8 : {}, 9 : {}, 10 : {}, 11 : {}, 12 : {}'''.format(l[0] / 100, l[1] / 100, l[2] / 100, l[3] / 100, l[4] / 100, l[5] / 100\n",
    " , l[6] / 100, l[7] / 100, l[8] / 100, l[9] / 100, l[10] / 100))"
   ]
  },
  {
   "cell_type": "markdown",
   "metadata": {},
   "source": [
    "E10"
   ]
  },
  {
   "cell_type": "code",
   "execution_count": 35,
   "metadata": {},
   "outputs": [
    {
     "name": "stdout",
     "output_type": "stream",
     "text": [
      "l0 = [0, 1, 3, 5, 7] \n",
      "l = [7, 0, 1, 3, 5]\n"
     ]
    }
   ],
   "source": [
    "def list_rotator(l):\n",
    "    x = l[-1]\n",
    "    l0 = l[ : ]\n",
    "    for i in range(len(l)):\n",
    "        if 0 <= i <= len(l) - 2:\n",
    "            l[i + 1] = l0[i]\n",
    "        else:\n",
    "            l[0] = x\n",
    "    print('l0 =', l0,'\\nl =', l )\n",
    "list_rotator([0,1,3,5,7])"
   ]
  },
  {
   "cell_type": "markdown",
   "metadata": {},
   "source": [
    "E11"
   ]
  },
  {
   "cell_type": "code",
   "execution_count": 48,
   "metadata": {},
   "outputs": [
    {
     "name": "stdout",
     "output_type": "stream",
     "text": [
      "[1, 1, 0, 1, 0, 0, 1, 0, 0, 0, 1, 0, 0, 0, 0, 1, 0, 0, 0, 0, 0, 1, 0, 0, 0, 0, 0, 0, 1, 0, 0, 0, 0, 0, 0, 0, 1, 0, 0, 0, 0, 0, 0, 0, 0, 1, 0, 0, 0, 0, 0, 0, 0, 0, 0, 1]\n"
     ]
    }
   ],
   "source": [
    "l = [''] * 56\n",
    "n = 0\n",
    "for i in range(56):\n",
    "    if i == (n * (n + 1))/2:\n",
    "        l[i] = 1\n",
    "        n += 1\n",
    "    else:\n",
    "        l[i] = 0\n",
    "print(l)"
   ]
  },
  {
   "cell_type": "markdown",
   "metadata": {},
   "source": [
    "E12"
   ]
  },
  {
   "cell_type": "code",
   "execution_count": 192,
   "metadata": {},
   "outputs": [
    {
     "name": "stdout",
     "output_type": "stream",
     "text": [
      "l = [0, 1, 0, 1, 0, 0, 0, 0, 0, 0, 1, 0, 0, 1, 0, 0, 1, 0, 0, 0, 0, 1, 0, 1, 0, 1, 1, 0, 0, 0, 0, 1, 1, 0, 1, 0, 1, 0, 1, 0, 0, 1, 0, 0, 1, 0, 1, 1, 1, 0, 1, 0, 1, 0, 1, 1, 0, 0, 1, 1, 0, 0, 0, 1, 0, 0, 0, 0, 0, 1, 1, 0, 0, 0, 0, 0, 0, 0, 0, 0, 1, 1, 1, 1, 1, 1, 1, 1, 0, 1, 0, 1, 0, 0, 0, 1, 1, 1, 1, 1]\n",
      "The longest run of zeros in l = 9\n"
     ]
    }
   ],
   "source": [
    "from random import randint\n",
    "l = []\n",
    "for i in range(100):\n",
    "    l.append(randint(0,1))\n",
    "print('l =', l)\n",
    "l0 = []\n",
    "x = 0\n",
    "for i in range(100):\n",
    "    if 1 in l:\n",
    "        l0.append(l.index(1) + x)\n",
    "        l.remove(1)\n",
    "        x += 1\n",
    "y = l0[0]\n",
    "for i in range(len(l0) - 1):\n",
    "    x = l0[i + 1] - l0[i] - 1\n",
    "    if x > y:\n",
    "        y = x\n",
    "print('The longest run of zeros in l =', y)"
   ]
  },
  {
   "cell_type": "markdown",
   "metadata": {},
   "source": [
    "E13"
   ]
  },
  {
   "cell_type": "code",
   "execution_count": 217,
   "metadata": {},
   "outputs": [
    {
     "name": "stdout",
     "output_type": "stream",
     "text": [
      "[1, 2, 44, 5, 79, 8]\n"
     ]
    }
   ],
   "source": [
    "def rep_item_remover(l):\n",
    "    if type(l) == list:\n",
    "        for i in l:\n",
    "            while l.count(i) > 1:\n",
    "                l.remove(i)\n",
    "    else:\n",
    "        print('type(l) = list!')\n",
    "    return l\n",
    "x = rep_item_remover([1,1,1,2,2,44,5,79,8])\n",
    "print(x)"
   ]
  },
  {
   "cell_type": "markdown",
   "metadata": {},
   "source": [
    "E14"
   ]
  },
  {
   "cell_type": "code",
   "execution_count": 219,
   "metadata": {},
   "outputs": [
    {
     "name": "stdout",
     "output_type": "stream",
     "text": [
      "length = 15\n",
      "choice = 4\n",
      "4572.0\n"
     ]
    }
   ],
   "source": [
    "n = eval(input('Enter a length in feet: '))\n",
    "print('length =', n)\n",
    "l = [12*n, 0.3333*n, 0.000189394*n, 304.8*n, 30.48*n, 0.0003048*n, ]\n",
    "n0 = eval(input('Enter: inches[1], yards[2], miles[3], mm[4], cm[5], Km[6]'))\n",
    "print('choice =', n0)\n",
    "print(l[n0 - 1])"
   ]
  },
  {
   "cell_type": "markdown",
   "metadata": {},
   "source": [
    "E15"
   ]
  },
  {
   "cell_type": "code",
   "execution_count": 269,
   "metadata": {},
   "outputs": [
    {
     "name": "stdout",
     "output_type": "stream",
     "text": [
      "(a) string: Hello, World!\n",
      "Key : [18, 22, 20, 20, 5, 7, 11, 10, 3, 13]\n",
      "Encrypted message: zafft, dzboq!\n",
      "Decrypted message: hello, world!\n"
     ]
    }
   ],
   "source": [
    "from random import randint\n",
    "#a\n",
    "alph = 'abcdefghijklmnopqrstuvwxyz'\n",
    "s = input('Enter a string: ')\n",
    "print('(a) string:', s)\n",
    "key = []\n",
    "s = s.lower()\n",
    "en = ''\n",
    "for i in range(len(s)):\n",
    "    if s[i] in alph:\n",
    "        x = randint(1,26)\n",
    "        key.append(x)\n",
    "        en += alph[(alph.index(s[i]) + x) % 26]\n",
    "    else:\n",
    "        en += s[i]\n",
    "print('Key :', key)\n",
    "print('Encrypted message:', en)\n",
    "#b\n",
    "de = ''\n",
    "x = 0\n",
    "for i in range(len(en)):\n",
    "    if en[i] in alph:\n",
    "        de += alph[(alph.index(en[i]) - key[x]) % 26]\n",
    "        x += 1\n",
    "    else:\n",
    "        de += en[i]\n",
    "print('Decrypted message:', de)"
   ]
  }
 ],
 "metadata": {
  "interpreter": {
   "hash": "31f2aee4e71d21fbe5cf8b01ff0e069b9275f58929596ceb00d14d90e3e16cd6"
  },
  "kernelspec": {
   "display_name": "Python 3.9.9 64-bit",
   "language": "python",
   "name": "python3"
  },
  "language_info": {
   "codemirror_mode": {
    "name": "ipython",
    "version": 3
   },
   "file_extension": ".py",
   "mimetype": "text/x-python",
   "name": "python",
   "nbconvert_exporter": "python",
   "pygments_lexer": "ipython3",
   "version": "3.9.9"
  },
  "orig_nbformat": 4
 },
 "nbformat": 4,
 "nbformat_minor": 2
}
