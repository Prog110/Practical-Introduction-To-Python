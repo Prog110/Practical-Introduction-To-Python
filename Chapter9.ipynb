{
 "cells": [
  {
   "cell_type": "markdown",
   "metadata": {},
   "source": [
    "Modules"
   ]
  },
  {
   "cell_type": "code",
   "execution_count": 2,
   "metadata": {},
   "outputs": [],
   "source": [
    "from random import *"
   ]
  },
  {
   "cell_type": "markdown",
   "metadata": {},
   "source": [
    "E1"
   ]
  },
  {
   "cell_type": "code",
   "execution_count": 9,
   "metadata": {},
   "outputs": [
    {
     "name": "stdout",
     "output_type": "stream",
     "text": [
      "1\n",
      "2\n",
      "3\n",
      "4\n",
      "5\n",
      "6\n",
      "7\n",
      "8\n",
      "9\n",
      "10\n",
      "11\n",
      "12\n",
      "13\n",
      "14\n",
      "15\n",
      "16\n",
      "17\n",
      "18\n",
      "19\n",
      "20\n",
      "21\n",
      "22\n",
      "23\n",
      "24\n",
      "25\n",
      "26\n",
      "27\n",
      "28\n",
      "29\n",
      "30\n",
      "31\n",
      "32\n",
      "33\n",
      "34\n",
      "35\n",
      "36\n",
      "37\n",
      "38\n",
      "39\n",
      "40\n",
      "41\n",
      "42\n",
      "43\n",
      "44\n",
      "45\n",
      "46\n",
      "47\n",
      "48\n",
      "49\n",
      "50\n"
     ]
    }
   ],
   "source": [
    "x  = 0\n",
    "while x <= 49:\n",
    "    x += 1\n",
    "    print(x)"
   ]
  },
  {
   "cell_type": "markdown",
   "metadata": {},
   "source": [
    "E2"
   ]
  },
  {
   "cell_type": "code",
   "execution_count": 13,
   "metadata": {},
   "outputs": [
    {
     "name": "stdout",
     "output_type": "stream",
     "text": [
      "(a) string : Player\n",
      "P\n",
      "l\n",
      "a\n",
      "y\n",
      "e\n",
      "r\n",
      "(b)\n",
      "P\n",
      "a\n",
      "e\n"
     ]
    }
   ],
   "source": [
    "s = input('(a) Enter a string: ')\n",
    "print('(a) string :', s)\n",
    "x = 0\n",
    "while x < len(s):\n",
    "    print(s[x])\n",
    "    x += 1\n",
    "x = 0\n",
    "print('(b)')\n",
    "while x < len(s):\n",
    "    if x % 2 == 0:\n",
    "        print(s[x])\n",
    "    x += 1"
   ]
  },
  {
   "cell_type": "markdown",
   "metadata": {},
   "source": [
    "E3"
   ]
  },
  {
   "cell_type": "code",
   "execution_count": 14,
   "metadata": {},
   "outputs": [
    {
     "name": "stdout",
     "output_type": "stream",
     "text": [
      "Invalid input!\n",
      "Invalid input!\n",
      "In pounds it is 11.023113109\n"
     ]
    }
   ],
   "source": [
    "x = eval(input('Enter a weight in Kilograms: '))\n",
    "while x < 0:\n",
    "    print('Invalid input!')\n",
    "    x = eval(input('Enter a weight in Kilograms: '))\n",
    "print('In pounds it is', x * 2.2046226218)"
   ]
  },
  {
   "cell_type": "markdown",
   "metadata": {},
   "source": [
    "E4"
   ]
  },
  {
   "cell_type": "code",
   "execution_count": 38,
   "metadata": {},
   "outputs": [
    {
     "name": "stdout",
     "output_type": "stream",
     "text": [
      "Passed it!\n"
     ]
    }
   ],
   "source": [
    "password = '0011'\n",
    "x = input('Enter password: ')\n",
    "c = 0\n",
    "while c < 4 and x != password:\n",
    "    print('Wrong password!')\n",
    "    x = input('Enter password: ')\n",
    "    c += 1\n",
    "if x == password:\n",
    "    print('Passed it!')\n",
    "else:\n",
    "    print('Wrong password!\\nYou tried 5 times\\nYou are kicked off of the system')"
   ]
  },
  {
   "cell_type": "markdown",
   "metadata": {},
   "source": [
    "E5"
   ]
  },
  {
   "cell_type": "code",
   "execution_count": 46,
   "metadata": {},
   "outputs": [
    {
     "name": "stdout",
     "output_type": "stream",
     "text": [
      "number = 14\n",
      "number = 90\n",
      "number = 50\n",
      "number = 100\n",
      "number = -1\n",
      "Number of grade A numbers is 2\n",
      "Avg (positive numbers): 63.5\n"
     ]
    }
   ],
   "source": [
    "x, c, Avg, Avg0= 0, 0, 0, 0\n",
    "while x >= 0 :\n",
    "    x = eval(input('Enter number: '))\n",
    "    print('number =', x)\n",
    "    if x > 0:\n",
    "        Avg += x\n",
    "        Avg0 += 1\n",
    "    if x >= 90:\n",
    "        c += 1\n",
    "print('Number of grade A numbers is', c)\n",
    "print('Avg (positive numbers):',Avg / Avg0)"
   ]
  },
  {
   "cell_type": "markdown",
   "metadata": {},
   "source": [
    "E6"
   ]
  },
  {
   "cell_type": "code",
   "execution_count": 10,
   "metadata": {},
   "outputs": [
    {
     "name": "stdout",
     "output_type": "stream",
     "text": [
      " HIGHER.  4  guesses left.\n",
      " \n",
      " HIGHER.  3  guesses left.\n",
      " \n",
      " HIGHER.  2  guesses left.\n",
      " \n",
      " HIGHER.  1  guess left.\n",
      " \n",
      " You lose. The correct number is  96\n"
     ]
    }
   ],
   "source": [
    "secret_num = randint(1,100)\n",
    "num_guesses = 0\n",
    "guess = 0\n",
    "while guess != secret_num and num_guesses <= 4:\n",
    "    guess = eval(input( ' Enter your guess (1-100): ' ))\n",
    "    num_guesses = num_guesses + 1\n",
    "    if guess < secret_num and num_guesses < 4:\n",
    "        print( ' HIGHER. ' , 5-num_guesses, ' guesses left.\\n ' )\n",
    "    elif guess > secret_num and num_guesses < 4:\n",
    "        print( ' LOWER. ' , 5-num_guesses, ' guesses left.\\n ' )\n",
    "    elif guess < secret_num and num_guesses == 4:\n",
    "        print( ' HIGHER. ' , 1, ' guess left.\\n ' )\n",
    "    elif guess > secret_num and num_guesses == 4:\n",
    "        print( ' LOWER. ' , 1, ' guess left.\\n ' )\n",
    "    elif secret_num == guess:\n",
    "        print( ' You got it! ' )\n",
    "if num_guesses==5 and guess != secret_num:\n",
    "    print( ' You lose. The correct number is ' , secret_num)"
   ]
  },
  {
   "cell_type": "markdown",
   "metadata": {},
   "source": [
    "E7"
   ]
  },
  {
   "cell_type": "code",
   "execution_count": 5,
   "metadata": {},
   "outputs": [
    {
     "name": "stdout",
     "output_type": "stream",
     "text": [
      "s = stry\n",
      "x = y\n",
      "index of y is 3\n",
      "index of y is 3\n"
     ]
    }
   ],
   "source": [
    "#a\n",
    "s = input('Enter a string: ')\n",
    "print('s =', s)\n",
    "x = input('Enter a letter: ')\n",
    "print('x =', x)\n",
    "l = 0\n",
    "while l < len(s):\n",
    "    if s[l] == x:\n",
    "        print('index of', x, 'is', l)\n",
    "        l = len(s) + 1\n",
    "    else:\n",
    "        l += 1\n",
    "if l == len(s):\n",
    "    print(x, 'is not in', s)\n",
    "#b\n",
    "flag = 0\n",
    "for i in range(len(s)):\n",
    "    if s[i] == x:\n",
    "        print('index of', x, 'is', i)\n",
    "        flag = 1\n",
    "        break\n",
    "if flag == 0:\n",
    "    print(x, 'is not in', s) "
   ]
  },
  {
   "cell_type": "markdown",
   "metadata": {},
   "source": [
    "E8"
   ]
  },
  {
   "cell_type": "code",
   "execution_count": 8,
   "metadata": {},
   "outputs": [
    {
     "name": "stdout",
     "output_type": "stream",
     "text": [
      "2\n"
     ]
    }
   ],
   "source": [
    "def gcd(x,y):\n",
    "    min = x if x < y else y\n",
    "    gcd = 1\n",
    "    for i in range(1,min + 1):\n",
    "        if x % i == 0 and y % i == 0:\n",
    "            gcd = i\n",
    "    return gcd\n",
    "x = gcd(2, 6)\n",
    "print(x)"
   ]
  },
  {
   "cell_type": "markdown",
   "metadata": {},
   "source": [
    "E9"
   ]
  },
  {
   "cell_type": "code",
   "execution_count": 42,
   "metadata": {},
   "outputs": [
    {
     "name": "stdout",
     "output_type": "stream",
     "text": [
      "250.5\n",
      "126.24800399201597\n",
      "65.1042313231648\n",
      "36.39211184799075\n",
      "25.06567649023912\n",
      "22.506636482615885\n",
      "22.361153043416195\n",
      "22.3606797800062\n",
      "22.360679774997898\n",
      "22.360679774997898\n"
     ]
    }
   ],
   "source": [
    "n = int(input('Enter a number: '))\n",
    "n0, n1, x = 0, 1, 1\n",
    "while abs(n1 - n0) > 0.0000000001:\n",
    "    n1 = n0\n",
    "    n0 = (x + (n / x)) / 2\n",
    "    x = n0\n",
    "    print(n0)"
   ]
  },
  {
   "cell_type": "markdown",
   "metadata": {},
   "source": [
    "E10"
   ]
  },
  {
   "cell_type": "code",
   "execution_count": 26,
   "metadata": {},
   "outputs": [
    {
     "name": "stdout",
     "output_type": "stream",
     "text": [
      "as\n"
     ]
    }
   ],
   "source": [
    "def selector(l):\n",
    "    if type(l) == list:\n",
    "        flag = 1\n",
    "        while flag == 1:\n",
    "            if l == []:\n",
    "                x = 'There is not a suitable choice'\n",
    "                break\n",
    "            x = choice(l)\n",
    "            l.remove(x)\n",
    "            flag = 0\n",
    "            for i in x:\n",
    "                if x.count(i) > 1:\n",
    "                    flag = 1\n",
    "                    break\n",
    "                else:\n",
    "                    flag = 0\n",
    "    else:\n",
    "        print('type(l) = list')\n",
    "    return x\n",
    "x = selector(['111','121','as'])\n",
    "print(x)"
   ]
  },
  {
   "cell_type": "markdown",
   "metadata": {},
   "source": [
    "E11"
   ]
  },
  {
   "cell_type": "code",
   "execution_count": 16,
   "metadata": {},
   "outputs": [
    {
     "name": "stdout",
     "output_type": "stream",
     "text": [
      "[[1, 1, 0, 0, 0], [0, 0, 1, 0, 0], [0, 1, 0, 1, 0], [1, 0, 1, 0, 1], [0, 0, 1, 0, 1]]\n"
     ]
    }
   ],
   "source": [
    "l = [[0 for i in range(5)] for i in range(5)]\n",
    "i = 0\n",
    "while i <= 9:\n",
    "    x, y = randint(0,4), randint(0,4)\n",
    "    if l[x][y] == 0:\n",
    "        l[x][y] = 1\n",
    "        i += 1\n",
    "print(l)"
   ]
  },
  {
   "cell_type": "markdown",
   "metadata": {},
   "source": [
    "E12"
   ]
  },
  {
   "cell_type": "code",
   "execution_count": 38,
   "metadata": {},
   "outputs": [
    {
     "name": "stdout",
     "output_type": "stream",
     "text": [
      "l = [0, 0, 1, 1, 1, 0, 0]\n",
      "Now done. It took just 0.0002715587615966797\n",
      "l = [1, 1, 1, 1, 1, 1, 1]\n"
     ]
    }
   ],
   "source": [
    "from time import time\n",
    "l = [randint(0,1) for i in range(7)]\n",
    "print('l =', l)\n",
    "done = False\n",
    "z0 = time()\n",
    "while not done:\n",
    "    x = l.index(0)\n",
    "    l[x] = 1\n",
    "    if l.count(0) == 0:\n",
    "        elapsed = time() - z0\n",
    "        print('Now done. It took just', elapsed)\n",
    "        done = True\n",
    "print('l =', l)"
   ]
  },
  {
   "cell_type": "markdown",
   "metadata": {},
   "source": [
    "E13"
   ]
  },
  {
   "cell_type": "code",
   "execution_count": 58,
   "metadata": {},
   "outputs": [
    {
     "name": "stdout",
     "output_type": "stream",
     "text": [
      "Your guess: r  Wrong guess!\n",
      "Computer: s\n",
      "\n",
      "Your guess: r  Wrong guess!\n",
      "Computer: s\n",
      "\n",
      "Your guess: r  Wrong guess!\n",
      "Computer: p\n",
      "\n",
      "Your guess: r  Wrong guess!\n",
      "Computer: s\n",
      "\n",
      "Your guess: r  Wrong guess!\n",
      "Computer: s\n",
      "\n",
      "You loose!\n"
     ]
    }
   ],
   "source": [
    "def game1():\n",
    "    i, x,l = 0, 0, ['r', 's', 'p']\n",
    "    while x < 5:\n",
    "        g = input('Enter your guess. Rock(r), Paper(p) or Scissors(s)? ')\n",
    "        if g.lower() in l:\n",
    "            print('Your guess:', g, end='  ')\n",
    "            c = choice(l)\n",
    "            if g.lower() == c:\n",
    "                print('Got it!')\n",
    "                print()\n",
    "                i += 1\n",
    "            else:\n",
    "                print('Wrong guess!')\n",
    "                print('Computer:', c)\n",
    "                print()\n",
    "            if i == 3:\n",
    "                print('You win!')\n",
    "                break\n",
    "            x += 1\n",
    "            if x == 5:\n",
    "                print('You loose!')\n",
    "        else:\n",
    "            print('Invalid input, re-enter')\n",
    "            continue\n",
    "game1()"
   ]
  },
  {
   "cell_type": "markdown",
   "metadata": {},
   "source": [
    "E14"
   ]
  },
  {
   "cell_type": "code",
   "execution_count": 64,
   "metadata": {},
   "outputs": [
    {
     "name": "stdout",
     "output_type": "stream",
     "text": [
      "Your guess: t   Wrong!\n",
      "Your score: 90\n",
      "\n",
      "Your guess: h   Wrong!\n",
      "Your score: 80\n",
      "\n",
      "Your guess: h   Got it!\n",
      "Your score: 89\n",
      "\n",
      "Your guess: h   Got it!\n",
      "Your score: 98\n",
      "\n",
      "Your guess: h   Got it!\n",
      "Your score: 107\n",
      "\n",
      "Your guess: h   Got it!\n",
      "Your score: 116\n",
      "\n",
      "Your guess: h   Wrong!\n",
      "Your score: 106\n",
      "\n",
      "Your guess: h   Wrong!\n",
      "Your score: 96\n",
      "\n",
      "Your guess: h   Wrong!\n",
      "Your score: 86\n",
      "\n",
      "Your guess: h   Got it!\n",
      "Your score: 95\n",
      "\n",
      "Your guess: h   Wrong!\n",
      "Your score: 85\n",
      "\n",
      "Your guess: h   Got it!\n",
      "Your score: 94\n",
      "\n",
      "Your guess: h   Wrong!\n",
      "Your score: 84\n",
      "\n",
      "Your guess: h   Got it!\n",
      "Your score: 93\n",
      "\n",
      "Your guess: h   Got it!\n",
      "Your score: 102\n",
      "\n",
      "Your guess: h   Wrong!\n",
      "Your score: 92\n",
      "\n",
      "Your guess: h   Wrong!\n",
      "Your score: 82\n",
      "\n",
      "Your guess: h   Got it!\n",
      "Your score: 91\n",
      "\n",
      "Your guess: h   Wrong!\n",
      "Your score: 81\n",
      "\n",
      "Your guess: h   Got it!\n",
      "Your score: 90\n",
      "\n",
      "Your guess: h   Wrong!\n",
      "Your score: 80\n",
      "\n",
      "Your guess: h   Wrong!\n",
      "Your score: 70\n",
      "\n",
      "Your guess: h   Wrong!\n",
      "Your score: 60\n",
      "\n",
      "Your guess: h   Got it!\n",
      "Your score: 69\n",
      "\n",
      "Your guess: h   Got it!\n",
      "Your score: 78\n",
      "\n",
      "Your guess: h   Got it!\n",
      "Your score: 87\n",
      "\n",
      "Your guess: t   Wrong!\n",
      "Your score: 77\n",
      "\n",
      "Your guess: h   Wrong!\n",
      "Your score: 67\n",
      "\n",
      "Your guess: t   Got it!\n",
      "Your score: 76\n",
      "\n",
      "Your guess: t   Got it!\n",
      "Your score: 85\n",
      "\n",
      "Your guess: h   Wrong!\n",
      "Your score: 75\n",
      "\n",
      "Your guess: h   Got it!\n",
      "Your score: 84\n",
      "\n",
      "Your guess: t   Wrong!\n",
      "Your score: 74\n",
      "\n",
      "Your guess: h   Wrong!\n",
      "Your score: 64\n",
      "\n",
      "Your guess: t   Wrong!\n",
      "Your score: 54\n",
      "\n",
      "Your guess: h   Wrong!\n",
      "Your score: 44\n",
      "\n",
      "Your guess: t   Wrong!\n",
      "Your score: 34\n",
      "\n",
      "Your guess: h   Wrong!\n",
      "Your score: 24\n",
      "\n",
      "Your guess: t   Wrong!\n",
      "Your score: 14\n",
      "\n",
      "Your guess: h   Wrong!\n",
      "Your score: 4\n",
      "\n",
      "The game finnished\n",
      "Your score: 4\n"
     ]
    }
   ],
   "source": [
    "def game2():\n",
    "    x , l, done = 100, ['h', 't'], False\n",
    "    while not done:\n",
    "        g = input('Enter your guess. Tail(t), Head(h),Quit(q)? ')\n",
    "        if g.lower() in l:\n",
    "            print('Your guess:', g, end='   ')\n",
    "            c = choice(l)\n",
    "            if g.lower() == c:\n",
    "                print('Got it!')\n",
    "                x += 9\n",
    "                print('Your score:', x)\n",
    "                print()\n",
    "            else:\n",
    "                print('Wrong!')\n",
    "                x -= 10\n",
    "                print('Your score:', x)\n",
    "                print()\n",
    "            if x > 199 or x < 10:\n",
    "                print('The game finnished')\n",
    "                print('Your score:', x)\n",
    "                break\n",
    "        elif g.lower() == 'q':\n",
    "            break\n",
    "        else:\n",
    "            print('Invalid input, re-enter')\n",
    "            print()\n",
    "            continue\n",
    "game2()"
   ]
  },
  {
   "cell_type": "markdown",
   "metadata": {},
   "source": [
    "E15?"
   ]
  },
  {
   "cell_type": "markdown",
   "metadata": {},
   "source": [
    "E16?"
   ]
  },
  {
   "cell_type": "markdown",
   "metadata": {},
   "source": [
    "E17"
   ]
  },
  {
   "cell_type": "code",
   "execution_count": 82,
   "metadata": {},
   "outputs": [
    {
     "name": "stdout",
     "output_type": "stream",
     "text": [
      "6\n"
     ]
    }
   ],
   "source": [
    "def nth_digit(n,d,x):\n",
    "    while x > 0:\n",
    "        x -= 1\n",
    "        n *= 10\n",
    "        res = n // d\n",
    "        n = n % d\n",
    "    return res\n",
    "x = nth_digit(5,13,10)\n",
    "print(x)"
   ]
  },
  {
   "cell_type": "markdown",
   "metadata": {},
   "source": [
    "E18"
   ]
  },
  {
   "cell_type": "code",
   "execution_count": 89,
   "metadata": {},
   "outputs": [
    {
     "name": "stdout",
     "output_type": "stream",
     "text": [
      "[[0, 0, 0, 0, 0, 0], [0, 0, 0, 0, 0, 0], [0, 1, 0, 1, 0, 0], [1, 1, 1, 1, 1, 1], [0, 1, 0, 0, 0, 0], [1, 1, 0, 0, 1, 0]]\n"
     ]
    }
   ],
   "source": [
    "i, l = 0, [[0 for i in range(6)] for i in range(6)]\n",
    "while i < 12:\n",
    "    x, y = randint(0,5), randint(0,5)\n",
    "    if l[x][y] == 0:\n",
    "        l[x][y] = 1\n",
    "        i += 1\n",
    "print(l)"
   ]
  },
  {
   "cell_type": "markdown",
   "metadata": {},
   "source": [
    "E19"
   ]
  },
  {
   "cell_type": "code",
   "execution_count": 198,
   "metadata": {},
   "outputs": [
    {
     "name": "stdout",
     "output_type": "stream",
     "text": [
      "[[3, 1, 9, 4, 6, 2, 8, 5, 7], [4, 2, 1, 5, 7, 3, 9, 6, 8], [5, 3, 2, 6, 8, 4, 1, 7, 9], [6, 4, 3, 7, 9, 5, 2, 8, 1], [7, 5, 4, 8, 1, 6, 3, 9, 2], [8, 6, 5, 9, 2, 7, 4, 1, 3], [9, 7, 6, 1, 3, 8, 5, 2, 4], [1, 8, 7, 2, 4, 9, 6, 3, 5], [2, 9, 8, 3, 5, 1, 7, 4, 6]]\n"
     ]
    }
   ],
   "source": [
    "l = [1, 2, 3, 4, 5, 6, 7, 8, 9]\n",
    "shuffle(l)\n",
    "l0 = []\n",
    "for i in range(9):\n",
    "    for x in range(9):\n",
    "        l[x] = (l[x] + 1) % 9\n",
    "        if l[x] == 0:\n",
    "            l[x] = 9\n",
    "    l1 = l[ : ]\n",
    "    l0.append(l1)\n",
    "print(l0)"
   ]
  }
 ],
 "metadata": {
  "interpreter": {
   "hash": "31f2aee4e71d21fbe5cf8b01ff0e069b9275f58929596ceb00d14d90e3e16cd6"
  },
  "kernelspec": {
   "display_name": "Python 3.9.9 64-bit",
   "language": "python",
   "name": "python3"
  },
  "language_info": {
   "codemirror_mode": {
    "name": "ipython",
    "version": 3
   },
   "file_extension": ".py",
   "mimetype": "text/x-python",
   "name": "python",
   "nbconvert_exporter": "python",
   "pygments_lexer": "ipython3",
   "version": "3.9.9"
  },
  "orig_nbformat": 4
 },
 "nbformat": 4,
 "nbformat_minor": 2
}
