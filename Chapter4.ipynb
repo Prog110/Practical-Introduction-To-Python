{
 "cells": [
  {
   "cell_type": "markdown",
   "metadata": {},
   "source": [
    "E1"
   ]
  },
  {
   "cell_type": "code",
   "execution_count": null,
   "metadata": {},
   "outputs": [],
   "source": [
    "cm = eval(input('Enter a length in centimeters: '))\n",
    "if cm < 0:\n",
    "    print('Invalid input')\n",
    "else:\n",
    "    print('In inches it is {}'.format(cm/2.54))"
   ]
  },
  {
   "cell_type": "markdown",
   "metadata": {},
   "source": [
    "E2"
   ]
  },
  {
   "cell_type": "code",
   "execution_count": null,
   "metadata": {},
   "outputs": [],
   "source": [
    "t = eval(input('Enter a temperature: '))\n",
    "f = 0\n",
    "c = 1\n",
    "x = eval(input('Enter f(Fahrenheit) or c(Celsuis): '))\n",
    "if x == 0:\n",
    "    print('In Celsuis it is {}'.format((5/9) * (t - 32)))\n",
    "else:\n",
    "    print('In Fahrenheit it is {}'.format((9/5) * t + 32))\n"
   ]
  },
  {
   "cell_type": "markdown",
   "metadata": {},
   "source": [
    "E3"
   ]
  },
  {
   "cell_type": "code",
   "execution_count": null,
   "metadata": {},
   "outputs": [],
   "source": [
    "c = eval(input('Enter a temperature in Celsius: '))\n",
    "if c < -273.15:\n",
    "    print('The temperature is invalid because it is below absolute zero')\n",
    "elif c == -273.15:\n",
    "    print('The temperature is absolute 0')\n",
    "elif -273.15 < c < 0:\n",
    "    print('The temperature is below freezing')\n",
    "elif c == 0:\n",
    "    print('The temperature is at the freezing point')\n",
    "elif 0 < c < 100:\n",
    "    print('The temperature is in the normal range')\n",
    "elif c == 100:\n",
    "    print('The temperature is at the boiling point')\n",
    "else:\n",
    "    print('The temperature is above the boiling point')"
   ]
  },
  {
   "cell_type": "markdown",
   "metadata": {},
   "source": [
    "E4"
   ]
  },
  {
   "cell_type": "code",
   "execution_count": null,
   "metadata": {},
   "outputs": [],
   "source": [
    "c = int(input('How many credits have you taken?: '))\n",
    "if c < 0:\n",
    "    print('Invalid input')\n",
    "elif c <= 23:\n",
    "    print('You are a freshman')\n",
    "elif 24 <= c <= 53:\n",
    "    print('You are a sophomore')\n",
    "elif 54 <= c <= 83:\n",
    "    print('You are a junior')\n",
    "else:\n",
    "    print('You are a senior')\n",
    "    "
   ]
  },
  {
   "cell_type": "markdown",
   "metadata": {},
   "source": [
    "E5"
   ]
  },
  {
   "cell_type": "code",
   "execution_count": null,
   "metadata": {},
   "outputs": [],
   "source": [
    "# this Exercise is the same as 4.1 section\n",
    "from random import randint\n",
    "\n",
    "num = randint(1,10)\n",
    "guess = eval(input('Enter your guess: '))\n",
    "if guess == num:\n",
    "    print('You got it!')\n",
    "else:\n",
    "    print('Sorry. The number is', num)"
   ]
  },
  {
   "cell_type": "markdown",
   "metadata": {},
   "source": [
    "E6"
   ]
  },
  {
   "cell_type": "code",
   "execution_count": null,
   "metadata": {},
   "outputs": [],
   "source": [
    "i = int(input('How many items are you buying?: '))\n",
    "if i < 10:\n",
    "    print('The total cost = ${}'.format(i * 12))\n",
    "if i < 100:\n",
    "    print('The total cost = ${}'.format(i * 10))\n",
    "else:\n",
    "    print('The total cost = ${}'.format(i * 7))"
   ]
  },
  {
   "cell_type": "markdown",
   "metadata": {},
   "source": [
    "E7"
   ]
  },
  {
   "cell_type": "code",
   "execution_count": null,
   "metadata": {},
   "outputs": [],
   "source": [
    "a,b = eval(input('Enter num1: ')), eval(input('Enter num2: '))\n",
    "if abs(a - b) <= 0.001:\n",
    "    print('|a - b| = {} ==> close'.format(abs(a - b)))\n",
    "else:\n",
    "    print('|a - b| = {} ==> not close'.format(abs(a - b)))"
   ]
  },
  {
   "cell_type": "markdown",
   "metadata": {},
   "source": [
    "E8"
   ]
  },
  {
   "cell_type": "code",
   "execution_count": null,
   "metadata": {},
   "outputs": [],
   "source": [
    "y = int(input('Enter a year(e.g. 2021): '))\n",
    "if y % 4 == 0 and y % 100 != 0 or y % 400 == 0:\n",
    "    print('it is a leap year')\n",
    "else:\n",
    "    print('no, it is not a leap year')"
   ]
  },
  {
   "cell_type": "markdown",
   "metadata": {},
   "source": [
    "E9"
   ]
  },
  {
   "cell_type": "code",
   "execution_count": null,
   "metadata": {},
   "outputs": [],
   "source": [
    "n = eval(input('Enter a number: '))\n",
    "print('divisors =', end=' ')\n",
    "for i in range (n):\n",
    "    s = n%(i + 1)\n",
    "    if s == 0:\n",
    "        print(i + 1,end=' ')\n",
    "    else:\n",
    "        b = 1"
   ]
  },
  {
   "cell_type": "markdown",
   "metadata": {},
   "source": [
    "E10"
   ]
  },
  {
   "cell_type": "code",
   "execution_count": null,
   "metadata": {},
   "outputs": [],
   "source": [
    "import random\n",
    "t = 0\n",
    "f = 0\n",
    "for i in range(10):\n",
    "    a = random.randint(1,10)\n",
    "    b = random.randint(1,10)\n",
    "    ans = int(input('Question {}: {} x {} = '.format(i+1,a,b)))\n",
    "    if ans == a*b:\n",
    "        print('Right!')\n",
    "        t = t + 1\n",
    "    else:\n",
    "        print('Wrong.  The answer is {}.'.format(a*b))\n",
    "        f = f + 1\n",
    "print('Result: {} correct answers, {} wrong answers'.format(t,f))"
   ]
  },
  {
   "cell_type": "markdown",
   "metadata": {},
   "source": [
    "E11"
   ]
  },
  {
   "cell_type": "code",
   "execution_count": null,
   "metadata": {},
   "outputs": [],
   "source": [
    "h = int(input('Enter hour: '))\n",
    "m = int(input('am (1) or pm (2)? '))\n",
    "if m == 1 or m == 2:\n",
    "    f = int(input('How many hours ahead? '))\n",
    "    n = (h + f) // 12\n",
    "    if m == 1:\n",
    "        if n % 2 == 0:\n",
    "            print('New hour: {} am'.format((h + f) % 12))\n",
    "        else:\n",
    "            print('New hour: {} pm'.format((h + f) % 12))\n",
    "    else:\n",
    "        if n % 2 == 0:\n",
    "            print('New hour: {} pm'.format((h + f) % 12))\n",
    "        else:\n",
    "            print('New hour: {} am'.format((h + f) % 12))\n",
    "else:\n",
    "    print('Invalid input')"
   ]
  },
  {
   "cell_type": "markdown",
   "metadata": {},
   "source": [
    "E12"
   ]
  },
  {
   "cell_type": "code",
   "execution_count": null,
   "metadata": {},
   "outputs": [],
   "source": [
    "for i in range (200):\n",
    "    if i % 5 == 2 and i % 7 == 2 and i % 6 == 3:\n",
    "        print(i)"
   ]
  },
  {
   "cell_type": "markdown",
   "metadata": {},
   "source": [
    "E13"
   ]
  },
  {
   "cell_type": "code",
   "execution_count": null,
   "metadata": {},
   "outputs": [],
   "source": [
    "import random\n",
    "r = 1\n",
    "p = 2\n",
    "s = 3\n",
    "l = 0\n",
    "w = 0\n",
    "t = 0\n",
    "for i in range(5):\n",
    "    x = random.randint(1,3)\n",
    "    o = eval(input(('Round {}: Rock (r), Paper (p), Scissors (s)? '.format(i+1))))\n",
    "    if o == 1 or o == 2 or o == 3:\n",
    "        if o == x:\n",
    "            if x == 1:\n",
    "                print('Computer: Rock (r)\\nIt is a draw!')\n",
    "            elif x == 2:\n",
    "                print('Computer: Paper (p)\\nIt is a draw!')\n",
    "            else:\n",
    "                print('Computer: Scissors (s)\\nIt is a draw!')\n",
    "            t += 1\n",
    "        else:\n",
    "            if x == 1 and o == 2:\n",
    "                print('Computer: Rock (r)\\nYou got it!')\n",
    "                w +=1\n",
    "            elif x == 1 and o == 3:\n",
    "                print('Computer: Rock (r)\\nYou lost!')\n",
    "                l += 1\n",
    "            elif x == 2 and o == 1:\n",
    "                print('Computer: Paper (p)\\nYou lost!')\n",
    "                l += 1\n",
    "            elif x == 2 and o == 3:\n",
    "                print('Computer: Paper (p)\\nYou got it!')\n",
    "                w += 1\n",
    "            elif x == 3 and o == 1:\n",
    "                print('Computer: Scissors (s)\\nYou got it!')\n",
    "                w += 1\n",
    "            else:\n",
    "                print('Computer: Scissors (s)\\nYou lost!')\n",
    "                l += 1\n",
    "    else:\n",
    "        print('Invalid input')\n",
    "print('Result: You won: {} times\\n        Computer won: {} times\\n        Draw: {} times'.format(w,l,t))"
   ]
  }
 ],
 "metadata": {
  "kernelspec": {
   "display_name": "Python 3.10.4 64-bit",
   "language": "python",
   "name": "python3"
  },
  "language_info": {
   "name": "python",
   "version": "3.10.4"
  },
  "orig_nbformat": 4,
  "vscode": {
   "interpreter": {
    "hash": "4e87fb9651f095decd8de106e6e19502e9015860a9b023b493e487c30c191359"
   }
  }
 },
 "nbformat": 4,
 "nbformat_minor": 2
}
