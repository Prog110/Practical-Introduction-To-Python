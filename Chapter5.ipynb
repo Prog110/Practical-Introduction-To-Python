{
 "cells": [
  {
   "cell_type": "markdown",
   "metadata": {},
   "source": [
    "E1"
   ]
  },
  {
   "cell_type": "code",
   "execution_count": null,
   "metadata": {},
   "outputs": [],
   "source": [
    "count = 0\n",
    "for i in range(1,101):\n",
    "    if i**2 % 10 == 1:\n",
    "        count += 1\n",
    "print('There are {} numbers from 1 to 100 that their square end in a 1'.format(count))"
   ]
  },
  {
   "cell_type": "markdown",
   "metadata": {},
   "source": [
    "E2"
   ]
  },
  {
   "cell_type": "code",
   "execution_count": null,
   "metadata": {},
   "outputs": [],
   "source": [
    "count_1 = 0\n",
    "count_2 = 0\n",
    "for i in range(1,101):\n",
    "    if i**2 % 10 == 4:\n",
    "        count_1 += 1\n",
    "    if i**2 % 10 == 9:\n",
    "        count_2 += 1\n",
    "print('There are {} numbers from 1 to 100 that their square end in a 4'.format(count_1))\n",
    "print('There are {} numbers from 1 to 100 that their square end in a 9'.format(count_2))"
   ]
  },
  {
   "cell_type": "markdown",
   "metadata": {},
   "source": [
    "E3"
   ]
  },
  {
   "cell_type": "code",
   "execution_count": null,
   "metadata": {},
   "outputs": [],
   "source": [
    "import math\n",
    "n = eval(input('Enter a number: '))\n",
    "sum = 0\n",
    "for i in range(1,n+1):\n",
    "    sum += (i)**(-1)\n",
    "result = sum - math.log(n)\n",
    "print('result = {}'.format(result))"
   ]
  },
  {
   "cell_type": "markdown",
   "metadata": {},
   "source": [
    "E4"
   ]
  },
  {
   "cell_type": "code",
   "execution_count": null,
   "metadata": {},
   "outputs": [],
   "source": [
    "sum = 0\n",
    "for i in range(1,2001):\n",
    "    if i % 2 == 0:\n",
    "        sum -= i\n",
    "    else:\n",
    "        sum += i\n",
    "print('sum =', sum)"
   ]
  },
  {
   "cell_type": "markdown",
   "metadata": {},
   "source": [
    "E5"
   ]
  },
  {
   "cell_type": "code",
   "execution_count": null,
   "metadata": {},
   "outputs": [],
   "source": [
    "n = int(input('Enter a number: '))\n",
    "count = 0\n",
    "s = []\n",
    "for i in range(1,n+1):\n",
    "    if n % i == 0:\n",
    "        count += i\n",
    "        s.append(i)\n",
    "print(\"n's divisors = {}\\nSum of the divisors = {}\".format(s,count))"
   ]
  },
  {
   "cell_type": "markdown",
   "metadata": {},
   "source": [
    "E6"
   ]
  },
  {
   "cell_type": "code",
   "execution_count": null,
   "metadata": {},
   "outputs": [],
   "source": [
    "s1 = 0\n",
    "s2 = []\n",
    "for n in range(1,10001):\n",
    "    for i in range(1,n):\n",
    "        if n % i == 0:\n",
    "            s1 += i\n",
    "    if s1 == n:\n",
    "        s2.append(n)\n",
    "    s1 = 0\n",
    "print('Perfect numbers = {}'.format(s2))"
   ]
  },
  {
   "cell_type": "markdown",
   "metadata": {},
   "source": [
    "E7"
   ]
  },
  {
   "cell_type": "code",
   "execution_count": null,
   "metadata": {},
   "outputs": [],
   "source": [
    "n = int(input('Enter a number: '))\n",
    "flag = 0\n",
    "for i in range(2,int((n)**(1/2))+1):\n",
    "    if n % i**2 == 0:\n",
    "        flag = 1\n",
    "if flag == 1:\n",
    "    print('{} is not a squarefree number'.format(n))\n",
    "else:\n",
    "    print(\"It is a squarefree number\")\n"
   ]
  },
  {
   "cell_type": "markdown",
   "metadata": {},
   "source": [
    "E8"
   ]
  },
  {
   "cell_type": "code",
   "execution_count": null,
   "metadata": {},
   "outputs": [],
   "source": [
    "x = 0\n",
    "y = 1\n",
    "z = 2\n",
    "x, y, z = y, z, x\n",
    "print(x, y, z)"
   ]
  },
  {
   "cell_type": "markdown",
   "metadata": {},
   "source": [
    "E9"
   ]
  },
  {
   "cell_type": "code",
   "execution_count": null,
   "metadata": {},
   "outputs": [],
   "source": [
    "count = 0\n",
    "for n in range(1,1001):\n",
    "    if n != (int(n**(1/2)+0.00001))**2 and n != (int(n**(1/3)+0.00001))**3 and n != (int(n**(1/5)+0.00001))**5:\n",
    "        count += 1\n",
    "print('result =', count)"
   ]
  },
  {
   "cell_type": "markdown",
   "metadata": {},
   "source": [
    "E10"
   ]
  },
  {
   "cell_type": "code",
   "execution_count": null,
   "metadata": {},
   "outputs": [],
   "source": [
    "flag = 0\n",
    "max = int(input('Enter number1: '))\n",
    "min = int(input('Enter number2: '))\n",
    "hold_max = max\n",
    "max_2 = 0\n",
    "min_2 = 0\n",
    "if min > max:\n",
    "    max = min\n",
    "    min = hold_max\n",
    "    max_2 = min\n",
    "    min_2 = min\n",
    "else:\n",
    "    max_2 = min\n",
    "    min_2 = min\n",
    "if max or min > 100:\n",
    "    flag = 1\n",
    "s = min + max\n",
    "for i in range(8):\n",
    "    n = int(input('Enter number{}: '.format(i+3)))\n",
    "    if n > max:\n",
    "        max_2 = max\n",
    "        max = n\n",
    "    if max > n > max_2:\n",
    "        max_2 = n\n",
    "    if n < min:\n",
    "        min_2 = min\n",
    "        min = n\n",
    "    if min < n < min_2:\n",
    "        min_2 = n\n",
    "    if n > 100:\n",
    "        flag = 1\n",
    "    s += n\n",
    "print('(a) Highest score: {} lowest score: {}\\n(b) The average of the scores: {}\\n(c) The second largest score: {}'.format(max,min,s/10,max_2))\n",
    "if flag == 1:\n",
    "    print('(d) there is a value over 100')\n",
    "else:\n",
    "    print('(d) There is no value over 100')\n",
    "print('(e) The average of scores(except of the two lowest scores): {}'.format((s - min - min_2)/8))"
   ]
  },
  {
   "cell_type": "markdown",
   "metadata": {},
   "source": [
    "E11"
   ]
  },
  {
   "cell_type": "code",
   "execution_count": null,
   "metadata": {},
   "outputs": [],
   "source": [
    "n = int(input('Enter a number: '))\n",
    "result = 1\n",
    "for i in range(1,n+1):\n",
    "    result = result*i\n",
    "print('{}! = {}'.format(n, result))"
   ]
  },
  {
   "cell_type": "markdown",
   "metadata": {},
   "source": [
    "E12"
   ]
  },
  {
   "cell_type": "code",
   "execution_count": null,
   "metadata": {},
   "outputs": [],
   "source": [
    "import random\n",
    "s = 0\n",
    "w = 0\n",
    "print('In this game you should guess a random number between 1 and 10. \\nRight answer: 10 points\\nWrong answer: -1 point')\n",
    "for i in range(5):\n",
    "    n = random.randint(1,10)\n",
    "    g = int(input('Round{} Enter your guess: '.format(i+1)))\n",
    "    if g > 10:\n",
    "        print('Invalid value')\n",
    "    if g == n:\n",
    "        print('You got it!')\n",
    "        s += 10\n",
    "        w += 1\n",
    "    else:\n",
    "        print('You lost!\\nNumber = {}'.format(n))\n",
    "        s -= 1\n",
    "print('Result: You won: {} times\\n        Your score: {}'.format(w,s))\n"
   ]
  },
  {
   "cell_type": "markdown",
   "metadata": {},
   "source": [
    "E13"
   ]
  },
  {
   "cell_type": "code",
   "execution_count": null,
   "metadata": {},
   "outputs": [],
   "source": [
    "import random\n",
    "t = 0\n",
    "f = 0\n",
    "for i in range(10):\n",
    "    a = random.randint(1,10)\n",
    "    b = random.randint(1,10)\n",
    "    ans = int(input('Question {}: {} x {} = '.format(i+1,a,b)))\n",
    "    if ans == a*b:\n",
    "        print('Right!')\n",
    "        t = t + 1\n",
    "    else:\n",
    "        print('Wrong.  The answer is {}.'.format(a*b))\n",
    "        f = f + 1\n",
    "print('Result: {} correct answers, {} wrong answers'.format(t,f))"
   ]
  },
  {
   "cell_type": "markdown",
   "metadata": {},
   "source": [
    "E14"
   ]
  },
  {
   "cell_type": "code",
   "execution_count": null,
   "metadata": {},
   "outputs": [],
   "source": [
    "import random\n",
    "prize = 1\n",
    "goat = 0\n",
    "w = 0\n",
    "# Without swapping\n",
    "for i in range(10000):\n",
    "    d1 = random.randint(0,1)\n",
    "    if d1 == prize:\n",
    "        d2 = goat\n",
    "        d3 = goat\n",
    "    else:\n",
    "        d2 = random.randint(0,1)\n",
    "        if d2 == prize:\n",
    "            d3 = goat\n",
    "        else:\n",
    "            d3 = prize\n",
    "    d = random.sample(('d1','d2','d3'),1)[0]\n",
    "    if eval(d) == prize:\n",
    "        w += 1\n",
    "print('(a) Without swapping     percentage: %{}'.format(w/100))\n",
    "#  swapping\n",
    "w = 0\n",
    "for i in range(10000):\n",
    "    d1 = random.randint(0,1)\n",
    "    if d1 == prize:\n",
    "        d2 = goat\n",
    "        d3 = goat\n",
    "    else:\n",
    "        d2 = random.randint(0,1)\n",
    "        if d2 == prize:\n",
    "            d3 = goat\n",
    "        else:\n",
    "            d3 = prize\n",
    "    d_3 = ['d1','d2','d3']\n",
    "    d = random.sample(d_3,1)[0]\n",
    "    if eval(d) == prize:\n",
    "        w += 0\n",
    "    else:\n",
    "        w += 1\n",
    "print('    swapping             percentage: %{}'.format(w/100))\n",
    "# four doors\n",
    "w = 0\n",
    "# Without swapping\n",
    "for i in range(10000):\n",
    "    d1 = random.randint(0,1)\n",
    "    if d1 == prize:\n",
    "        d2 = goat\n",
    "        d3 = goat\n",
    "        d4 = goat\n",
    "    else:\n",
    "        d2 = random.randint(0,1)\n",
    "        if d2 == prize:\n",
    "            d3 = goat\n",
    "            d4 = goat           \n",
    "        else:\n",
    "            d3 = random.randint(0,1)\n",
    "            if d3 == prize:\n",
    "                d4 = goat\n",
    "            else:\n",
    "                d4 = prize\n",
    "    d = random.sample(('d1','d2','d3','d4'),1)[0]\n",
    "    if eval(d) == prize:\n",
    "        w += 1\n",
    "print('(b) Without swapping     percentage: %{}'.format(w/100))\n",
    "#  swapping\n",
    "w = 0\n",
    "for i in range(10000):\n",
    "    d1 = random.randint(0,1)\n",
    "    if d1 == prize:\n",
    "        d2 = goat\n",
    "        d3 = goat\n",
    "        d4 = goat\n",
    "    else:\n",
    "        d2 = random.randint(0,1)\n",
    "        if d2 == prize:\n",
    "            d3 = goat\n",
    "            d4 = goat\n",
    "        else:\n",
    "            d3 = random.randint(0,1)\n",
    "            if d3 == prize:\n",
    "                d4 = goat\n",
    "            else:\n",
    "                d4 = prize\n",
    "    d_4 = ['d1','d2','d3','d4']\n",
    "    d = random.sample(d_4,1)[0]\n",
    "    if d == prize:\n",
    "        w += 0\n",
    "    else:\n",
    "        d_4.remove(d)\n",
    "        d = random.sample(d_4,1)[0]\n",
    "        if eval(d) == prize:\n",
    "            w += 1\n",
    "print('    swapping             percentage: %{}'.format(w/100))"
   ]
  }
 ],
 "metadata": {
  "kernelspec": {
   "display_name": "Python 3.10.4 64-bit",
   "language": "python",
   "name": "python3"
  },
  "language_info": {
   "name": "python",
   "version": "3.10.4"
  },
  "orig_nbformat": 4,
  "vscode": {
   "interpreter": {
    "hash": "4e87fb9651f095decd8de106e6e19502e9015860a9b023b493e487c30c191359"
   }
  }
 },
 "nbformat": 4,
 "nbformat_minor": 2
}
