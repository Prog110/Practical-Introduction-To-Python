{
 "cells": [
  {
   "cell_type": "markdown",
   "metadata": {},
   "source": [
    "E1"
   ]
  },
  {
   "cell_type": "code",
   "execution_count": null,
   "metadata": {},
   "outputs": [],
   "source": [
    "from random import randint\n",
    "for i in range(50):\n",
    "    x = randint(3,6)\n",
    "    print(x)"
   ]
  },
  {
   "cell_type": "markdown",
   "metadata": {},
   "source": [
    "E2"
   ]
  },
  {
   "cell_type": "code",
   "execution_count": null,
   "metadata": {},
   "outputs": [],
   "source": [
    "from random import randint\n",
    "x = randint(1,50)\n",
    "y = randint(2,5)\n",
    "print('x =', x)\n",
    "print('y =', y, '\\n')\n",
    "print('x^y =', x**y)"
   ]
  },
  {
   "cell_type": "markdown",
   "metadata": {},
   "source": [
    "E3"
   ]
  },
  {
   "cell_type": "code",
   "execution_count": null,
   "metadata": {},
   "outputs": [],
   "source": [
    "from random import randint\n",
    "x = randint(1,10)\n",
    "for i in range(x):\n",
    "    print(i + 1, '---', 'Prog110')"
   ]
  },
  {
   "cell_type": "markdown",
   "metadata": {},
   "source": [
    "E4"
   ]
  },
  {
   "cell_type": "code",
   "execution_count": null,
   "metadata": {},
   "outputs": [],
   "source": [
    "import random\n",
    "print(random.randint(100,1000)/100)"
   ]
  },
  {
   "cell_type": "markdown",
   "metadata": {},
   "source": [
    "E5"
   ]
  },
  {
   "cell_type": "code",
   "execution_count": null,
   "metadata": {},
   "outputs": [],
   "source": [
    "import random\n",
    "for i in range(50):\n",
    "    print(random.randint(1,i+2))"
   ]
  },
  {
   "cell_type": "markdown",
   "metadata": {},
   "source": [
    "E6"
   ]
  },
  {
   "cell_type": "code",
   "execution_count": null,
   "metadata": {},
   "outputs": [],
   "source": [
    "x = eval(input('Enter value of x: '))\n",
    "y = eval(input('Enter value of y: '))\n",
    "print('value of |x - y| / (x + y) is', abs(x - y) / (x + y))"
   ]
  },
  {
   "cell_type": "markdown",
   "metadata": {},
   "source": [
    "E7"
   ]
  },
  {
   "cell_type": "code",
   "execution_count": null,
   "metadata": {},
   "outputs": [],
   "source": [
    "angle = eval(input('Enter an angle between -180° and 180°(in Degrees): '))\n",
    "if angle>=-180 and angle<=180: \n",
    "    print('Its equivalent between 0° and 360° is ', angle + 180, '°', sep = '')\n",
    "else:\n",
    "    print('it is not between -180° and 180° :)')"
   ]
  },
  {
   "cell_type": "markdown",
   "metadata": {},
   "source": [
    "E8"
   ]
  },
  {
   "cell_type": "code",
   "execution_count": null,
   "metadata": {},
   "outputs": [],
   "source": [
    "x = eval(input('Enter a number of seconds: '))\n",
    "print(x, 'seconds =', x // 60, 'minutes and', x % 60, 'seconds')"
   ]
  },
  {
   "cell_type": "markdown",
   "metadata": {},
   "source": [
    "E9"
   ]
  },
  {
   "cell_type": "code",
   "execution_count": null,
   "metadata": {},
   "outputs": [],
   "source": [
    "h1 = eval(input('Enter hour: '))\n",
    "h2 = eval(input('How many hours ahead? '))\n",
    "print('New hour:', (h1 + h2) % 12, \"o'clock\")"
   ]
  },
  {
   "cell_type": "markdown",
   "metadata": {},
   "source": [
    "E10"
   ]
  },
  {
   "cell_type": "code",
   "execution_count": null,
   "metadata": {},
   "outputs": [],
   "source": [
    "#a\n",
    "print('10.(a)', end=' ')\n",
    "p = eval(input('Enter a power: '))\n",
    "x = 2**p\n",
    "last_digit = x % 10\n",
    "print('       The last digit of 2^{} is {}'.format(p,last_digit))"
   ]
  },
  {
   "cell_type": "code",
   "execution_count": null,
   "metadata": {},
   "outputs": [],
   "source": [
    "#b\n",
    "print('10.(b)', end=' ')\n",
    "p = eval(input('Enter a power: '))\n",
    "x = 2**p\n",
    "last_two_digits = x % 100\n",
    "print('       The last 2 digits of 2^{} are {}'.format(p,last_two_digits))"
   ]
  },
  {
   "cell_type": "code",
   "execution_count": null,
   "metadata": {},
   "outputs": [],
   "source": [
    "#c\n",
    "print('10.(c)', end=' ')\n",
    "p = eval(input('Enter a power: '))\n",
    "n = eval(input('       Enter the number of digits: '))\n",
    "x = 2**p\n",
    "last_n_digits = x % 10**n\n",
    "print('       The last {} digits of 2^{} are {}'.format(n,p,last_n_digits))"
   ]
  },
  {
   "cell_type": "markdown",
   "metadata": {},
   "source": [
    "E11"
   ]
  },
  {
   "cell_type": "code",
   "execution_count": null,
   "metadata": {},
   "outputs": [],
   "source": [
    "kg = eval(input('Enter a weight in kilograms: '))\n",
    "p = kg * 2.204623\n",
    "\n",
    "print('It is {} in pounds'.format(round(p,1)))"
   ]
  },
  {
   "cell_type": "markdown",
   "metadata": {},
   "source": [
    "E12"
   ]
  },
  {
   "cell_type": "code",
   "execution_count": null,
   "metadata": {},
   "outputs": [],
   "source": [
    "import math\n",
    "f = eval(input('Enter a number to print its factorial: '))\n",
    "print('{}! = {}'.format(f,math.factorial(f)))"
   ]
  },
  {
   "cell_type": "markdown",
   "metadata": {},
   "source": [
    "E13"
   ]
  },
  {
   "cell_type": "code",
   "execution_count": null,
   "metadata": {},
   "outputs": [],
   "source": [
    "from math import *\n",
    "r = eval(input('Enter a number: '))\n",
    "print('cos({}) = {} \\nsin({}) = {} \\ntan({}) = {}'.format(r,cos(r),r,sin(r),r,tan(r)))"
   ]
  },
  {
   "cell_type": "markdown",
   "metadata": {},
   "source": [
    "E14"
   ]
  },
  {
   "cell_type": "code",
   "execution_count": null,
   "metadata": {},
   "outputs": [],
   "source": [
    "from math import *\n",
    "deg = eval(input('Enter an angle in degrees: '))\n",
    "print('sin({}°) = {}'.format(deg,sin(radians(deg))))"
   ]
  },
  {
   "cell_type": "markdown",
   "metadata": {},
   "source": [
    "E15"
   ]
  },
  {
   "cell_type": "code",
   "execution_count": null,
   "metadata": {},
   "outputs": [],
   "source": [
    "from math import *\n",
    "for i in range(24):\n",
    "    print(i * 15, '---', round(sin(radians(i * 15)),4), round(cos(radians(i * 15)),4))"
   ]
  },
  {
   "cell_type": "markdown",
   "metadata": {},
   "source": [
    "E16"
   ]
  },
  {
   "cell_type": "code",
   "execution_count": null,
   "metadata": {},
   "outputs": [],
   "source": [
    "from math import *\n",
    "Y = eval(input('Enter a year (all four digits): '))\n",
    "C = round(Y,-2) / 100\n",
    "m = (15 + C - floor(C / 4) - floor((8 * C + 13) / 25)) % 30\n",
    "n = (4 + C - floor(C / 4)) % 7\n",
    "a = Y % 4\n",
    "b = Y % 7\n",
    "c = Y % 19\n",
    "d = (19 * c + m) % 30\n",
    "e = (2 * a + 4 * b + 6 * d + n ) % 7\n",
    "if d == 29 and e == 6:\n",
    "    print('Easter date: {} - {} - {}'.format(Y,4,19))\n",
    "elif d == 28 and m == (2,5,10,13,16,21,24,39):\n",
    "    print('Easter date: {} - {} - {}'.fomrat(Y,4,18))\n",
    "elif 22 + d + e > 31:\n",
    "    print('Easter date: {} - {} - {}'.format(Y,4,int(d+e-9)))\n",
    "else:\n",
    "    print('Easter date: {} - {} - {}'.format(Y,3,int(22+d+e)))"
   ]
  },
  {
   "cell_type": "markdown",
   "metadata": {},
   "source": [
    "E17"
   ]
  },
  {
   "cell_type": "code",
   "execution_count": null,
   "metadata": {},
   "outputs": [],
   "source": [
    "y = eval(input('Enter a year (year > 1600 e.g. 2021): '))\n",
    "l = (y - 1596) // 4 - (y - 1596) // 100 + (y - 1596) // 400\n",
    "if y > 1600:\n",
    "    print('There are {} leap years between 1600 and {}'.format(l,y))\n",
    "else:\n",
    "    print('Yor input is not greater than 1600')\n"
   ]
  },
  {
   "cell_type": "markdown",
   "metadata": {},
   "source": [
    "E18"
   ]
  },
  {
   "cell_type": "code",
   "execution_count": null,
   "metadata": {},
   "outputs": [],
   "source": [
    "import random\n",
    "x = random.randint(0,100) / 100\n",
    "q = x // 0.25\n",
    "d = round((x - (q * 0.25)),2) // 0.1\n",
    "n = (x - round((q * 0.25 + d * 0.1),2)) // 0.05\n",
    "p = round((x - round((q * 0.25 + d * 0.1 + n * 0.05),2)),2) / 0.01\n",
    "print('${} = \\n       + {} quarters\\n       + {} dimes\\n       + {} nickels\\n       + {} pennies'.format(x,int(q),int(d),int(n),int(p)))"
   ]
  },
  {
   "cell_type": "markdown",
   "metadata": {},
   "source": [
    "E19"
   ]
  },
  {
   "cell_type": "code",
   "execution_count": 1,
   "metadata": {},
   "outputs": [
    {
     "name": "stdout",
     "output_type": "stream",
     "text": [
      "0 1 2 3 \n",
      "4 5 6 7 \n",
      "8 9 0 1 \n",
      "2 3 4 5 \n",
      "6 7 8 9 "
     ]
    }
   ],
   "source": [
    "w = eval(input('Enter the width: '))\n",
    "h = eval(input('Enter the height: '))\n",
    "s = ((h * w) // 9) + 1\n",
    "count_1 = 0\n",
    "count_2 = 1\n",
    "for i in range(s):\n",
    "    if count_1 < count_2 * w:\n",
    "        print('0',end=' ')\n",
    "        count_1 = count_1 + 1\n",
    "    elif count_1 == count_2 * w and count_1 < h * w:\n",
    "        print('\\n0', end=' ')\n",
    "        count_2 = count_2 + 1\n",
    "        count_1 = count_1 + 1\n",
    "    else:\n",
    "        e = 'its done!'\n",
    "    if count_1 < count_2 * w:\n",
    "        print('1',end=' ')\n",
    "        count_1 = count_1 + 1\n",
    "    elif count_1 == count_2 * w and count_1 < h * w:\n",
    "        print('\\n1')\n",
    "        count_2 = count_2 + 1\n",
    "        count_1 = count_1 + 1\n",
    "    else:\n",
    "        e = 'its done!'\n",
    "    if count_1 < count_2 * w:\n",
    "        print('2',end=' ')\n",
    "        count_1 = count_1 + 1\n",
    "    elif count_1 == count_2 * w and count_1 < h * w:\n",
    "        print('\\n2', end=' ')\n",
    "        count_2 = count_2 + 1\n",
    "        count_1 = count_1 + 1\n",
    "    else:\n",
    "        e = 'its done!'\n",
    "    if count_1 < count_2 * w:\n",
    "        print('3',end=' ')\n",
    "        count_1 = count_1 + 1\n",
    "    elif count_1 == count_2 * w and count_1 < h * w:\n",
    "        print('\\n3', end=' ')\n",
    "        count_2 = count_2 + 1\n",
    "        count_1 = count_1 + 1\n",
    "    else:\n",
    "        e = 'its done!'\n",
    "    if count_1 < count_2 * w:\n",
    "        print('4',end=' ')\n",
    "        count_1 = count_1 + 1\n",
    "    elif count_1 == count_2 * w and count_1 < h * w:\n",
    "        print('\\n4', end=' ')\n",
    "        count_2 = count_2 + 1\n",
    "        count_1 = count_1 + 1\n",
    "    else:\n",
    "        e = 'its done!'\n",
    "    if count_1 < count_2 * w:\n",
    "        print('5',end=' ')\n",
    "        count_1 = count_1 + 1\n",
    "    elif count_1 == count_2 * w and count_1 < h * w:\n",
    "        print('\\n5', end=' ')\n",
    "        count_2 = count_2 + 1\n",
    "        count_1 = count_1 + 1\n",
    "    else:\n",
    "        e = 'its done!'\n",
    "    if count_1 < count_2 * w:\n",
    "        print('6',end=' ')\n",
    "        count_1 = count_1 + 1\n",
    "    elif count_1 == count_2 * w and count_1 < h * w:\n",
    "        print('\\n6', end=' ')\n",
    "        count_2 = count_2 + 1\n",
    "        count_1 = count_1 + 1\n",
    "    else:\n",
    "        e = 'its done!'\n",
    "    if count_1 < count_2 * w:\n",
    "        print('7',end=' ')\n",
    "        count_1 = count_1 + 1\n",
    "    elif count_1 == count_2 * w and count_1 < h * w:\n",
    "        print('\\n7',end=' ')\n",
    "        count_2 = count_2 + 1\n",
    "        count_1 = count_1 + 1\n",
    "    else:\n",
    "        e = 'its done!'\n",
    "    if count_1 < count_2 * w:\n",
    "        print('8',end=' ')\n",
    "        count_1 = count_1 + 1\n",
    "    elif count_1 == count_2 * w and count_1 < h * w:\n",
    "        print('\\n8', end=' ')\n",
    "        count_2 = count_2 + 1\n",
    "        count_1 = count_1 + 1\n",
    "    else:\n",
    "        e = 'its done!'\n",
    "    if count_1 < count_2 * w:\n",
    "        print('9',end=' ')\n",
    "        count_1 = count_1 + 1\n",
    "    elif count_1 == count_2 * w and count_1 < h * w:\n",
    "        print('\\n9', end=' ')\n",
    "        count_2 = count_2 + 1\n",
    "        count_1 = count_1 + 1\n",
    "    else:\n",
    "        e = 'its done!'"
   ]
  }
 ],
 "metadata": {
  "kernelspec": {
   "display_name": "Python 3.10.4 64-bit",
   "language": "python",
   "name": "python3"
  },
  "language_info": {
   "codemirror_mode": {
    "name": "ipython",
    "version": 3
   },
   "file_extension": ".py",
   "mimetype": "text/x-python",
   "name": "python",
   "nbconvert_exporter": "python",
   "pygments_lexer": "ipython3",
   "version": "3.10.4"
  },
  "orig_nbformat": 4,
  "vscode": {
   "interpreter": {
    "hash": "4e87fb9651f095decd8de106e6e19502e9015860a9b023b493e487c30c191359"
   }
  }
 },
 "nbformat": 4,
 "nbformat_minor": 2
}
