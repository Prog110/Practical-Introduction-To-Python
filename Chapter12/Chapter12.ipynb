{
 "cells": [
  {
   "cell_type": "markdown",
   "metadata": {},
   "source": [
    "Modules"
   ]
  },
  {
   "cell_type": "code",
   "execution_count": 2,
   "metadata": {},
   "outputs": [],
   "source": [
    "#---"
   ]
  },
  {
   "cell_type": "markdown",
   "metadata": {},
   "source": [
    "E1"
   ]
  },
  {
   "cell_type": "code",
   "execution_count": 4,
   "metadata": {},
   "outputs": [],
   "source": [
    "file0 = open('E1_1.txt', 'w')\n",
    "l = [x.strip().split() for x in open('E1_0.txt')]\n",
    "for i in l:\n",
    "     i[1] = str(int(i[1]) + 5)\n",
    "     print(i[0], i[1], file = file0)\n",
    "file0.close()"
   ]
  },
  {
   "cell_type": "markdown",
   "metadata": {},
   "source": [
    "E2"
   ]
  },
  {
   "cell_type": "code",
   "execution_count": 16,
   "metadata": {},
   "outputs": [],
   "source": [
    "file0 = open('E2_1.txt', 'w')\n",
    "l = [i.strip().split() for i in open('E2_0.txt')]\n",
    "i = 0\n",
    "while i < len(l):\n",
    "     flag = 0\n",
    "     for p in range(len(l[i])):\n",
    "          if int(l[i][1]) > 75 and int(l[i][2]) > 75 and int(l[i][3]) > 75:\n",
    "               flag = 1\n",
    "     if flag == 1:\n",
    "          print(l[i][0], l[i][1], l[i][2], l[i][3], file = file0)\n",
    "     i += 1\n",
    "file0.close()"
   ]
  },
  {
   "cell_type": "markdown",
   "metadata": {},
   "source": [
    "E3"
   ]
  },
  {
   "cell_type": "code",
   "execution_count": 57,
   "metadata": {},
   "outputs": [],
   "source": [
    "file0 = open('E3_1.txt', 'w')\n",
    "l = [h.strip().split(',') for h in open('E3_0.txt') ]\n",
    "for i in l:\n",
    "     i[1], i[2] = i[1].split(':'), i[2].split(':')\n",
    "     if int(i[2][0]) - int(i[1][0]) >= 1:\n",
    "          print('{}, {}:{}, {}:{}'.format(i[0], i[1][0],i[1][1], i[2][0], i[2][1]), file=file0)\n",
    "file0.close()"
   ]
  },
  {
   "cell_type": "markdown",
   "metadata": {},
   "source": [
    "E4"
   ]
  },
  {
   "cell_type": "code",
   "execution_count": 15,
   "metadata": {},
   "outputs": [],
   "source": [
    "file1 = open('E4_1.txt', 'w')\n",
    "l = [i.strip().split('     ') for i in open('E4_0.txt')]\n",
    "for i in l:\n",
    "     i[0] = i[0].split(' ')\n",
    "     print('{} {}     {}     301-{}'.format(i[0][0].capitalize(), i[0][1].capitalize(), i[1], i[2]), file=file1)\n",
    "file1.close()     "
   ]
  },
  {
   "cell_type": "markdown",
   "metadata": {},
   "source": [
    "E5"
   ]
  },
  {
   "cell_type": "code",
   "execution_count": 31,
   "metadata": {},
   "outputs": [
    {
     "name": "stdout",
     "output_type": "stream",
     "text": [
      "['Marry', 'Dareman']\n",
      "['Michael', 'Davidman']\n"
     ]
    }
   ],
   "source": [
    "alphabet = 'ABCDEFGHIJKLMNOPQRSTUVWXYZ'\n",
    "\n",
    "l = [i.strip().split(' ') for i in open('E5_0.txt')]\n",
    "s = input('Enter a name:').upper()\n",
    "flag0, flag1 = 0, 0\n",
    "\n",
    "for i in s:\n",
    "     if i not in alphabet:\n",
    "          flag0 = 1\n",
    "          \n",
    "if flag0 == 0 and (len(s) == 2 or len(s) == 3):\n",
    "     for i in l:\n",
    "          if len(s) == 2:\n",
    "               if len(i) == 2:\n",
    "                    if i[0][0].upper() == s[0] and i[1][0].upper() == s[1]:\n",
    "                         print(i)\n",
    "                         flag1 = 1\n",
    "               elif len(i) == 3:\n",
    "                    if i[0][0].upper() == s[0] and i[2][0].upper() == s[1]:\n",
    "                         print(i)\n",
    "                         flag1 = 1\n",
    "          elif len(s) == 3:\n",
    "               if i[0][0].upper() == s[0] and i[1][0].upper() == s[1] and i[2][0].upper() == s[2]:\n",
    "                    print(i)\n",
    "                    flag1 = 1\n",
    "     if flag1 == 0:\n",
    "          print('No such a name!')\n",
    "else:\n",
    "     print('Wrong input')"
   ]
  }
 ],
 "metadata": {
  "kernelspec": {
   "display_name": "Python 3.10.4 64-bit",
   "language": "python",
   "name": "python3"
  },
  "language_info": {
   "codemirror_mode": {
    "name": "ipython",
    "version": 3
   },
   "file_extension": ".py",
   "mimetype": "text/x-python",
   "name": "python",
   "nbconvert_exporter": "python",
   "pygments_lexer": "ipython3",
   "version": "3.10.4"
  },
  "orig_nbformat": 4,
  "vscode": {
   "interpreter": {
    "hash": "4e87fb9651f095decd8de106e6e19502e9015860a9b023b493e487c30c191359"
   }
  }
 },
 "nbformat": 4,
 "nbformat_minor": 2
}
