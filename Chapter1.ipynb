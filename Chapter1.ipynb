{
 "cells": [
  {
   "cell_type": "markdown",
   "metadata": {},
   "source": [
    "E1"
   ]
  },
  {
   "cell_type": "code",
   "execution_count": null,
   "metadata": {},
   "outputs": [],
   "source": [
    "print('*'*19)\n",
    "print('*'*19)\n",
    "print('*'*19)\n",
    "print('*'*19)"
   ]
  },
  {
   "cell_type": "markdown",
   "metadata": {},
   "source": [
    "E2"
   ]
  },
  {
   "cell_type": "code",
   "execution_count": null,
   "metadata": {},
   "outputs": [],
   "source": [
    "print('*'*19)\n",
    "print('*', '*', sep='                 ')\n",
    "print('*', '*', sep='                 ')\n",
    "print('*'*19)"
   ]
  },
  {
   "cell_type": "markdown",
   "metadata": {},
   "source": [
    "E3"
   ]
  },
  {
   "cell_type": "code",
   "execution_count": null,
   "metadata": {},
   "outputs": [],
   "source": [
    "print('*')\n",
    "print('*'*2)\n",
    "print('*'*3)\n",
    "print('*'*4)"
   ]
  },
  {
   "cell_type": "markdown",
   "metadata": {},
   "source": [
    "E4"
   ]
  },
  {
   "cell_type": "code",
   "execution_count": null,
   "metadata": {},
   "outputs": [],
   "source": [
    "print('The result of (512-282)/((47*48)+5) is', (512-282)/((47*48)+5))"
   ]
  },
  {
   "cell_type": "markdown",
   "metadata": {},
   "source": [
    "E5"
   ]
  },
  {
   "cell_type": "code",
   "execution_count": null,
   "metadata": {},
   "outputs": [],
   "source": [
    "num = eval(input('Enter a number: '))\n",
    "print('The square of ', num, ' is ', num**2, '.', sep='')"
   ]
  },
  {
   "cell_type": "markdown",
   "metadata": {},
   "source": [
    "E6"
   ]
  },
  {
   "cell_type": "code",
   "execution_count": null,
   "metadata": {},
   "outputs": [],
   "source": [
    "x = eval(input('Enter a number: '))\n",
    "print(x, x*2, x*3, x*4, x*5, sep='---')"
   ]
  },
  {
   "cell_type": "markdown",
   "metadata": {},
   "source": [
    "E7"
   ]
  },
  {
   "cell_type": "code",
   "execution_count": null,
   "metadata": {},
   "outputs": [],
   "source": [
    "weight = eval(input('Enter a weight in Kilograms: '))\n",
    "print('In pounds, that is', weight*2.2)"
   ]
  },
  {
   "cell_type": "markdown",
   "metadata": {},
   "source": [
    "E8"
   ]
  },
  {
   "cell_type": "code",
   "execution_count": null,
   "metadata": {},
   "outputs": [],
   "source": [
    "num1 = eval(input('Enter number1: '))\n",
    "num2 = eval(input('Enter number2: '))\n",
    "num3 = eval(input('Enter number3: '))\n",
    "numbers = (num1, num2, num3)\n",
    "total = (sum(numbers))\n",
    "average = (sum(numbers)/3)\n",
    "print('The total is', total, 'and the average is', average)"
   ]
  },
  {
   "cell_type": "markdown",
   "metadata": {},
   "source": [
    "E9"
   ]
  },
  {
   "cell_type": "code",
   "execution_count": null,
   "metadata": {},
   "outputs": [],
   "source": [
    "price = eval(input('Enter the price: '))\n",
    "tip = eval(input('Enter the percent tip:% '))\n",
    "tip_amount = tip*0.01*price\n",
    "total_bill_amount = tip_amount+price\n",
    "print('The tip amount is', tip_amount, 'and the total bill amount is', total_bill_amount)"
   ]
  }
 ],
 "metadata": {
  "kernelspec": {
   "display_name": "Python 3.10.4 64-bit",
   "language": "python",
   "name": "python3"
  },
  "language_info": {
   "name": "python",
   "version": "3.10.4"
  },
  "orig_nbformat": 4,
  "vscode": {
   "interpreter": {
    "hash": "4e87fb9651f095decd8de106e6e19502e9015860a9b023b493e487c30c191359"
   }
  }
 },
 "nbformat": 4,
 "nbformat_minor": 2
}
