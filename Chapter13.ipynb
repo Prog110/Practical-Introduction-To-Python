{
 "cells": [
  {
   "cell_type": "markdown",
   "metadata": {},
   "source": [
    "E1"
   ]
  },
  {
   "cell_type": "code",
   "execution_count": 3,
   "metadata": {},
   "outputs": [
    {
     "name": "stdout",
     "output_type": "stream",
     "text": [
      "*****\n",
      "*****\n",
      "*****\n",
      "*****\n"
     ]
    }
   ],
   "source": [
    "def rectangle(m, n):\n",
    "    p = 1\n",
    "    while p <= m:\n",
    "        print('*' * n)\n",
    "        p += 1\n",
    "rectangle(4, 5)"
   ]
  },
  {
   "cell_type": "markdown",
   "metadata": {},
   "source": [
    "E2"
   ]
  },
  {
   "cell_type": "code",
   "execution_count": 4,
   "metadata": {},
   "outputs": [
    {
     "name": "stdout",
     "output_type": "stream",
     "text": [
      "['aa!', '487!']\n",
      "['aa!', 'asdf!', '4578!']\n"
     ]
    }
   ],
   "source": [
    "#part a\n",
    "def add_excitement_a(l):\n",
    "    flag = 0\n",
    "    if type(l) == list:\n",
    "        for i in range(len(l)):\n",
    "            if type(l[i]) != str:\n",
    "                flag = 1\n",
    "        if flag == 1:\n",
    "            print('Please enter a list of strings')\n",
    "        else:\n",
    "            i = 0\n",
    "            while i <= (len(l) - 1):\n",
    "                l[i] = l[i] + '!'\n",
    "                i += 1\n",
    "    else:\n",
    "        print('Please enter a list')\n",
    "l1 = ['aa', '487']\n",
    "add_excitement_a(l1)\n",
    "print(l1)\n",
    "#part b\n",
    "def add_excitement_b(l):\n",
    "    flag = 0\n",
    "    if type(l) == list:\n",
    "        copy = l[ : ]\n",
    "        for i in range(len(l)):\n",
    "            if type(l[i]) != str:\n",
    "                flag = 1\n",
    "        if flag == 1:\n",
    "            print('Please enter a list of strings')\n",
    "        else:\n",
    "            i = 0\n",
    "            while i <= (len(l) - 1):\n",
    "                copy[i] = copy[i] + '!'\n",
    "                i += 1\n",
    "    else:\n",
    "        print('Please enter a list')\n",
    "    return copy\n",
    "l2 = ['aa', 'asdf', '4578']\n",
    "print(add_excitement_b(l2))"
   ]
  },
  {
   "cell_type": "markdown",
   "metadata": {},
   "source": [
    "E3"
   ]
  },
  {
   "cell_type": "code",
   "execution_count": 5,
   "metadata": {},
   "outputs": [
    {
     "data": {
      "text/plain": [
       "12"
      ]
     },
     "execution_count": 5,
     "metadata": {},
     "output_type": "execute_result"
    }
   ],
   "source": [
    "def sum_digits(num):\n",
    "    s = '{}'.format(num)\n",
    "    sum = 0\n",
    "    for i in range(len(s)):\n",
    "        sum += eval(s[i])\n",
    "    return sum\n",
    "sum_digits(1047)"
   ]
  },
  {
   "cell_type": "markdown",
   "metadata": {},
   "source": [
    "E4"
   ]
  },
  {
   "cell_type": "code",
   "execution_count": 6,
   "metadata": {},
   "outputs": [
    {
     "data": {
      "text/plain": [
       "3"
      ]
     },
     "execution_count": 6,
     "metadata": {},
     "output_type": "execute_result"
    }
   ],
   "source": [
    "def digit_root(num):\n",
    "    s = '{}'.format(num)\n",
    "    while len(s) > 1:\n",
    "        sum = 0\n",
    "        for i in range(len(s)):\n",
    "            sum += eval(s[i])\n",
    "        s = '{}'.format(sum)\n",
    "    return eval(s)\n",
    "digit_root(1047)"
   ]
  },
  {
   "cell_type": "markdown",
   "metadata": {},
   "source": [
    "E5"
   ]
  },
  {
   "cell_type": "code",
   "execution_count": 3,
   "metadata": {},
   "outputs": [
    {
     "name": "stdout",
     "output_type": "stream",
     "text": [
      "The first differ location is on [4]\n"
     ]
    }
   ],
   "source": [
    "def first_diff(s1, s2):\n",
    "    first_location = []\n",
    "    if s1 == s2:\n",
    "        return -1\n",
    "    else:\n",
    "        if len(s1) >= len(s2):\n",
    "            for i in range(len(s2)):\n",
    "                if s1[i] != s2[i]:\n",
    "                    first_location = [i]\n",
    "                    break\n",
    "            return 'The first differ location is on {}'.format(first_location)\n",
    "        else:\n",
    "            for i in range(len(s1)):\n",
    "                if s1[i] != s2[i]:\n",
    "                    first_location = [i]\n",
    "                    break\n",
    "            return 'The first differ location is on {}'.format(first_location)\n",
    "m = first_diff('ert544444', 'ert59')\n",
    "print(m)"
   ]
  },
  {
   "cell_type": "markdown",
   "metadata": {},
   "source": [
    "E6"
   ]
  },
  {
   "cell_type": "code",
   "execution_count": 8,
   "metadata": {},
   "outputs": [
    {
     "name": "stdout",
     "output_type": "stream",
     "text": [
      "3.0\n"
     ]
    }
   ],
   "source": [
    "from math import factorial\n",
    "def binom(n, k):\n",
    "    result = factorial(n)/factorial(k) * factorial(n - k)\n",
    "    return result\n",
    "c = binom(3, 2)\n",
    "print(c)"
   ]
  },
  {
   "cell_type": "markdown",
   "metadata": {},
   "source": [
    "E7"
   ]
  },
  {
   "cell_type": "code",
   "execution_count": 9,
   "metadata": {},
   "outputs": [
    {
     "name": "stdout",
     "output_type": "stream",
     "text": [
      "62575\n"
     ]
    }
   ],
   "source": [
    "from random import randint\n",
    "def num_builder(n):\n",
    "    if n >= 1:\n",
    "        last_digit = randint(1,9)\n",
    "        digit = '{}'.format(last_digit)\n",
    "        for i in range(1, n):\n",
    "            x = randint(0, 9)\n",
    "            digit += '{}'.format(x)\n",
    "    else:\n",
    "        print('Enter a number bigger than 0')\n",
    "    return eval(digit)\n",
    "x = num_builder(5)\n",
    "print(x)"
   ]
  },
  {
   "cell_type": "markdown",
   "metadata": {},
   "source": [
    "E8"
   ]
  },
  {
   "cell_type": "code",
   "execution_count": 10,
   "metadata": {},
   "outputs": [
    {
     "name": "stdout",
     "output_type": "stream",
     "text": [
      "6\n"
     ]
    }
   ],
   "source": [
    "def number_of_factors(num):\n",
    "    count = 0\n",
    "    for i in range(1, num + 1):\n",
    "        if num % i == 0:\n",
    "            count += 1\n",
    "    return count\n",
    "x = number_of_factors(50)\n",
    "print(x)"
   ]
  },
  {
   "cell_type": "markdown",
   "metadata": {},
   "source": [
    "E9"
   ]
  },
  {
   "cell_type": "code",
   "execution_count": 11,
   "metadata": {},
   "outputs": [
    {
     "name": "stdout",
     "output_type": "stream",
     "text": [
      "[1, 2, 4, 5, 10, 20, 25, 50, 100]\n"
     ]
    }
   ],
   "source": [
    "def factors(num):\n",
    "    count = 0\n",
    "    l = []\n",
    "    for i in range(1, num + 1):\n",
    "        if num % i == 0:\n",
    "            l.append(i)\n",
    "    return l  \n",
    "x = factors(100)\n",
    "print(x)"
   ]
  },
  {
   "cell_type": "markdown",
   "metadata": {},
   "source": [
    "E10"
   ]
  },
  {
   "cell_type": "code",
   "execution_count": 12,
   "metadata": {},
   "outputs": [
    {
     "name": "stdout",
     "output_type": "stream",
     "text": [
      "6\n"
     ]
    }
   ],
   "source": [
    "def closest(L, n):\n",
    "    if type(L) == list and type(n) == int:\n",
    "        largest = max(L)\n",
    "        while largest > n:\n",
    "            L.remove(largest)\n",
    "            largest = max(L)\n",
    "        return largest\n",
    "    else:\n",
    "        print('Please enter L in list and n in integers')\n",
    "max = closest([1, 2, 3, 4, 5, 6, 7, 8, 9, 10], 6)\n",
    "print(max)"
   ]
  },
  {
   "cell_type": "markdown",
   "metadata": {},
   "source": [
    "E11"
   ]
  },
  {
   "cell_type": "code",
   "execution_count": 13,
   "metadata": {},
   "outputs": [
    {
     "name": "stdout",
     "output_type": "stream",
     "text": [
      "4\n"
     ]
    }
   ],
   "source": [
    "def matches(s1, s2):\n",
    "    count = 0\n",
    "    if type(s1) == str and type(s2) == str:\n",
    "        if len(s1) >= len(s2):\n",
    "            for i in range(len(s2)):\n",
    "                if s1[i] == s2[i]:\n",
    "                    count += 1\n",
    "        else:\n",
    "            for i in range(len(s2)):\n",
    "                if s1[i] == s2[i]:\n",
    "                    count += 1            \n",
    "    else:\n",
    "        print('Please Enter s1 and s2 in strings')\n",
    "    return count\n",
    "x = matches('python', 'pyth')\n",
    "print(x)"
   ]
  },
  {
   "cell_type": "markdown",
   "metadata": {},
   "source": [
    "E12"
   ]
  },
  {
   "cell_type": "code",
   "execution_count": 14,
   "metadata": {},
   "outputs": [
    {
     "name": "stdout",
     "output_type": "stream",
     "text": [
      "[2, 3, 5]\n"
     ]
    }
   ],
   "source": [
    "def findall(s, b):\n",
    "    if type(s) == str and type(b) == str:\n",
    "        count = 0\n",
    "        l = []\n",
    "        while b in s:\n",
    "            i = s.find(b)\n",
    "            l.append(i + count)\n",
    "            s = s[ : i ] + s[i + 1 : ]\n",
    "            count += 1\n",
    "    else:\n",
    "        print('Type(b) and type(s) must be str')\n",
    "    return l\n",
    "\n",
    "l = findall('missisipi', 's')\n",
    "print(l)"
   ]
  },
  {
   "cell_type": "markdown",
   "metadata": {},
   "source": [
    "E13"
   ]
  },
  {
   "cell_type": "code",
   "execution_count": 218,
   "metadata": {},
   "outputs": [
    {
     "name": "stdout",
     "output_type": "stream",
     "text": [
      "hElLoOo\n"
     ]
    }
   ],
   "source": [
    "def change_case(s):\n",
    "    if type(s) == str:\n",
    "        s = list(s)\n",
    "        x = ''\n",
    "        for i in range(len(s)):\n",
    "            if s[i].isupper():\n",
    "                s[i] = s[i].lower()\n",
    "                x += s[i]\n",
    "            else:\n",
    "                s[i] = s[i].upper()\n",
    "                x += s[i]\n",
    "    else:\n",
    "        print('Type(s) must be str')\n",
    "    return(x)\n",
    "x = change_case('HeLlOoO')\n",
    "print(x)"
   ]
  },
  {
   "cell_type": "markdown",
   "metadata": {},
   "source": [
    "E14"
   ]
  },
  {
   "cell_type": "code",
   "execution_count": 227,
   "metadata": {},
   "outputs": [
    {
     "name": "stdout",
     "output_type": "stream",
     "text": [
      "True\n"
     ]
    }
   ],
   "source": [
    "def is_sorted(l):\n",
    "    l_1 = l.copy()\n",
    "    string = []\n",
    "    integer = []\n",
    "    if type(l) == list:\n",
    "        for i in range(len(l)):\n",
    "            if type(l[i]) == str:\n",
    "                string.append(l[i])\n",
    "            else:\n",
    "                integer.append(l[i])\n",
    "        string.sort()\n",
    "        integer.sort()\n",
    "        l = integer + string\n",
    "        if l == l_1:\n",
    "            return True\n",
    "        else:\n",
    "            return False\n",
    "    else:\n",
    "        print('type(l) must be list')\n",
    "x = is_sorted([2,10,'a','z'])\n",
    "print(x)\n"
   ]
  },
  {
   "cell_type": "markdown",
   "metadata": {},
   "source": [
    "E15"
   ]
  },
  {
   "cell_type": "code",
   "execution_count": 231,
   "metadata": {},
   "outputs": [
    {
     "name": "stdout",
     "output_type": "stream",
     "text": [
      "2.0\n"
     ]
    }
   ],
   "source": [
    "def root(x, n):\n",
    "    return x**(1/n)\n",
    "print(root(64, 6))"
   ]
  },
  {
   "cell_type": "markdown",
   "metadata": {},
   "source": [
    "E16"
   ]
  },
  {
   "cell_type": "code",
   "execution_count": 39,
   "metadata": {},
   "outputs": [
    {
     "name": "stdout",
     "output_type": "stream",
     "text": [
      "True\n"
     ]
    }
   ],
   "source": [
    "def one_away(l_1, l_2):\n",
    "    if type(l_1) == str and type(l_2) == str:\n",
    "        if len(l_1) == len(l_2):\n",
    "            if l_1 == l_2:\n",
    "                return 'l_1 and l_2 are the same'\n",
    "            for i in range(len(l_1)):\n",
    "                if l_1[i] != l_2[i]:\n",
    "                    x = i\n",
    "                    break\n",
    "            if l_1[ : x] + l_1[x + 1 : ] == l_2[ : x] + l_2[x + 1 : ]:\n",
    "                return True\n",
    "            else:\n",
    "                return False\n",
    "        else:\n",
    "            return 'len(l_1) is not equal to len(l_2)'\n",
    "    else:\n",
    "        return 'Type(l_1) and type(l_2) must be str'\n",
    "x = one_away('bike', 'like')\n",
    "print(x)"
   ]
  },
  {
   "cell_type": "markdown",
   "metadata": {},
   "source": [
    "E17"
   ]
  },
  {
   "cell_type": "code",
   "execution_count": 77,
   "metadata": {},
   "outputs": [
    {
     "name": "stdout",
     "output_type": "stream",
     "text": [
      "[19, 23, 29, 31, 37, 41, 43, 47, 53, 59, 61, 67, 71, 73, 79, 83, 89, 97]\n"
     ]
    }
   ],
   "source": [
    "def primes(n = 100, start = 2):\n",
    "    l = []\n",
    "    if n < start:\n",
    "        print('n must be bigger than start')\n",
    "    else:\n",
    "        for i in range(start, n + 1):\n",
    "            x = 2\n",
    "            l.append(i)\n",
    "            while x <= round((i ** (1/2)), 0):\n",
    "                if i % x == 0:\n",
    "                    l.remove(i)\n",
    "                    break\n",
    "                else:\n",
    "                    x += 1\n",
    "    if start == 1:\n",
    "        l.remove(1)\n",
    "    return l\n",
    "x = primes(100, 19)\n",
    "print(x)"
   ]
  },
  {
   "cell_type": "markdown",
   "metadata": {},
   "source": [
    "E18"
   ]
  },
  {
   "cell_type": "code",
   "execution_count": 5,
   "metadata": {},
   "outputs": [
    {
     "name": "stdout",
     "output_type": "stream",
     "text": [
      "BEST\n"
     ]
    }
   ],
   "source": [
    "from math import *\n",
    "def base20(x):\n",
    "    l1 = ['A', 'B', 'C', 'D', 'E', 'F', 'G', 'H', 'I', 'J', 'K', 'L', 'M', 'N', 'O', 'P', 'Q', 'R', 'S', 'T']\n",
    "    l2 = []\n",
    "    n = ''\n",
    "    if x >= 20:\n",
    "        while x >= 20:\n",
    "            z = floor(x % 20)\n",
    "            l2.append(z)\n",
    "            x = floor(x / 20)\n",
    "        l2.append(x)\n",
    "        l2.reverse()\n",
    "        for i in range(len(l2)):\n",
    "            n += l1[l2[i]]\n",
    "        return n \n",
    "    else:\n",
    "        z = floor(x % 20)\n",
    "        return l1[z]\n",
    "\n",
    "x = base20(9979)\n",
    "print(x)"
   ]
  },
  {
   "cell_type": "markdown",
   "metadata": {},
   "source": [
    "E19"
   ]
  },
  {
   "cell_type": "code",
   "execution_count": 1,
   "metadata": {},
   "outputs": [
    {
     "name": "stdout",
     "output_type": "stream",
     "text": [
      "one hundred twenty-three quadrillion, four hundred fifthy-six billion, seven hundred eighty-nine million, one hundred twenty-three thousand, four hundred fifthy-six\n"
     ]
    }
   ],
   "source": [
    "def verbose(n):\n",
    "    x = {0:\"zero\",1:\"one\",2:\"two\",3:\"three\",4:\"four\",5:\"five\",6:\"six\",7:\"seven\",8:\"eight\",9:\"nine\",10:\"ten\",\n",
    "        11:\"eleven\",12:\"twelve\",13:\"thirteen\",14:\"fourteen\",15:\"fiftheen\",16:\"sixteen\",17:\"seventeen\",18:\"eighteen\",\n",
    "        19:\"nineteen\",20:\"twenty\",30:\"30\",40:\"fourty\",50:\"fifthy\",60:\"sixty\",70:\"Seventy\",80:\"eighty\",90:\"Ninety\"}\n",
    "    if n < 20:\n",
    "        return x[n]\n",
    "    if n < 100:\n",
    "        if n % 10 == 0:\n",
    "            return x[n]\n",
    "        else:\n",
    "            return x[n // 10 * 10] + '-' + x[n % 10]\n",
    "    if n < 1000:\n",
    "        if n % 100 == 0:\n",
    "            return x[n / 100] + ' hundred'\n",
    "        else:\n",
    "            return x[n // 100] + ' hundred ' + verbose(n % 100)\n",
    "    if n < 10**6:\n",
    "        if n % 1000 == 0:\n",
    "            return verbose(n / 1000) + ' thousand'\n",
    "        else:\n",
    "            return verbose(n // 1000) + ' thousand, ' + verbose(n % 1000)\n",
    "    if n < 10**9:\n",
    "        if n % 10**6 == 0:\n",
    "            return verbose(n / 10**6) + ' million'\n",
    "        else:\n",
    "            return verbose(n // 10**6) + ' million, ' + verbose(n % 10**6)\n",
    "    if n < 10**12:\n",
    "        if n % 10**9 == 0:\n",
    "            return verbose(n / 10**9) + ' billion'\n",
    "        else:\n",
    "            return verbose(n // 10**9) + ' billion, ' + verbose(n % 10**9)\n",
    "    if n < 10**15:\n",
    "        if n % 10**12 == 0:\n",
    "            return verbose(n / 10**12) + ' billion'\n",
    "        else:\n",
    "            return verbose(n // 10**12) + ' quadrillion, ' + verbose(n % 10**12)\n",
    "x = verbose(123456789123456)\n",
    "print(x)"
   ]
  },
  {
   "cell_type": "markdown",
   "metadata": {},
   "source": [
    "E20"
   ]
  },
  {
   "cell_type": "code",
   "execution_count": 15,
   "metadata": {},
   "outputs": [
    {
     "name": "stdout",
     "output_type": "stream",
     "text": [
      "[0, 1, 2, 3, 4, 5, 100, 200, 450]\n"
     ]
    }
   ],
   "source": [
    "#a\n",
    "def merge(l0, l1):\n",
    "     l = l0 + l1\n",
    "     l.sort()\n",
    "     return l\n",
    "x = merge([100,200,450], [0,1,2,3,4,5])\n",
    "print(x)"
   ]
  },
  {
   "cell_type": "code",
   "execution_count": null,
   "metadata": {},
   "outputs": [],
   "source": [
    "'''#b\n",
    "def merge(l0, l1):\n",
    "     '''"
   ]
  }
 ],
 "metadata": {
  "kernelspec": {
   "display_name": "Python 3.10.4 64-bit",
   "language": "python",
   "name": "python3"
  },
  "language_info": {
   "codemirror_mode": {
    "name": "ipython",
    "version": 3
   },
   "file_extension": ".py",
   "mimetype": "text/x-python",
   "name": "python",
   "nbconvert_exporter": "python",
   "pygments_lexer": "ipython3",
   "version": "3.10.4"
  },
  "orig_nbformat": 4,
  "vscode": {
   "interpreter": {
    "hash": "4e87fb9651f095decd8de106e6e19502e9015860a9b023b493e487c30c191359"
   }
  }
 },
 "nbformat": 4,
 "nbformat_minor": 2
}
