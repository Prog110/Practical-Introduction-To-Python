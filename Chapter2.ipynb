{
 "cells": [
  {
   "cell_type": "markdown",
   "metadata": {},
   "source": [
    "E1"
   ]
  },
  {
   "cell_type": "code",
   "execution_count": null,
   "metadata": {},
   "outputs": [],
   "source": [
    "for i in range(100):\n",
    "    print('Prog110')"
   ]
  },
  {
   "cell_type": "markdown",
   "metadata": {},
   "source": [
    "E2"
   ]
  },
  {
   "cell_type": "code",
   "execution_count": null,
   "metadata": {},
   "outputs": [],
   "source": [
    "for i in range(10000):\n",
    "    print('Prog110', end=' ')"
   ]
  },
  {
   "cell_type": "markdown",
   "metadata": {},
   "source": [
    "E3"
   ]
  },
  {
   "cell_type": "code",
   "execution_count": null,
   "metadata": {},
   "outputs": [],
   "source": [
    "for i in range(1,101):\n",
    "    print(i, 'Prog110')"
   ]
  },
  {
   "cell_type": "markdown",
   "metadata": {},
   "source": [
    "E4"
   ]
  },
  {
   "cell_type": "code",
   "execution_count": null,
   "metadata": {},
   "outputs": [],
   "source": [
    "for i in range(1,21):\n",
    "    print(i, '---', (i)**2)"
   ]
  },
  {
   "cell_type": "markdown",
   "metadata": {},
   "source": [
    "E5"
   ]
  },
  {
   "cell_type": "code",
   "execution_count": null,
   "metadata": {},
   "outputs": [],
   "source": [
    "for i in range(8,90,3):\n",
    "    print(i, end=' ')"
   ]
  },
  {
   "cell_type": "markdown",
   "metadata": {},
   "source": [
    "E6"
   ]
  },
  {
   "cell_type": "code",
   "execution_count": null,
   "metadata": {},
   "outputs": [],
   "source": [
    "for i in range(100,1,-2):\n",
    "    print(i, end=' ')"
   ]
  },
  {
   "cell_type": "markdown",
   "metadata": {},
   "source": [
    "E7"
   ]
  },
  {
   "cell_type": "code",
   "execution_count": null,
   "metadata": {},
   "outputs": [],
   "source": [
    "for i in range(10):\n",
    "    print('A', end='')\n",
    "for j in range(7):\n",
    "    print('B', end='')\n",
    "for k in range(4):\n",
    "    print('C', end='')\n",
    "    print('D', end='')\n",
    "print('E', end='')\n",
    "for l in range(6):\n",
    "    print('F', end='')\n",
    "print('G')"
   ]
  },
  {
   "cell_type": "markdown",
   "metadata": {},
   "source": [
    "E8"
   ]
  },
  {
   "cell_type": "code",
   "execution_count": null,
   "metadata": {},
   "outputs": [],
   "source": [
    "name = input('Enter your name: ')\n",
    "num = eval(input('Enter how many times to print: '))\n",
    "for i in range(num):\n",
    "    print(i+1, '---', name)"
   ]
  },
  {
   "cell_type": "markdown",
   "metadata": {},
   "source": [
    "E9"
   ]
  },
  {
   "cell_type": "code",
   "execution_count": null,
   "metadata": {},
   "outputs": [],
   "source": [
    "num = eval(input('Enter how many Fibonacci numbers to print: '))\n",
    "S1 = 0\n",
    "S2 = 1\n",
    "if num < 0:\n",
    "    print('Invalid input')\n",
    "if num == 0:\n",
    "    print(0)\n",
    "if num == 1:\n",
    "    print(1)\n",
    "if num == 2:\n",
    "    print(1, 1)\n",
    "if num > 2:\n",
    "    print(1, end=' ')\n",
    "    for i in range(num-1):\n",
    "        S2 = S1+S2\n",
    "        print(S2, end=' ')\n",
    "        S1 = S2-S1 "
   ]
  }
 ],
 "metadata": {
  "kernelspec": {
   "display_name": "Python 3.10.4 64-bit",
   "language": "python",
   "name": "python3"
  },
  "language_info": {
   "name": "python",
   "version": "3.10.4"
  },
  "orig_nbformat": 4,
  "vscode": {
   "interpreter": {
    "hash": "4e87fb9651f095decd8de106e6e19502e9015860a9b023b493e487c30c191359"
   }
  }
 },
 "nbformat": 4,
 "nbformat_minor": 2
}
